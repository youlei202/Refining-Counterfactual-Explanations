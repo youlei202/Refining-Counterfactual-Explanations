{
 "cells": [
  {
   "cell_type": "code",
   "execution_count": 1,
   "metadata": {},
   "outputs": [],
   "source": [
    "%reload_ext autoreload\n",
    "%autoreload 2"
   ]
  },
  {
   "cell_type": "code",
   "execution_count": 2,
   "metadata": {},
   "outputs": [],
   "source": [
    "import os\n",
    "import pandas as pd\n",
    "import numpy as np\n",
    "import seaborn as sns\n",
    "from scipy import stats\n",
    "\n",
    "import torch.optim as optim\n",
    "import torch\n",
    "import torch.nn as nn\n",
    "\n",
    "from sklearn.preprocessing import LabelEncoder\n",
    "\n",
    "import matplotlib.pyplot as plt\n",
    "from ipywidgets import widgets\n",
    "from IPython.display import display,clear_output\n",
    "\n",
    "import warnings\n",
    "warnings.filterwarnings(\"ignore\")"
   ]
  },
  {
   "cell_type": "code",
   "execution_count": 3,
   "metadata": {},
   "outputs": [],
   "source": [
    "from dataset import HelocDataset\n",
    "from experiments import Benchmarking\n",
    "from utils.logger_config import setup_logger\n",
    "from tqdm import tqdm\n",
    "from models.wrapper import PYTORCH_MODELS\n",
    "\n",
    "logger = setup_logger()"
   ]
  },
  {
   "cell_type": "code",
   "execution_count": 4,
   "metadata": {},
   "outputs": [],
   "source": [
    "from dataset import dataset_loader"
   ]
  },
  {
   "cell_type": "code",
   "execution_count": 5,
   "metadata": {},
   "outputs": [],
   "source": [
    "name = 'heloc'\n",
    "dataset_ares = dataset_loader(name, data_path='data/', dropped_features=[], n_bins=None)"
   ]
  },
  {
   "cell_type": "code",
   "execution_count": 6,
   "metadata": {},
   "outputs": [],
   "source": [
    "from experiments.counterfactual import *\n",
    "from sklearn.ensemble import RandomForestClassifier, AdaBoostClassifier, GradientBoostingClassifier, BaggingClassifier\n",
    "from sklearn.svm import SVC\n",
    "from models import PyTorchDNN, PyTorchLinearSVM, PyTorchRBFNet, PyTorchLogisticRegression\n",
    "from sklearn.metrics import accuracy_score, classification_report\n",
    "from sklearn.gaussian_process import GaussianProcessClassifier"
   ]
  },
  {
   "cell_type": "code",
   "execution_count": 7,
   "metadata": {},
   "outputs": [
    {
     "name": "stderr",
     "output_type": "stream",
     "text": [
      "INFO:root:BaggingClassifier accuracy: 0.6967088607594937\n",
      "INFO:root:PyTorchLogisticRegression accuracy: 0.6967088607594937\n",
      "INFO:root:PyTorchDNN accuracy: 0.6967088607594937\n",
      "INFO:root:PyTorchRBFNet accuracy: 0.6967088607594937\n",
      "INFO:root:RandomForestClassifier accuracy: 0.6967088607594937\n",
      "INFO:root:GradientBoostingClassifier accuracy: 0.6967088607594937\n",
      "INFO:root:\n",
      "\n",
      "------Compute Counterfactuals------\n",
      "INFO:root:Computing BaggingClassifier counterfactuals with DiCE\n",
      "100%|██████████| 100/100 [03:47<00:00,  2.27s/it]\n",
      "INFO:root:Skipping DisCount for BaggingClassifier due to incompatability\n",
      "INFO:root:Computing BaggingClassifier counterfactuals with KNN\n",
      "INFO:root:Computing PyTorchLogisticRegression counterfactuals with DiCE\n",
      "100%|██████████| 100/100 [01:24<00:00,  1.19it/s]\n",
      "INFO:root:Computing PyTorchLogisticRegression counterfactuals with DisCount\n",
      "INFO:root:Optimization started\n",
      "100%|██████████| 50/50 [20:23<00:00, 24.47s/it]\n",
      "INFO:root:Computing PyTorchLogisticRegression counterfactuals with KNN\n",
      "INFO:root:Computing PyTorchDNN counterfactuals with DiCE\n",
      "100%|██████████| 100/100 [01:46<00:00,  1.06s/it]\n",
      "INFO:root:Computing PyTorchDNN counterfactuals with DisCount\n",
      "INFO:root:Optimization started\n",
      "100%|██████████| 50/50 [25:51<00:00, 31.02s/it]\n",
      "INFO:root:Computing PyTorchDNN counterfactuals with KNN\n",
      "INFO:root:Computing PyTorchRBFNet counterfactuals with DiCE\n",
      "100%|██████████| 100/100 [02:16<00:00,  1.36s/it]\n",
      "INFO:root:Computing PyTorchRBFNet counterfactuals with DisCount\n",
      "INFO:root:Optimization started\n",
      " 98%|█████████▊| 49/50 [42:13<00:40, 40.16s/it]   "
     ]
    }
   ],
   "source": [
    "dataset = HelocDataset(dataset_ares=dataset_ares)\n",
    "\n",
    "input_dim = dataset.get_dataframe().shape[1] - 1\n",
    "seed = 0\n",
    "np.random.seed(seed)\n",
    "torch.manual_seed(seed)\n",
    "\n",
    "counterfactual_algorithms = [\n",
    "    'DiCE',\n",
    "    'DisCount',\n",
    "    # 'GlobeCE',\n",
    "    # 'AReS',\n",
    "    'KNN',\n",
    "]\n",
    "\n",
    "experiment = Benchmarking(\n",
    "    dataset=dataset,\n",
    "    models=[\n",
    "        (BaggingClassifier(), 'sklearn'), \n",
    "        # (GaussianProcessClassifier(),'sklearn'),\n",
    "        (PyTorchLogisticRegression(input_dim=input_dim), 'PYT'),\n",
    "        (PyTorchDNN(input_dim=input_dim), 'PYT'),\n",
    "        (PyTorchRBFNet(input_dim=input_dim, hidden_dim=input_dim), 'PYT'),\n",
    "        # (PyTorchLinearSVM(input_dim=input_dim), 'PYT'),\n",
    "        (RandomForestClassifier(), 'sklearn'), \n",
    "        (GradientBoostingClassifier(), 'sklearn'), \n",
    "\n",
    "        # (AdaBoostClassifier(), 'sklearn'), \n",
    "    ],\n",
    "    shapley_methods=[\n",
    "        \"Train_Distri\",\n",
    "        \"CF_UniformMatch\",\n",
    "        # \"CF_ExactMatch\",\n",
    "        \"CF_SingleMatch\",\n",
    "        \"CF_OTMatch\",\n",
    "        \"CF_OTMatch_2.0\", \n",
    "        # \"CF_OTMatch_50.0\",\n",
    "        # \"CF_OTMatch_100.0\",\n",
    "        # \"CF_OTMatch_10.0\",\n",
    "    ],\n",
    "    distance_metrics=[\n",
    "        'optimal_transport',\n",
    "        'mean_difference',\n",
    "        'median_difference',\n",
    "        'max_mean_discrepancy',\n",
    "    ],\n",
    "    md_baseline = False\n",
    ")\n",
    "\n",
    "experiment.train_and_evaluate_models(random_state=seed)\n",
    "experiment.models_performance()\n",
    "\n",
    "logger.info(\"\\n\\n------Compute Counterfactuals------\")\n",
    "sample_num = 100\n",
    "model_counterfactuals = {}\n",
    "for model, model_name in zip(experiment.models, experiment.model_names):\n",
    "    model_counterfactuals[model_name] = {}\n",
    "\n",
    "    for algorithm in counterfactual_algorithms:\n",
    "        if algorithm == 'DisCount' and model_name not in PYTORCH_MODELS:\n",
    "            logger.info(f'Skipping {algorithm} for {model_name} due to incompatability')\n",
    "            continue\n",
    "        logger.info(f'Computing {model_name} counterfactuals with {algorithm}')\n",
    "        function_name = f\"compute_{algorithm}_counterfactuals\"\n",
    "        try:\n",
    "            func = globals()[function_name]\n",
    "            model_counterfactuals[model_name][algorithm] = func(\n",
    "                experiment.X_test,\n",
    "                model = model,\n",
    "                target_name = experiment.dataset.target_name,\n",
    "                sample_num = sample_num,\n",
    "                experiment=experiment,\n",
    "            )\n",
    "        except KeyError:\n",
    "            print(f\"Function {function_name} is not defined.\")"
   ]
  },
  {
   "cell_type": "code",
   "execution_count": null,
   "metadata": {},
   "outputs": [],
   "source": [
    "warnings.filterwarnings(\"ignore\", category=DeprecationWarning)\n",
    "\n",
    "logger.info(\"\\n\\n------Compute Shapley Values------\")\n",
    "experiment.compute_intervention_policies(\n",
    "    model_counterfactuals=model_counterfactuals,\n",
    ");"
   ]
  },
  {
   "cell_type": "code",
   "execution_count": null,
   "metadata": {},
   "outputs": [],
   "source": [
    "experiment.distance_metrics = [\n",
    "    'optimal_transport',\n",
    "    'mean_difference',\n",
    "    'median_difference',\n",
    "    'max_mean_discrepancy',\n",
    "]"
   ]
  },
  {
   "cell_type": "code",
   "execution_count": null,
   "metadata": {},
   "outputs": [],
   "source": [
    "logger.info(\"\\n\\n------Evaluating Distance Performance Under Interventions------\")\n",
    "experiment.evaluate_distance_performance_under_interventions(\n",
    "    intervention_num_list=range(0,801,20),\n",
    "    trials_num=100,\n",
    "    replace=False,\n",
    ")"
   ]
  },
  {
   "cell_type": "code",
   "execution_count": null,
   "metadata": {},
   "outputs": [],
   "source": [
    "from experiments import plotting\n",
    "\n",
    "plotting.intervention_vs_distance(experiment, save_to_file=False)"
   ]
  },
  {
   "cell_type": "code",
   "execution_count": null,
   "metadata": {},
   "outputs": [],
   "source": [
    "import pickle\n",
    "with open(f\"pickles/{dataset.name}_distance_results.pickle\", \"wb\") as output_file:\n",
    "    pickle.dump(experiment.distance_results, output_file)"
   ]
  },
  {
   "cell_type": "code",
   "execution_count": null,
   "metadata": {},
   "outputs": [],
   "source": [
    "data = experiment.distance_results['PyTorchDNN']['KNN']"
   ]
  },
  {
   "cell_type": "code",
   "execution_count": null,
   "metadata": {},
   "outputs": [],
   "source": [
    "data['CF_UniformMatch'].keys()"
   ]
  },
  {
   "cell_type": "code",
   "execution_count": null,
   "metadata": {},
   "outputs": [],
   "source": [
    "from experiments.latex import TikzPlotGenerator"
   ]
  },
  {
   "cell_type": "code",
   "execution_count": null,
   "metadata": {},
   "outputs": [],
   "source": [
    "plot_generator = TikzPlotGenerator(data)\n",
    "print(plot_generator.generate_plot_code(\n",
    "    metric='median_difference', \n",
    "    methods=[\n",
    "        \"Train_Distri\",\n",
    "        'CF_UniformMatch',\n",
    "        'CF_SingleMatch',\n",
    "        'CF_OTMatch_2.0',\n",
    "    ]\n",
    "))"
   ]
  }
 ],
 "metadata": {
  "kernelspec": {
   "display_name": "base",
   "language": "python",
   "name": "python3"
  },
  "language_info": {
   "codemirror_mode": {
    "name": "ipython",
    "version": 3
   },
   "file_extension": ".py",
   "mimetype": "text/x-python",
   "name": "python",
   "nbconvert_exporter": "python",
   "pygments_lexer": "ipython3",
   "version": "3.9.13"
  }
 },
 "nbformat": 4,
 "nbformat_minor": 2
}
