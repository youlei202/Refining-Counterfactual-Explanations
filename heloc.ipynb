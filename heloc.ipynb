{
 "cells": [
  {
   "cell_type": "code",
   "execution_count": null,
   "metadata": {},
   "outputs": [],
   "source": [
    "%reload_ext autoreload\n",
    "%autoreload 2"
   ]
  },
  {
   "cell_type": "code",
   "execution_count": null,
   "metadata": {},
   "outputs": [],
   "source": [
    "import os\n",
    "import pandas as pd\n",
    "import numpy as np\n",
    "import seaborn as sns\n",
    "from scipy import stats\n",
    "\n",
    "import torch.optim as optim\n",
    "import torch\n",
    "import torch.nn as nn\n",
    "\n",
    "from sklearn.preprocessing import LabelEncoder\n",
    "\n",
    "import matplotlib.pyplot as plt\n",
    "from ipywidgets import widgets\n",
    "from IPython.display import display,clear_output\n",
    "\n",
    "import warnings\n",
    "warnings.filterwarnings(\"ignore\")"
   ]
  },
  {
   "cell_type": "code",
   "execution_count": null,
   "metadata": {},
   "outputs": [],
   "source": [
    "from dataset import HelocDataset\n",
    "from experiments import Benchmarking\n",
    "from utils.logger_config import setup_logger\n",
    "from tqdm import tqdm\n",
    "from models.wrapper import PYTORCH_MODELS\n",
    "\n",
    "logger = setup_logger()"
   ]
  },
  {
   "cell_type": "code",
   "execution_count": null,
   "metadata": {},
   "outputs": [],
   "source": [
    "from dataset import dataset_loader"
   ]
  },
  {
   "cell_type": "code",
   "execution_count": null,
   "metadata": {},
   "outputs": [],
   "source": [
    "name = 'heloc'\n",
    "dataset_ares = dataset_loader(name, data_path='data/', dropped_features=[], n_bins=None)"
   ]
  },
  {
   "cell_type": "code",
   "execution_count": null,
   "metadata": {},
   "outputs": [],
   "source": [
    "from experiments.counterfactual import *\n",
    "from sklearn.ensemble import RandomForestClassifier, AdaBoostClassifier, GradientBoostingClassifier\n",
    "from sklearn.svm import SVC\n",
    "from models import PyTorchDNN, PyTorchLinearSVM, PyTorchRBFNet, PyTorchLogisticRegression\n",
    "from sklearn.metrics import accuracy_score, classification_report\n",
    "from sklearn.gaussian_process import GaussianProcessClassifier"
   ]
  },
  {
   "cell_type": "code",
   "execution_count": null,
   "metadata": {},
   "outputs": [],
   "source": [
    "dataset = HelocDataset(dataset_ares=dataset_ares)\n",
    "\n",
    "input_dim = dataset.get_dataframe().shape[1] - 1\n",
    "seed = None\n",
    "# torch.manual_seed(seed)\n",
    "\n",
    "counterfactual_algorithms = [\n",
    "    # 'DiCE',\n",
    "    # 'DisCount',\n",
    "    # 'GlobeCE',\n",
    "    # 'AReS',\n",
    "    'KNN',\n",
    "]\n",
    "\n",
    "experiment = Benchmarking(\n",
    "    dataset=dataset,\n",
    "    models=[\n",
    "        # (GaussianProcessClassifier(),'sklearn'),\n",
    "        # (PyTorchLogisticRegression(input_dim=input_dim), 'PYT'),\n",
    "        (PyTorchDNN(input_dim=input_dim), 'PYT'),\n",
    "        # (PyTorchRBFNet(input_dim=input_dim, hidden_dim=input_dim), 'PYT'),\n",
    "        # (PyTorchLinearSVM(input_dim=input_dim), 'PYT'),\n",
    "        # (RandomForestClassifier(n_estimators=10), 'sklearn'), \n",
    "        # (GradientBoostingClassifier(n_estimators=10), 'sklearn'), \n",
    "        # (AdaBoostClassifier(n_estimators=10), 'sklearn'), \n",
    "    ],\n",
    "    shapley_methods=[\n",
    "        # \"Train_Distri\",\n",
    "        \"CF_UniformMatch\",\n",
    "        # \"CF_ExactMatch\",\n",
    "        \"CF_SingleMatch\",\n",
    "        # \"CF_OTMatch\",\n",
    "        \"CF_OTMatch_2.0\", \n",
    "        # \"CF_OTMatch_50.0\",\n",
    "        # \"CF_OTMatch_100.0\",\n",
    "        # \"CF_OTMatch_10.0\",\n",
    "    ],\n",
    "    distance_metrics=[\n",
    "        'optimal_transport',\n",
    "        'mean_difference',\n",
    "        'median_difference',\n",
    "        # 'max_mean_discrepancy',\n",
    "    ]\n",
    ")\n",
    "\n",
    "experiment.train_and_evaluate_models(random_state=seed)\n",
    "experiment.models_performance()\n",
    "\n",
    "logger.info(\"\\n\\n------Compute Counterfactuals------\")\n",
    "sample_num = 50\n",
    "model_counterfactuals = {}\n",
    "for model, model_name in zip(experiment.models, experiment.model_names):\n",
    "    model_counterfactuals[model_name] = {}\n",
    "\n",
    "    for algorithm in counterfactual_algorithms:\n",
    "        if algorithm == 'DisCount' and model_name not in PYTORCH_MODELS:\n",
    "            logger.info(f'Skipping {algorithm} for {model_name} due to incompatability')\n",
    "            continue\n",
    "        logger.info(f'Computing {model_name} counterfactuals with {algorithm}')\n",
    "        function_name = f\"compute_{algorithm}_counterfactuals\"\n",
    "        try:\n",
    "            func = globals()[function_name]\n",
    "            model_counterfactuals[model_name][algorithm] = func(\n",
    "                experiment.X_test,\n",
    "                model = model,\n",
    "                target_name = experiment.dataset.target_name,\n",
    "                sample_num = sample_num,\n",
    "                experiment=experiment,\n",
    "            )\n",
    "        except KeyError:\n",
    "            print(f\"Function {function_name} is not defined.\")"
   ]
  },
  {
   "cell_type": "code",
   "execution_count": null,
   "metadata": {},
   "outputs": [],
   "source": [
    "logger.info(\"\\n\\n------Compute Shapley Values------\")\n",
    "experiment.compute_shapley_values(\n",
    "    model_counterfactuals=model_counterfactuals,\n",
    ");"
   ]
  },
  {
   "cell_type": "code",
   "execution_count": null,
   "metadata": {},
   "outputs": [],
   "source": [
    "logger.info(\"\\n\\n------Evaluating Distance Performance Under Interventions------\")\n",
    "experiment.evaluate_distance_performance_under_interventions(\n",
    "    intervention_num_list=[0, 50, 100, 150, 200, 300, 400, 600],\n",
    "    trials_num=100,\n",
    "    replace=False,\n",
    ")"
   ]
  },
  {
   "cell_type": "code",
   "execution_count": null,
   "metadata": {},
   "outputs": [],
   "source": [
    "from experiments import plotting\n",
    "\n",
    "plotting.intervention_vs_distance(experiment, save_to_file=False)"
   ]
  },
  {
   "cell_type": "code",
   "execution_count": null,
   "metadata": {},
   "outputs": [],
   "source": [
    "# X_factual = model_counterfactuals['PyTorchDNN']['KNN']['X_factual']\n",
    "# X_counterfactual = model_counterfactuals['PyTorchDNN']['KNN']['X']\n",
    "\n",
    "# X_baseline = X_counterfactual\n",
    "\n",
    "# import ot\n",
    "# N = X_factual.shape[0]\n",
    "# reg = 0.1\n",
    "\n",
    "# ot_cost = ot.dist(X_factual, X_counterfactual, p=2)\n",
    "# # ot_plan = ot.bregman.sinkhorn(\n",
    "# #     np.ones(N) / N, np.ones(N) / N, ot_cost, reg=reg, numItermax=5000\n",
    "# # )\n",
    "# ot_plan = ot.emd(np.ones(N) / N, np.ones(N) / N, ot_cost)\n",
    "\n",
    "# weights = ot_plan[0]\n",
    "# weights = weights + 1e-20\n",
    "# weights = weights / (weights.sum())\n",
    "\n",
    "# indice = np.random.choice(X_baseline.shape[0], p=weights, replace=True, size=1000)\n",
    "# np.unique(indice), np.unique(indice).shape"
   ]
  },
  {
   "cell_type": "code",
   "execution_count": 205,
   "metadata": {},
   "outputs": [],
   "source": [
    "import gurobipy as gp\n",
    "from gurobipy import GRB\n",
    "import numpy as np\n",
    "from itertools import chain, combinations\n",
    "from sklearn.linear_model import LinearRegression\n",
    "import matplotlib.pyplot as plt\n"
   ]
  },
  {
   "cell_type": "code",
   "execution_count": 206,
   "metadata": {},
   "outputs": [
    {
     "data": {
      "text/plain": [
       "LinearRegression()"
      ]
     },
     "execution_count": 206,
     "metadata": {},
     "output_type": "execute_result"
    }
   ],
   "source": [
    "# Function to generate the power set of features\n",
    "def powerset(iterable):\n",
    "    s = list(iterable)\n",
    "    return list(chain.from_iterable(combinations(s, r) for r in range(len(s)+1)))\n",
    "\n",
    "# Define f(z_i) as the prediction from a trained model\n",
    "def f(model, z_i):\n",
    "    return model.predict(z_i.reshape(1, -1))[0]\n",
    "\n",
    "# Create a toy dataset\n",
    "np.random.seed(0)\n",
    "n = 3  # Number of data points\n",
    "p = 3  # Number of features\n",
    "\n",
    "# Original dataset x (nxp)\n",
    "x = np.random.rand(n, p)\n",
    "\n",
    "# Target dataset r (nxp)\n",
    "r = np.random.rand(n, p)\n",
    "\n",
    "# Target values y for the original dataset\n",
    "y = np.random.rand(n)\n",
    "\n",
    "# Train a machine learning model (linear regression) on the original dataset\n",
    "model = LinearRegression()\n",
    "model.fit(x, y)"
   ]
  },
  {
   "cell_type": "code",
   "execution_count": 207,
   "metadata": {},
   "outputs": [
    {
     "data": {
      "image/png": "[encoded data removed]",
      "text/plain": [
       "<Figure size 640x480 with 2 Axes>"
      ]
     },
     "metadata": {},
     "output_type": "display_data"
    }
   ],
   "source": [
    "# Generate the power set and create a mapping\n",
    "feature_indices = range(p)\n",
    "subsets = powerset(feature_indices)\n",
    "num_subsets = len(subsets)\n",
    "\n",
    "# Compute sizes of each subset\n",
    "s = [len(subset) for subset in subsets]\n",
    "\n",
    "# Compute g_{i, \\bb} for each data point and each subset\n",
    "g = np.zeros((n, num_subsets))\n",
    "\n",
    "for i in range(n):\n",
    "    r_i = r[i]\n",
    "    f_r_i = f(model, r_i)\n",
    "    for j, subset in enumerate(subsets):\n",
    "        z_i = x[i].copy()  # Start with the original row\n",
    "        for k in subset:\n",
    "            z_i[k] = r[i][k]  # Replace values in subset with values from r_i\n",
    "        f_z_i = f(model, z_i)\n",
    "        g[i, j] = f_z_i - f_r_i  # Compute g_{i, \\bb}\n",
    "\n",
    "g /= n\n",
    "\n",
    "# Visualize the matrix g using a heatmap\n",
    "plt.imshow(g, cmap='viridis')\n",
    "plt.colorbar()\n",
    "plt.xlabel('Subset Index')\n",
    "plt.ylabel('Data Point Index')\n",
    "plt.title('Heatmap of g_{i, \\\\bb}')\n",
    "plt.show()"
   ]
  },
  {
   "cell_type": "code",
   "execution_count": 208,
   "metadata": {},
   "outputs": [
    {
     "name": "stdout",
     "output_type": "stream",
     "text": [
      "Gurobi Optimizer version 11.0.2 build v11.0.2rc0 (win64 - Windows 11.0 (22631.2))\n"
     ]
    },
    {
     "name": "stderr",
     "output_type": "stream",
     "text": [
      "INFO:gurobipy:Gurobi Optimizer version 11.0.2 build v11.0.2rc0 (win64 - Windows 11.0 (22631.2))\n"
     ]
    },
    {
     "name": "stdout",
     "output_type": "stream",
     "text": [
      "\n"
     ]
    },
    {
     "name": "stderr",
     "output_type": "stream",
     "text": [
      "INFO:gurobipy:\n"
     ]
    },
    {
     "name": "stdout",
     "output_type": "stream",
     "text": [
      "CPU model: 11th Gen Intel(R) Core(TM) i5-1145G7 @ 2.60GHz, instruction set [SSE2|AVX|AVX2|AVX512]\n"
     ]
    },
    {
     "name": "stderr",
     "output_type": "stream",
     "text": [
      "INFO:gurobipy:CPU model: 11th Gen Intel(R) Core(TM) i5-1145G7 @ 2.60GHz, instruction set [SSE2|AVX|AVX2|AVX512]\n"
     ]
    },
    {
     "name": "stdout",
     "output_type": "stream",
     "text": [
      "Thread count: 4 physical cores, 8 logical processors, using up to 8 threads\n"
     ]
    },
    {
     "name": "stderr",
     "output_type": "stream",
     "text": [
      "INFO:gurobipy:Thread count: 4 physical cores, 8 logical processors, using up to 8 threads\n"
     ]
    },
    {
     "name": "stdout",
     "output_type": "stream",
     "text": [
      "\n"
     ]
    },
    {
     "name": "stderr",
     "output_type": "stream",
     "text": [
      "INFO:gurobipy:\n"
     ]
    },
    {
     "name": "stdout",
     "output_type": "stream",
     "text": [
      "Optimize a model with 6 rows, 25 columns and 89 nonzeros\n"
     ]
    },
    {
     "name": "stderr",
     "output_type": "stream",
     "text": [
      "INFO:gurobipy:Optimize a model with 6 rows, 25 columns and 89 nonzeros\n"
     ]
    },
    {
     "name": "stdout",
     "output_type": "stream",
     "text": [
      "Model fingerprint: 0xa3fabeeb\n"
     ]
    },
    {
     "name": "stderr",
     "output_type": "stream",
     "text": [
      "INFO:gurobipy:Model fingerprint: 0xa3fabeeb\n"
     ]
    },
    {
     "name": "stdout",
     "output_type": "stream",
     "text": [
      "Variable types: 1 continuous, 24 integer (24 binary)\n"
     ]
    },
    {
     "name": "stderr",
     "output_type": "stream",
     "text": [
      "INFO:gurobipy:Variable types: 1 continuous, 24 integer (24 binary)\n"
     ]
    },
    {
     "name": "stdout",
     "output_type": "stream",
     "text": [
      "Coefficient statistics:\n"
     ]
    },
    {
     "name": "stderr",
     "output_type": "stream",
     "text": [
      "INFO:gurobipy:Coefficient statistics:\n"
     ]
    },
    {
     "name": "stdout",
     "output_type": "stream",
     "text": [
      "  Matrix range     [1e-03, 3e+00]\n"
     ]
    },
    {
     "name": "stderr",
     "output_type": "stream",
     "text": [
      "INFO:gurobipy:  Matrix range     [1e-03, 3e+00]\n"
     ]
    },
    {
     "name": "stdout",
     "output_type": "stream",
     "text": [
      "  Objective range  [1e+00, 1e+00]\n"
     ]
    },
    {
     "name": "stderr",
     "output_type": "stream",
     "text": [
      "INFO:gurobipy:  Objective range  [1e+00, 1e+00]\n"
     ]
    },
    {
     "name": "stdout",
     "output_type": "stream",
     "text": [
      "  Bounds range     [1e+00, 1e+00]\n"
     ]
    },
    {
     "name": "stderr",
     "output_type": "stream",
     "text": [
      "INFO:gurobipy:  Bounds range     [1e+00, 1e+00]\n"
     ]
    },
    {
     "name": "stdout",
     "output_type": "stream",
     "text": [
      "  RHS range        [1e+00, 2e+00]\n"
     ]
    },
    {
     "name": "stderr",
     "output_type": "stream",
     "text": [
      "INFO:gurobipy:  RHS range        [1e+00, 2e+00]\n"
     ]
    },
    {
     "name": "stdout",
     "output_type": "stream",
     "text": [
      "Found heuristic solution: objective 0.0880172\n"
     ]
    },
    {
     "name": "stderr",
     "output_type": "stream",
     "text": [
      "INFO:gurobipy:Found heuristic solution: objective 0.0880172\n"
     ]
    },
    {
     "name": "stdout",
     "output_type": "stream",
     "text": [
      "Presolve removed 0 rows and 10 columns\n"
     ]
    },
    {
     "name": "stderr",
     "output_type": "stream",
     "text": [
      "INFO:gurobipy:Presolve removed 0 rows and 10 columns\n"
     ]
    },
    {
     "name": "stdout",
     "output_type": "stream",
     "text": [
      "Presolve time: 0.00s\n"
     ]
    },
    {
     "name": "stderr",
     "output_type": "stream",
     "text": [
      "INFO:gurobipy:Presolve time: 0.00s\n"
     ]
    },
    {
     "name": "stdout",
     "output_type": "stream",
     "text": [
      "Presolved: 6 rows, 15 columns, 49 nonzeros\n"
     ]
    },
    {
     "name": "stderr",
     "output_type": "stream",
     "text": [
      "INFO:gurobipy:Presolved: 6 rows, 15 columns, 49 nonzeros\n"
     ]
    },
    {
     "name": "stdout",
     "output_type": "stream",
     "text": [
      "Variable types: 1 continuous, 14 integer (14 binary)\n"
     ]
    },
    {
     "name": "stderr",
     "output_type": "stream",
     "text": [
      "INFO:gurobipy:Variable types: 1 continuous, 14 integer (14 binary)\n"
     ]
    },
    {
     "name": "stdout",
     "output_type": "stream",
     "text": [
      "\n"
     ]
    },
    {
     "name": "stderr",
     "output_type": "stream",
     "text": [
      "INFO:gurobipy:\n"
     ]
    },
    {
     "name": "stdout",
     "output_type": "stream",
     "text": [
      "Root relaxation: objective 0.000000e+00, 7 iterations, 0.00 seconds (0.00 work units)\n"
     ]
    },
    {
     "name": "stderr",
     "output_type": "stream",
     "text": [
      "INFO:gurobipy:Root relaxation: objective 0.000000e+00, 7 iterations, 0.00 seconds (0.00 work units)\n"
     ]
    },
    {
     "name": "stdout",
     "output_type": "stream",
     "text": [
      "\n"
     ]
    },
    {
     "name": "stderr",
     "output_type": "stream",
     "text": [
      "INFO:gurobipy:\n"
     ]
    },
    {
     "name": "stdout",
     "output_type": "stream",
     "text": [
      "    Nodes    |    Current Node    |     Objective Bounds      |     Work\n"
     ]
    },
    {
     "name": "stderr",
     "output_type": "stream",
     "text": [
      "INFO:gurobipy:    Nodes    |    Current Node    |     Objective Bounds      |     Work\n"
     ]
    },
    {
     "name": "stdout",
     "output_type": "stream",
     "text": [
      " Expl Unexpl |  Obj  Depth IntInf | Incumbent    BestBd   Gap | It/Node Time\n"
     ]
    },
    {
     "name": "stderr",
     "output_type": "stream",
     "text": [
      "INFO:gurobipy: Expl Unexpl |  Obj  Depth IntInf | Incumbent    BestBd   Gap | It/Node Time\n"
     ]
    },
    {
     "name": "stdout",
     "output_type": "stream",
     "text": [
      "\n"
     ]
    },
    {
     "name": "stderr",
     "output_type": "stream",
     "text": [
      "INFO:gurobipy:\n"
     ]
    },
    {
     "name": "stdout",
     "output_type": "stream",
     "text": [
      "     0     0    0.00000    0    4    0.08802    0.00000   100%     -    0s\n"
     ]
    },
    {
     "name": "stderr",
     "output_type": "stream",
     "text": [
      "INFO:gurobipy:     0     0    0.00000    0    4    0.08802    0.00000   100%     -    0s\n"
     ]
    },
    {
     "name": "stdout",
     "output_type": "stream",
     "text": [
      "H    0     0                       0.0455507    0.00000   100%     -    0s\n"
     ]
    },
    {
     "name": "stderr",
     "output_type": "stream",
     "text": [
      "INFO:gurobipy:H    0     0                       0.0455507    0.00000   100%     -    0s\n"
     ]
    },
    {
     "name": "stdout",
     "output_type": "stream",
     "text": [
      "H    0     0                       0.0083483    0.00000   100%     -    0s\n"
     ]
    },
    {
     "name": "stderr",
     "output_type": "stream",
     "text": [
      "INFO:gurobipy:H    0     0                       0.0083483    0.00000   100%     -    0s\n"
     ]
    },
    {
     "name": "stdout",
     "output_type": "stream",
     "text": [
      "H    0     0                       0.0011716    0.00000   100%     -    0s\n"
     ]
    },
    {
     "name": "stderr",
     "output_type": "stream",
     "text": [
      "INFO:gurobipy:H    0     0                       0.0011716    0.00000   100%     -    0s\n"
     ]
    },
    {
     "name": "stdout",
     "output_type": "stream",
     "text": [
      "\n"
     ]
    },
    {
     "name": "stderr",
     "output_type": "stream",
     "text": [
      "INFO:gurobipy:\n"
     ]
    },
    {
     "name": "stdout",
     "output_type": "stream",
     "text": [
      "Explored 1 nodes (7 simplex iterations) in 0.07 seconds (0.00 work units)\n"
     ]
    },
    {
     "name": "stderr",
     "output_type": "stream",
     "text": [
      "INFO:gurobipy:Explored 1 nodes (7 simplex iterations) in 0.07 seconds (0.00 work units)\n"
     ]
    },
    {
     "name": "stdout",
     "output_type": "stream",
     "text": [
      "Thread count was 8 (of 8 available processors)\n"
     ]
    },
    {
     "name": "stderr",
     "output_type": "stream",
     "text": [
      "INFO:gurobipy:Thread count was 8 (of 8 available processors)\n"
     ]
    },
    {
     "name": "stdout",
     "output_type": "stream",
     "text": [
      "\n"
     ]
    },
    {
     "name": "stderr",
     "output_type": "stream",
     "text": [
      "INFO:gurobipy:\n"
     ]
    },
    {
     "name": "stdout",
     "output_type": "stream",
     "text": [
      "Solution count 4: 0.00117158 0.00834833 0.0455507 0.0880172 \n"
     ]
    },
    {
     "name": "stderr",
     "output_type": "stream",
     "text": [
      "INFO:gurobipy:Solution count 4: 0.00117158 0.00834833 0.0455507 0.0880172 \n"
     ]
    },
    {
     "name": "stdout",
     "output_type": "stream",
     "text": [
      "\n"
     ]
    },
    {
     "name": "stderr",
     "output_type": "stream",
     "text": [
      "INFO:gurobipy:\n"
     ]
    },
    {
     "name": "stdout",
     "output_type": "stream",
     "text": [
      "Optimal solution found (tolerance 1.00e-04)\n"
     ]
    },
    {
     "name": "stderr",
     "output_type": "stream",
     "text": [
      "INFO:gurobipy:Optimal solution found (tolerance 1.00e-04)\n"
     ]
    },
    {
     "name": "stdout",
     "output_type": "stream",
     "text": [
      "Best objective 1.171576088666e-03, best bound 1.171576088666e-03, gap 0.0000%\n"
     ]
    },
    {
     "name": "stderr",
     "output_type": "stream",
     "text": [
      "INFO:gurobipy:Best objective 1.171576088666e-03, best bound 1.171576088666e-03, gap 0.0000%\n"
     ]
    },
    {
     "name": "stdout",
     "output_type": "stream",
     "text": [
      "Data point 0 uses subset (0,)\n",
      "Data point 1 uses subset (2,)\n",
      "Data point 2 uses subset ()\n",
      "Objective Value (eta): 0.0011715760886662485\n",
      "Total size = 2.0\n"
     ]
    }
   ],
   "source": [
    "C = 2\n",
    "\n",
    "# Create the model\n",
    "problem = gp.Model('subset_selection')\n",
    "\n",
    "# Decision variables\n",
    "a = problem.addVars(n, num_subsets, vtype=GRB.BINARY, name=\"a\")\n",
    "\n",
    "# Variable for the objective\n",
    "eta = problem.addVar(vtype=GRB.CONTINUOUS, name=\"eta\")\n",
    "\n",
    "# Objective function\n",
    "problem.setObjective(eta, GRB.MINIMIZE)\n",
    "\n",
    "# Constraints\n",
    "# Absolute value constraint\n",
    "problem.addConstr(gp.quicksum(g[i, j] * a[i, j] for i in range(n) for j in range(num_subsets)) <= eta, \"abs_pos\")\n",
    "problem.addConstr(gp.quicksum(g[i, j] * a[i, j] for i in range(n) for j in range(num_subsets)) >= -eta, \"abs_neg\")\n",
    "\n",
    "# Coverage constraint: Ensure at least one subset is selected for each data point\n",
    "problem.addConstrs((gp.quicksum(a[i, j] for j in range(num_subsets)) == 1 for i in range(n)), \"coverage\")\n",
    "\n",
    "# Capacity constraint: Ensure the total size of selected subsets does not exceed C across all data points\n",
    "problem.addConstr(gp.quicksum(s[j] * a[i, j] for i in range(n) for j in range(num_subsets)) <= C, \"capacity\")\n",
    "\n",
    "\n",
    "# Optimize the model\n",
    "problem.optimize()\n",
    "\n",
    "# Print the results\n",
    "for v in problem.getVars():\n",
    "    if v.varName != \"eta\" and v.x > 0.001:  # Only print the variables that are part of the solution\n",
    "        var_name_parts = v.varName.split('[')[1].rstrip(']').split(',')\n",
    "        i = int(var_name_parts[0])\n",
    "        j = int(var_name_parts[1])\n",
    "        subset = subsets[j]\n",
    "        print(f\"Data point {i} uses subset {subset}\")\n",
    "\n",
    "print(f\"Objective Value (eta): {eta.X}\")\n",
    "\n",
    "# Calculate the value of the constraint expression\n",
    "total_size = sum(s[j] * a[i, j].X for i in range(n) for j in range(num_subsets))\n",
    "total_size\n",
    "\n",
    "print(f\"Total size = {total_size}\")"
   ]
  },
  {
   "cell_type": "code",
   "execution_count": 209,
   "metadata": {},
   "outputs": [
    {
     "data": {
      "image/png": "[encoded data removed]",
      "text/plain": [
       "<Figure size 640x480 with 2 Axes>"
      ]
     },
     "metadata": {},
     "output_type": "display_data"
    }
   ],
   "source": [
    "s# Extract the solution for the decision variables a\n",
    "a_solution = np.zeros((n, num_subsets))\n",
    "\n",
    "for i in range(n):\n",
    "    for j in range(num_subsets):\n",
    "        if a[i, j].X > 0.5:  # Gurobi returns the value of the variable, check if it's selected\n",
    "            a_solution[i, j] = 1\n",
    "\n",
    "# Visualize the matrix a_solution using a heatmap\n",
    "plt.imshow(a_solution, cmap='gray',)\n",
    "plt.colorbar()\n",
    "plt.xlabel('Subset Index')\n",
    "plt.ylabel('Data Point Index')\n",
    "plt.title('Heatmap of Decision Variables a_{i, \\\\bb}')\n",
    "plt.show()"
   ]
  },
  {
   "cell_type": "code",
   "execution_count": null,
   "metadata": {},
   "outputs": [],
   "source": []
  }
 ],
 "metadata": {
  "kernelspec": {
   "display_name": "base",
   "language": "python",
   "name": "python3"
  },
  "language_info": {
   "codemirror_mode": {
    "name": "ipython",
    "version": 3
   },
   "file_extension": ".py",
   "mimetype": "text/x-python",
   "name": "python",
   "nbconvert_exporter": "python",
   "pygments_lexer": "ipython3",
   "version": "3.9.13"
  }
 },
 "nbformat": 4,
 "nbformat_minor": 2
}
