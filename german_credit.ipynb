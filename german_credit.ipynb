{
 "cells": [
  {
   "cell_type": "code",
   "execution_count": 95,
   "metadata": {},
   "outputs": [],
   "source": [
    "%reload_ext autoreload\n",
    "%autoreload 2"
   ]
  },
  {
   "cell_type": "code",
   "execution_count": 96,
   "metadata": {},
   "outputs": [],
   "source": [
    "import os\n",
    "import pandas as pd\n",
    "import numpy as np\n",
    "import seaborn as sns\n",
    "from scipy import stats\n",
    "\n",
    "import torch.optim as optim\n",
    "import torch\n",
    "import torch.nn as nn\n",
    "\n",
    "from sklearn.preprocessing import LabelEncoder\n",
    "\n",
    "import matplotlib.pyplot as plt\n",
    "from ipywidgets import widgets\n",
    "from IPython.display import display,clear_output\n",
    "\n",
    "import warnings\n",
    "warnings.filterwarnings(\"ignore\")"
   ]
  },
  {
   "cell_type": "code",
   "execution_count": 97,
   "metadata": {},
   "outputs": [],
   "source": [
    "from dataset import GermanCreditDataset\n",
    "from experiments import Benchmarking\n",
    "from utils.logger_config import setup_logger\n",
    "from tqdm import tqdm\n",
    "from models.wrapper import PYTORCH_MODELS\n",
    "\n",
    "logger = setup_logger()"
   ]
  },
  {
   "cell_type": "code",
   "execution_count": 98,
   "metadata": {},
   "outputs": [
    {
     "name": "stderr",
     "output_type": "stream",
     "text": [
      "INFO:root:PyTorchDNN accuracy: 0.6866666666666666\n",
      "INFO:root:\n",
      "\n",
      "------Compute Counterfactuals------\n",
      "INFO:root:Computing PyTorchDNN counterfactuals with DiCE\n",
      "100%|██████████| 50/50 [09:22<00:00, 11.25s/it]\n"
     ]
    }
   ],
   "source": [
    "from experiments.counterfactual import *\n",
    "from sklearn.ensemble import RandomForestClassifier, AdaBoostClassifier, GradientBoostingClassifier\n",
    "from sklearn.svm import SVC\n",
    "from models import PyTorchDNN, PyTorchLinearSVM, PyTorchRBFNet, PyTorchLogisticRegression\n",
    "from sklearn.metrics import accuracy_score, classification_report\n",
    "from sklearn.gaussian_process import GaussianProcessClassifier\n",
    "\n",
    "dataset = GermanCreditDataset()\n",
    "input_dim = dataset.get_dataframe().shape[1] - 1\n",
    "seed = None\n",
    "# torch.manual_seed(seed)\n",
    "\n",
    "counterfactual_algorithms = [\n",
    "    'DiCE',\n",
    "    # 'DisCount',\n",
    "    # 'GlobeCE'\n",
    "    # 'AReS',\n",
    "    # 'KNN',\n",
    "]\n",
    "\n",
    "experiment = Benchmarking(\n",
    "    dataset=dataset,\n",
    "    models=[\n",
    "        # (GaussianProcessClassifier(),'sklearn'),\n",
    "        # (PyTorchLogisticRegression(input_dim=input_dim), 'PYT'),\n",
    "        (PyTorchDNN(input_dim=input_dim), 'PYT'),\n",
    "        # (PyTorchRBFNet(input_dim=input_dim, hidden_dim=input_dim), 'PYT'),\n",
    "        # (PyTorchLinearSVM(input_dim=input_dim), 'PYT'),\n",
    "        # (RandomForestClassifier(n_estimators=10), 'sklearn'), \n",
    "        # (GradientBoostingClassifier(n_estimators=10), 'sklearn'), \n",
    "        # (AdaBoostClassifier(n_estimators=10), 'sklearn'), \n",
    "    ],\n",
    "    shapley_methods=[\n",
    "        # \"Train_Distri\",\n",
    "        \"CF_UniformMatch\",\n",
    "        # \"CF_ExactMatch\",\n",
    "        \"CF_SingleMatch\",\n",
    "        \"CF_OTMatch\",\n",
    "        \"CF_OTMatch_0.5\", \n",
    "        \"CF_OTMatch_1.0\",\n",
    "        # \"CF_OTMatch_5.0\",\n",
    "        # \"CF_OTMatch_10.0\",\n",
    "    ],\n",
    "    distance_metrics=[\n",
    "        'optimal_transport',\n",
    "        'mean_difference',\n",
    "        'median_difference',\n",
    "        # 'max_mean_discrepancy',\n",
    "    ]\n",
    ")\n",
    "\n",
    "experiment.train_and_evaluate_models(random_state=seed)\n",
    "experiment.models_performance()\n",
    "\n",
    "logger.info(\"\\n\\n------Compute Counterfactuals------\")\n",
    "sample_num = 50\n",
    "model_counterfactuals = {}\n",
    "for model, model_name in zip(experiment.models, experiment.model_names):\n",
    "    model_counterfactuals[model_name] = {}\n",
    "\n",
    "    for algorithm in counterfactual_algorithms:\n",
    "        if algorithm == 'DisCount' and model_name not in PYTORCH_MODELS:\n",
    "            logger.info(f'Skipping {algorithm} for {model_name} due to incompatability')\n",
    "            continue\n",
    "        logger.info(f'Computing {model_name} counterfactuals with {algorithm}')\n",
    "        function_name = f\"compute_{algorithm}_counterfactuals\"\n",
    "        try:\n",
    "            func = globals()[function_name]\n",
    "            model_counterfactuals[model_name][algorithm] = func(\n",
    "                experiment.X_test,\n",
    "                model = model,\n",
    "                target_name = experiment.dataset.target_name,\n",
    "                sample_num = sample_num,\n",
    "                experiment=experiment,\n",
    "            )\n",
    "        except KeyError:\n",
    "            print(f\"Function {function_name} is not defined.\")\n"
   ]
  },
  {
   "cell_type": "code",
   "execution_count": 99,
   "metadata": {},
   "outputs": [
    {
     "name": "stderr",
     "output_type": "stream",
     "text": [
      "INFO:root:\n",
      "\n",
      "------Compute Shapley Values------\n",
      "INFO:root:Shapley values for PyTorchDNN using CF_UniformMatch with counterfactual by DiCE\n"
     ]
    },
    {
     "data": {
      "application/vnd.jupyter.widget-view+json": {
       "model_id": "65bbab79d6344a14878f93de98110c61",
       "version_major": 2,
       "version_minor": 0
      },
      "text/plain": [
       "  0%|          | 0/50 [00:00<?, ?it/s]"
      ]
     },
     "metadata": {},
     "output_type": "display_data"
    },
    {
     "name": "stderr",
     "output_type": "stream",
     "text": [
      "INFO:shap:num_full_subsets = 4\n",
      "INFO:shap:phi = array([ 0.26799779,  0.13701251,  0.14179242,  0.20299441, -0.02152864,\n",
      "       -0.13360258,  0.02317151,  0.15101158,  0.03475669])\n",
      "INFO:shap:num_full_subsets = 4\n",
      "INFO:shap:phi = array([ 0.06774951, -0.04625545,  0.01570447,  0.35666878,  0.05300588,\n",
      "        0.01559606,  0.03257613,  0.33605055,  0.03861042])\n",
      "INFO:shap:num_full_subsets = 4\n",
      "INFO:shap:phi = array([ 0.22247416,  0.09265216,  0.13166027,  0.01631043,  0.04931365,\n",
      "        0.18340239, -0.07228527,  0.20884365,  0.0375383 ])\n",
      "INFO:shap:num_full_subsets = 4\n",
      "INFO:shap:phi = array([ 0.0381468 , -0.1698918 ,  0.06728555,  0.04482916,  0.05832094,\n",
      "        0.02031138,  0.13692363, -0.2459072 , -0.06692307])\n",
      "INFO:shap:num_full_subsets = 4\n",
      "INFO:shap:phi = array([0.14617399, 0.03839602, 0.13382091, 0.10324593, 0.06768272,\n",
      "       0.15090098, 0.00652679, 0.19488223, 0.02558233])\n",
      "INFO:shap:num_full_subsets = 4\n",
      "INFO:shap:phi = array([ 0.02811765,  0.07551611,  0.21806124,  0.06381364,  0.07608802,\n",
      "        0.0918534 ,  0.30664606, -0.04750078,  0.04951513])\n",
      "INFO:shap:num_full_subsets = 4\n",
      "INFO:shap:phi = array([ 0.1274104 , -0.03701357,  0.04127932,  0.03433207,  0.02787161,\n",
      "        0.20230924,  0.07562267, -0.08611667, -0.00334077])\n",
      "INFO:shap:num_full_subsets = 4\n",
      "INFO:shap:phi = array([0.12197069, 0.05273579, 0.06380587, 0.28944341, 0.04370498,\n",
      "       0.01631348, 0.0597656 , 0.05367177, 0.09840587])\n",
      "INFO:shap:num_full_subsets = 4\n",
      "INFO:shap:phi = array([ 0.07228292,  0.06386328,  0.29062666,  0.09559458,  0.03438308,\n",
      "        0.06212562, -0.05522688,  0.2767079 ,  0.02657301])\n",
      "INFO:shap:num_full_subsets = 4\n",
      "INFO:shap:phi = array([ 0.07171323, -0.06303088,  0.09091658,  0.02725385,  0.02699415,\n",
      "        0.04752188,  0.07632471,  0.29545701,  0.14968343])\n",
      "INFO:shap:num_full_subsets = 4\n",
      "INFO:shap:phi = array([ 0.02539898,  0.151973  ,  0.05217654,  0.02136042,  0.3098756 ,\n",
      "        0.15514041,  0.21971505, -0.1308572 ,  0.06531796])\n",
      "INFO:shap:num_full_subsets = 4\n",
      "INFO:shap:phi = array([ 0.02919203,  0.0588938 ,  0.05841194, -0.01492981,  0.44466355,\n",
      "        0.02252624,  0.09050726,  0.02810996,  0.15272996])\n",
      "INFO:shap:num_full_subsets = 4\n",
      "INFO:shap:phi = array([ 0.08566693, -0.0355335 ,  0.03897436,  0.14457882,  0.04636394,\n",
      "        0.22804806,  0.06731752, -0.12750103,  0.15453511])\n",
      "INFO:shap:num_full_subsets = 4\n",
      "INFO:shap:phi = array([ 0.01471269,  0.13961623, -0.02570454,  0.00928075,  0.05994267,\n",
      "        0.04790702,  0.28167307, -0.02611172,  0.03131591])\n",
      "INFO:shap:num_full_subsets = 4\n",
      "INFO:shap:phi = array([ 0.20394963,  0.1149282 ,  0.16801451,  0.01355714, -0.00441969,\n",
      "        0.13891797, -0.01892526,  0.15776685,  0.09315427])\n",
      "INFO:shap:num_full_subsets = 4\n",
      "INFO:shap:phi = array([ 0.07056777,  0.0010537 ,  0.04753387,  0.29789703, -0.11843462,\n",
      "        0.16316276,  0.02255803,  0.35508   ,  0.03008404])\n",
      "INFO:shap:num_full_subsets = 4\n",
      "INFO:shap:phi = array([0.0751868 , 0.08948391, 0.01267278, 0.05472275, 0.080225  ,\n",
      "       0.04050461, 0.07308955, 0.2957786 , 0.14471256])\n",
      "INFO:shap:num_full_subsets = 4\n",
      "INFO:shap:phi = array([ 0.09492728,  0.14006472,  0.0089073 ,  0.19423502,  0.13366318,\n",
      "       -0.01571403,  0.21338445,  0.05263969,  0.04797777])\n",
      "INFO:shap:num_full_subsets = 4\n",
      "INFO:shap:phi = array([-0.01296777, -0.04274788,  0.13001821,  0.03997241,  0.09045561,\n",
      "        0.18473395, -0.00694007,  0.19552941,  0.17915744])\n",
      "INFO:shap:num_full_subsets = 4\n",
      "INFO:shap:phi = array([0.12125041, 0.2384669 , 0.09238273, 0.08251924, 0.0703972 ,\n",
      "       0.02630466, 0.21364049, 0.01786633, 0.00342014])\n",
      "INFO:shap:num_full_subsets = 4\n",
      "INFO:shap:phi = array([ 0.22254916,  0.09437187,  0.13051624,  0.01599576,  0.04778298,\n",
      "        0.18260812, -0.06944655,  0.20807486,  0.03743952])\n",
      "INFO:shap:num_full_subsets = 4\n",
      "INFO:shap:phi = array([ 0.04365309,  0.01660894,  0.07687383, -0.0157914 ,  0.05416891,\n",
      "        0.11303359,  0.14131297, -0.01196895,  0.21046558])\n",
      "INFO:shap:num_full_subsets = 4\n",
      "INFO:shap:phi = array([ 0.05268596, -0.03619021,  0.03502851,  0.21831904,  0.04548433,\n",
      "        0.14771776,  0.09945259,  0.26084926,  0.04576487])\n",
      "INFO:shap:num_full_subsets = 4\n",
      "INFO:shap:phi = array([ 0.03619708,  0.15885562, -0.043131  ,  0.00681425,  0.04301208,\n",
      "        0.17282341,  0.08387411, -0.21494038,  0.03752445])\n",
      "INFO:shap:num_full_subsets = 4\n",
      "INFO:shap:phi = array([ 0.17938581,  0.07600642,  0.28990865,  0.0523034 ,  0.0353959 ,\n",
      "        0.02633346, -0.099211  ,  0.24560991,  0.06127765])\n",
      "INFO:shap:num_full_subsets = 4\n",
      "INFO:shap:phi = array([ 0.06642451,  0.06308952,  0.09106031,  0.00603412,  0.09749525,\n",
      "        0.14205925,  0.28277813, -0.02101323,  0.08463093])\n",
      "INFO:shap:num_full_subsets = 4\n",
      "INFO:shap:phi = array([-0.00781869, -0.05738438,  0.04131059,  0.30814141, -0.08963169,\n",
      "        0.21286952,  0.10070234,  0.09281027,  0.05325074])\n",
      "INFO:shap:num_full_subsets = 4\n",
      "INFO:shap:phi = array([ 0.08566591, -0.01266055, -0.009363  , -0.03184823,  0.01755457,\n",
      "        0.13891098,  0.00027755, -0.14201016, -0.08512341])\n",
      "INFO:shap:num_full_subsets = 4\n",
      "INFO:shap:phi = array([ 0.07183029,  0.08249342, -0.02341831, -0.04197223,  0.06012167,\n",
      "        0.08347814,  0.29334512,  0.18967282,  0.15399737])\n",
      "INFO:shap:num_full_subsets = 4\n",
      "INFO:shap:phi = array([-0.00550209,  0.02273493,  0.16747976,  0.17652849,  0.03195538,\n",
      "        0.12223768, -0.08108457,  0.23488629,  0.03580051])\n",
      "INFO:shap:num_full_subsets = 4\n",
      "INFO:shap:phi = array([0.05315764, 0.03144522, 0.0215738 , 0.02819337, 0.28858683,\n",
      "       0.0536006 , 0.27847436, 0.06053973, 0.02616695])\n",
      "INFO:shap:num_full_subsets = 4\n",
      "INFO:shap:phi = array([ 0.03264685,  0.08744666, -0.02530261, -0.01849425,  0.00610529,\n",
      "       -0.16042945,  0.02924982,  0.14040439, -0.06969186])\n",
      "INFO:shap:num_full_subsets = 4\n",
      "INFO:shap:phi = array([ 0.14687794,  0.04573175,  0.03688811, -0.00078532,  0.05036706,\n",
      "        0.20544759,  0.21765024,  0.15283687,  0.00488889])\n",
      "INFO:shap:num_full_subsets = 4\n",
      "INFO:shap:phi = array([ 0.10904216, -0.04836667,  0.05168268,  0.30971769,  0.05098596,\n",
      "        0.14270396, -0.03712875,  0.20147709,  0.07354572])\n",
      "INFO:shap:num_full_subsets = 4\n",
      "INFO:shap:phi = array([0.06117554, 0.12740995, 0.06079159, 0.02197359, 0.2327793 ,\n",
      "       0.066564  , 0.20353909, 0.05003083, 0.04584128])\n",
      "INFO:shap:num_full_subsets = 4\n",
      "INFO:shap:phi = array([ 0.10985865, -0.02336311,  0.12243662,  0.00708856,  0.06388748,\n",
      "        0.11729066, -0.01511948,  0.17925274,  0.06710132])\n",
      "INFO:shap:num_full_subsets = 4\n",
      "INFO:shap:phi = array([ 0.02380928, -0.1329143 ,  0.01791728,  0.02272867,  0.04001888,\n",
      "        0.10645187,  0.17053284, -0.38244873,  0.00624796])\n",
      "INFO:shap:num_full_subsets = 4\n",
      "INFO:shap:phi = array([ 0.20859313,  0.07400666,  0.13321675, -0.00309999,  0.04828428,\n",
      "       -0.04239521,  0.06967255,  0.14482852,  0.14458692])\n",
      "INFO:shap:num_full_subsets = 4\n",
      "INFO:shap:phi = array([ 0.06820778,  0.12944027,  0.14635252,  0.04110887,  0.14202101,\n",
      "        0.06507692, -0.03336892,  0.26287494,  0.04756448])\n",
      "INFO:shap:num_full_subsets = 4\n",
      "INFO:shap:phi = array([ 0.10905141, -0.04725666,  0.03023351,  0.0565551 ,  0.08437892,\n",
      "        0.12659772,  0.11083543,  0.12958426,  0.15738558])\n",
      "INFO:shap:num_full_subsets = 4\n",
      "INFO:shap:phi = array([ 0.06777081,  0.03513086,  0.08224802, -0.01832856,  0.05534455,\n",
      "        0.22144711, -0.04704899,  0.08726201,  0.03605981])\n",
      "INFO:shap:num_full_subsets = 4\n",
      "INFO:shap:phi = array([ 0.06877686,  0.0282311 ,  0.02432734, -0.02361613,  0.02012906,\n",
      "       -0.06983477, -0.1085006 ,  0.09989973,  0.01795786])\n",
      "INFO:shap:num_full_subsets = 4\n",
      "INFO:shap:phi = array([ 0.05414284, -0.00687874,  0.00259937, -0.00289911, -0.06698188,\n",
      "       -0.21892576,  0.12013681,  0.00588018, -0.01651528])\n",
      "INFO:shap:num_full_subsets = 4\n",
      "INFO:shap:phi = array([ 0.08966669, -0.01983169,  0.13914802,  0.08744597,  0.10434696,\n",
      "        0.14132821,  0.17047847,  0.0569963 ,  0.08402177])\n",
      "INFO:shap:num_full_subsets = 4\n",
      "INFO:shap:phi = array([ 0.10598256,  0.17661454,  0.04951275,  0.00254556,  0.05676048,\n",
      "        0.2173209 , -0.05187069,  0.32999796, -0.02062961])\n",
      "INFO:shap:num_full_subsets = 4\n",
      "INFO:shap:phi = array([0.08648937, 0.0524679 , 0.02164163, 0.02165981, 0.06097579,\n",
      "       0.16704617, 0.27314794, 0.102883  , 0.06340634])\n",
      "INFO:shap:num_full_subsets = 4\n",
      "INFO:shap:phi = array([0.0411867 , 0.05200029, 0.14596306, 0.00884792, 0.10761079,\n",
      "       0.02996569, 0.33112052, 0.04327708, 0.06277504])\n",
      "INFO:shap:num_full_subsets = 4\n",
      "INFO:shap:phi = array([0.15709661, 0.00341097, 0.14471117, 0.12107512, 0.06079157,\n",
      "       0.19672217, 0.09319647, 0.06190051, 0.02540588])\n",
      "INFO:shap:num_full_subsets = 4\n",
      "INFO:shap:phi = array([ 0.06631331, -0.05259624,  0.06515615,  0.01866296,  0.04708498,\n",
      "        0.20790328,  0.27599884, -0.1428816 ,  0.07834353])\n",
      "INFO:shap:num_full_subsets = 4\n",
      "INFO:shap:phi = array([ 0.09120068,  0.14004865,  0.03703314,  0.05743097,  0.0510235 ,\n",
      "        0.19149287,  0.32695976, -0.10475236,  0.00695233])\n",
      "INFO:root:Shapley values for PyTorchDNN using CF_SingleMatch with counterfactual by DiCE\n",
      "INFO:shap:num_full_subsets = 4\n",
      "INFO:shap:phi = array([ 0.44615461,  0.26991969,  0.20627089, -0.00094706, -0.16777077,\n",
      "        0.00323786,  0.17429556, -0.00110388])\n",
      "INFO:shap:num_full_subsets = 2\n",
      "INFO:shap:phi = array([ 0.10940281,  0.40317677, -0.01093129,  0.12037118,  0.33497625])\n",
      "INFO:shap:num_full_subsets = 3\n",
      "INFO:shap:phi = array([ 0.10954134,  0.46556952,  0.24896386,  0.17171165, -0.23666521,\n",
      "        0.14687239,  0.07807285])\n",
      "INFO:shap:num_full_subsets = 4\n",
      "INFO:shap:phi = array([ 0.11478446, -0.24359814,  0.06803696, -0.0295458 , -0.02338935,\n",
      "       -0.08758192,  0.43246858, -0.15940395, -0.0676821 ])\n",
      "INFO:shap:num_full_subsets = 4\n",
      "INFO:shap:phi = array([ 0.00419211,  0.25130711,  0.33591667, -0.08663671,  0.27171388,\n",
      "        0.19401909, -0.1269061 ,  0.13024648,  0.00833028])\n",
      "INFO:shap:num_full_subsets = 4\n",
      "INFO:shap:phi = array([ 0.00632708,  0.00393288,  0.22308494,  0.00933871, -0.10813437,\n",
      "        0.76068167, -0.02377816,  0.02949708])\n",
      "INFO:shap:num_full_subsets = 3\n",
      "INFO:shap:phi = array([ 0.21400412,  0.14780132,  0.01938636,  0.34047384, -0.20579165,\n",
      "       -0.09440977])\n",
      "INFO:shap:num_full_subsets = 3\n",
      "INFO:shap:phi = array([ 0.00736442,  0.29776415,  0.00231839,  0.44834372,  0.06554393,\n",
      "       -0.1398683 ,  0.0686912 ])\n",
      "INFO:shap:num_full_subsets = 3\n",
      "INFO:shap:phi = array([-0.01020138,  0.14276448,  0.43019414,  0.15452729, -0.14605312,\n",
      "       -0.06292955,  0.19530457])\n",
      "INFO:shap:num_full_subsets = 3\n",
      "INFO:shap:phi = array([ 0.48200505,  0.1090021 , -0.07249362, -0.10411778,  0.10575381,\n",
      "        0.22534105])\n",
      "INFO:shap:num_full_subsets = 4\n",
      "INFO:shap:phi = array([-0.00690113,  0.26228824,  0.00138362,  0.01068959,  0.17110234,\n",
      "        0.05461634,  0.61822372, -0.15018327,  0.03846385])\n",
      "INFO:shap:num_full_subsets = 4\n",
      "INFO:shap:phi = array([ 0.12547711,  0.01593217, -0.13108763, -0.05865789,  0.26408762,\n",
      "       -0.07469183,  0.53057888, -0.03567715,  0.09393169])\n",
      "INFO:shap:num_full_subsets = 4\n",
      "INFO:shap:phi = array([ 0.06353246, -0.19808715, -0.05558109,  0.19956602,  0.16935282,\n",
      "        0.16094093,  0.09519367, -0.19391314,  0.49133649])\n",
      "INFO:shap:num_full_subsets = 3\n",
      "INFO:shap:phi = array([-0.20248994, -0.12229116,  0.02307086,  0.26200201,  0.68243247,\n",
      "        0.02169593, -0.03479986])\n",
      "INFO:shap:num_full_subsets = 4\n",
      "INFO:shap:phi = array([ 0.3598909 , -0.05529968,  0.00404499,  0.05839151,  0.24662549,\n",
      "       -0.05726494,  0.24523837, -0.0259336 ])\n",
      "INFO:shap:num_full_subsets = 3\n",
      "INFO:shap:phi = array([ 0.00947402,  0.03640709,  0.14998777, -0.04799254, -0.00480733,\n",
      "        0.60831422,  0.15076672])\n",
      "INFO:shap:num_full_subsets = 3\n",
      "INFO:shap:phi = array([-3.59684224e-04,  4.05128739e-01, -8.44720925e-02, -5.08789829e-02,\n",
      "       -2.00783757e-01,  1.09712331e-01,  6.68387493e-01])\n",
      "INFO:shap:num_full_subsets = 4\n",
      "INFO:shap:phi = array([ 0.01816169,  0.44418128, -0.11238296,  0.10048163,  0.02452296,\n",
      "       -0.03701037, -0.02107448,  0.49649446,  0.07436195])\n",
      "INFO:shap:num_full_subsets = 3\n",
      "INFO:shap:phi = array([-0.01363074, -0.20023885,  0.22802646,  0.73070122, -0.03586412,\n",
      "        0.02316564,  0.15115461])\n",
      "INFO:shap:num_full_subsets = 3\n",
      "INFO:shap:phi = array([ 0.0961242 ,  0.33081955,  0.14249674,  0.45138165, -0.00331503,\n",
      "       -0.15472474,  0.05352225])\n",
      "INFO:shap:num_full_subsets = 1\n",
      "INFO:shap:phi = array([ 0.91580318,  0.00322522, -0.02515184])\n",
      "INFO:shap:num_full_subsets = 4\n",
      "INFO:shap:phi = array([-0.07392885, -0.01049148, -0.02266182,  0.05013833,  0.21401448,\n",
      "       -0.05579897,  0.21541228,  0.43500034])\n",
      "INFO:shap:num_full_subsets = 4\n",
      "INFO:shap:phi = array([ 0.17320041,  0.10485576,  0.10371342,  0.28529751,  0.15542476,\n",
      "        0.16280722, -0.25717755,  0.05411574,  0.02221752])\n",
      "INFO:shap:num_full_subsets = 3\n",
      "INFO:shap:phi = array([ 0.06768944,  0.51086868, -0.01083214, -0.14575261, -0.03591445,\n",
      "       -0.01209543])\n",
      "INFO:shap:num_full_subsets = 4\n",
      "INFO:shap:phi = array([-0.06284009,  0.15957382,  0.12370784,  0.17511046, -0.1567696 ,\n",
      "       -0.07877146,  0.42560501,  0.06322459])\n",
      "INFO:shap:num_full_subsets = 3\n",
      "INFO:shap:phi = array([-0.0445844 ,  0.23818307,  0.28834269,  0.23252007,  0.20061435,\n",
      "        0.00372817])\n",
      "INFO:shap:num_full_subsets = 2\n",
      "INFO:shap:phi = array([-0.43556316,  0.31569939,  0.16399945,  0.03162799,  0.24056204])\n",
      "INFO:shap:num_full_subsets = 3\n",
      "INFO:shap:phi = array([-0.05024982,  0.00676593, -0.01204536,  0.0433864 , -0.18505528,\n",
      "        0.18442246, -0.04117589])\n",
      "INFO:shap:num_full_subsets = 3\n",
      "INFO:shap:phi = array([-0.00716175,  0.08855041, -0.1401274 ,  0.04370837,  0.67339648,\n",
      "        0.15383387,  0.16919076])\n",
      "INFO:shap:num_full_subsets = 4\n",
      "INFO:shap:phi = array([ 0.05196007,  0.0112821 ,  0.18912375,  0.29752596,  0.05295511,\n",
      "        0.01893565, -0.29806803,  0.3920831 ,  0.11806584])\n",
      "INFO:shap:num_full_subsets = 3\n",
      "INFO:shap:phi = array([-0.0028147 ,  0.08944458, -0.08811348,  0.48954612,  0.40194989,\n",
      "       -0.14673972, -0.21368076])\n",
      "INFO:shap:num_full_subsets = 3\n",
      "INFO:shap:phi = array([-0.05859322,  0.02257796, -0.39237314, -0.06482537,  0.45753593,\n",
      "        0.14116824])\n",
      "INFO:shap:num_full_subsets = 4\n",
      "INFO:shap:phi = array([ 0.50209694,  0.24135012, -0.09276065,  0.26234064,  0.20744108,\n",
      "        0.10394542, -0.30403007, -0.28563035])\n",
      "INFO:shap:num_full_subsets = 4\n",
      "INFO:shap:phi = array([ 0.35631606, -0.13124763, -0.00887169,  0.23506995,  0.22320691,\n",
      "       -0.23342347,  0.2318757 , -0.00371274])\n",
      "INFO:shap:num_full_subsets = 4\n",
      "INFO:shap:phi = array([-0.03008362,  0.18478987,  0.05862678,  0.35061527, -0.06272534,\n",
      "        0.04037997,  0.44726531,  0.00161261])\n",
      "INFO:shap:num_full_subsets = 3\n",
      "INFO:shap:phi = array([ 0.20720978,  0.16426012, -0.26133285,  0.08729897,  0.04170033,\n",
      "        0.16077924, -0.09325258])\n",
      "INFO:shap:num_full_subsets = 3\n",
      "INFO:shap:phi = array([-0.04506286, -0.023377  , -0.00340234,  0.21130775, -0.46697377,\n",
      "       -0.06306085])\n",
      "INFO:shap:num_full_subsets = 4\n",
      "INFO:shap:phi = array([ 0.14790985,  0.25430253,  0.16607086,  0.21893801, -0.17953888,\n",
      "        0.02331999,  0.15956615,  0.07795102])\n",
      "INFO:shap:num_full_subsets = 3\n",
      "INFO:shap:phi = array([ 0.16326228,  0.00334775, -0.01076519,  0.00166468,  0.37263088,\n",
      "       -0.06391998,  0.53261773])\n",
      "INFO:shap:num_full_subsets = 3\n",
      "INFO:shap:phi = array([-0.01432695, -0.12471784,  0.13446347,  0.10228677,  0.18725042,\n",
      "        0.02675717,  0.15309695])\n",
      "INFO:shap:num_full_subsets = 4\n",
      "INFO:shap:phi = array([-0.00167354,  0.12758889,  0.14973127, -0.06534401,  0.28840834,\n",
      "       -0.1494035 ,  0.1128299 ,  0.17413326])\n",
      "INFO:shap:num_full_subsets = 3\n",
      "INFO:shap:phi = array([ 0.06475038,  0.0257614 ,  0.02226984, -0.22473264, -0.21923982,\n",
      "        0.27507842,  0.17533927])\n",
      "INFO:shap:num_full_subsets = 3\n",
      "INFO:shap:phi = array([ 0.06195435, -0.21397224, -0.16913131, -0.2073824 ,  0.03692089,\n",
      "        0.1601747 , -0.0030966 ])\n",
      "INFO:shap:num_full_subsets = 3\n",
      "INFO:shap:phi = array([-0.07850684,  0.27707545,  0.08015552, -0.00338343,  0.69688828,\n",
      "        0.0201887 , -0.03405196])\n",
      "INFO:shap:num_full_subsets = 3\n",
      "INFO:shap:phi = array([ 0.02519083,  0.16761965,  0.17023572,  0.08886943, -0.01269489,\n",
      "        0.16672765,  0.15313292])\n",
      "INFO:shap:num_full_subsets = 3\n",
      "INFO:shap:phi = array([ 0.3063469 , -0.16277965,  0.05117631,  0.18108165,  0.35059141,\n",
      "        0.00190334,  0.09272111])\n",
      "INFO:shap:num_full_subsets = 3\n",
      "INFO:shap:phi = array([ 0.10822304,  0.13542229,  0.00388077,  0.38736459,  0.12812238,\n",
      "       -0.02493489,  0.21453125])\n",
      "INFO:shap:num_full_subsets = 3\n",
      "INFO:shap:phi = array([-0.15982946,  0.64895342,  0.09348121,  0.33358483,  0.01554799,\n",
      "        0.0319924 ,  0.03039823])\n",
      "INFO:shap:num_full_subsets = 2\n",
      "INFO:shap:phi = array([ 0.15277394, -0.23635792,  0.51317185,  0.15224442, -0.00841537])\n",
      "INFO:shap:num_full_subsets = 3\n",
      "INFO:shap:phi = array([ 0.06215745,  0.25874565,  0.07011402,  0.47541298,  0.26904032,\n",
      "       -0.1367926 , -0.07217495])\n",
      "INFO:root:Shapley values for PyTorchDNN using CF_OTMatch with counterfactual by DiCE\n",
      "INFO:shap:num_full_subsets = 1\n",
      "INFO:shap:phi = array([0.91300543, 0.06146595])\n",
      "INFO:shap:num_full_subsets = 2\n",
      "INFO:shap:phi = array([ 0.90461292,  0.02615099, -0.03904362,  0.10777198])\n",
      "INFO:shap:num_full_subsets = 3\n",
      "INFO:shap:phi = array([-0.00326203,  0.63110672,  0.06021687,  0.05377788, -0.0354079 ,\n",
      "        0.28177373])\n",
      "INFO:shap:num_full_subsets = 1\n",
      "INFO:shap:phi = array([0.58696897, 0.21048416])\n",
      "INFO:shap:num_full_subsets = 1\n",
      "INFO:shap:phi = array([-0.00903652,  0.04523378,  0.1279874 ])\n",
      "INFO:shap:num_full_subsets = 1\n",
      "INFO:shap:phi = array([0.18398254, 0.29406451])\n",
      "INFO:shap:num_full_subsets = 2\n",
      "INFO:shap:phi = array([-0.05483423,  0.16182955,  0.01469711,  0.77788511])\n",
      "INFO:shap:num_full_subsets = 1\n",
      "INFO:shap:phi = array([ 0.74826287, -0.2505789 ])\n",
      "INFO:shap:num_full_subsets = 1\n",
      "INFO:shap:phi = array([0.9944283 , 0.00449966])\n",
      "INFO:shap:num_full_subsets = 1\n",
      "INFO:shap:phi = array([0.02416497, 0.97583078])\n",
      "INFO:shap:num_full_subsets = 1\n",
      "INFO:shap:phi = array([ 0.48352849, -0.15598744])\n",
      "INFO:shap:num_full_subsets = 1\n",
      "INFO:shap:phi = array([0.96367517, 0.01767227])\n",
      "INFO:shap:num_full_subsets = 1\n",
      "INFO:shap:phi = array([0.81391465, 0.15315896])\n",
      "INFO:shap:num_full_subsets = 2\n",
      "INFO:shap:phi = array([0.1572908 , 0.23833285, 0.31613645, 0.06943578])\n",
      "INFO:shap:num_full_subsets = 1\n",
      "INFO:shap:phi = array([0.97624288, 0.00184768])\n",
      "INFO:shap:num_full_subsets = 1\n",
      "INFO:shap:phi = array([ 0.83304977, -0.10336976])\n",
      "INFO:shap:num_full_subsets = 1\n",
      "INFO:shap:phi = array([0.04046927, 0.295332  ])\n",
      "INFO:shap:num_full_subsets = 4\n",
      "INFO:shap:phi = array([ 0.04010246,  0.07180999,  0.4499741 ,  0.25684751,  0.1790136 ,\n",
      "       -0.04920336, -0.09342209,  0.12814657])\n",
      "INFO:shap:num_full_subsets = 1\n",
      "INFO:shap:phi = array([0.00590499, 0.25976941])\n",
      "INFO:shap:num_full_subsets = 1\n",
      "INFO:shap:phi = array([0.89440124, 0.01144833])\n",
      "INFO:shap:num_full_subsets = 1\n",
      "INFO:shap:phi = array([-0.08789439,  0.86824743])\n",
      "INFO:shap:num_full_subsets = 1\n",
      "INFO:shap:phi = array([-0.04300387, -0.01523498])\n",
      "INFO:shap:num_full_subsets = 1\n",
      "INFO:shap:phi = array([9.89477531e-01, 4.46425285e-04])\n",
      "INFO:shap:num_full_subsets = 1\n",
      "INFO:shap:phi = array([-0.04115446,  0.65494023])\n",
      "INFO:shap:num_full_subsets = 2\n",
      "INFO:shap:phi = array([ 9.45953159e-02,  2.68309377e-04,  7.62987568e-01, -4.33504060e-02,\n",
      "        1.10793269e-01])\n",
      "INFO:shap:num_full_subsets = 2\n",
      "INFO:shap:phi = array([-0.03096364,  0.02763185,  0.59774102,  0.08968198,  0.29219691])\n",
      "INFO:shap:num_full_subsets = 2\n",
      "INFO:shap:phi = array([ 0.14787298, -0.01981056,  0.51595179,  0.00136038, -0.06660113])\n",
      "INFO:shap:num_full_subsets = 1\n",
      "INFO:shap:phi = array([-0.00449554, -0.00550995])\n",
      "INFO:shap:num_full_subsets = 1\n",
      "INFO:shap:phi = array([-0.09167081,  0.85846779])\n",
      "INFO:shap:num_full_subsets = 2\n",
      "INFO:shap:phi = array([-0.03920542,  0.28602114,  0.42897859, -0.06430584, -0.19875599])\n",
      "INFO:shap:num_full_subsets = 3\n",
      "INFO:shap:phi = array([ 0.0466039 , -0.01121561,  0.8643036 ,  0.23870643, -0.08511349,\n",
      "        0.01628435, -0.10972334])\n",
      "INFO:shap:num_full_subsets = 2\n",
      "INFO:shap:phi = array([ 0.10350416, -0.11016456,  0.58735623,  0.02262581])\n",
      "INFO:shap:num_full_subsets = 1\n",
      "INFO:shap:phi = array([0.43169851, 0.54757972])\n",
      "INFO:shap:num_full_subsets = 1\n",
      "INFO:shap:phi = array([0.62445369, 0.01384664])\n",
      "INFO:shap:num_full_subsets = 3\n",
      "INFO:shap:phi = array([ 0.77825532, -0.01359848,  0.06690955, -0.09699688,  0.19202007,\n",
      "       -0.03962246])\n",
      "INFO:shap:num_full_subsets = 1\n",
      "INFO:shap:phi = array([0.03191441, 0.5939272 ])\n",
      "INFO:shap:num_full_subsets = 2\n",
      "INFO:shap:phi = array([0.06140417, 0.36828779, 0.40008016, 0.09406862])\n",
      "INFO:root:Shapley values for PyTorchDNN using CF_OTMatch_0.5 with counterfactual by DiCE\n",
      "INFO:shap:num_full_subsets = 3\n",
      "INFO:shap:phi = array([ 0.15420793,  0.62924377, -0.04136075, -0.06432821, -0.01377573,\n",
      "        0.27815936, -0.01344375])\n",
      "INFO:shap:num_full_subsets = 3\n",
      "INFO:shap:phi = array([ 0.09426473,  0.20209073,  0.46732917, -0.06017618,  0.08819788,\n",
      "        0.10555259])\n",
      "INFO:shap:num_full_subsets = 3\n",
      "INFO:shap:phi = array([ 0.3116317 ,  0.07303315,  0.06957439,  0.20836358, -0.01648731,\n",
      "        0.10123565,  0.01239651])\n",
      "INFO:shap:num_full_subsets = 4\n",
      "INFO:shap:phi = array([ 0.17375516,  0.04908393,  0.1407105 ,  0.14657739, -0.00860338,\n",
      "        0.14951289,  0.03101677,  0.10409955,  0.04910227])\n",
      "INFO:shap:num_full_subsets = 4\n",
      "INFO:shap:phi = array([ 2.01699309e-02, -8.12534055e-03,  2.12735306e-01,  2.76415716e-01,\n",
      "        2.11813530e-04,  2.70820482e-01,  3.59201361e-02,  1.14501909e-01])\n",
      "INFO:shap:num_full_subsets = 4\n",
      "INFO:shap:phi = array([ 0.12014771,  0.00543343,  0.02209026,  0.00669666, -0.05514878,\n",
      "        0.16934645,  0.07619695,  0.05167306,  0.01884275])\n",
      "INFO:shap:num_full_subsets = 4\n",
      "INFO:shap:phi = array([ 0.24750294,  0.07351605, -0.00312246,  0.09192732,  0.110915  ,\n",
      "        0.00251945,  0.10193235,  0.12215518])\n",
      "INFO:shap:num_full_subsets = 4\n",
      "INFO:shap:phi = array([ 0.23678032,  0.34101257,  0.16098886,  0.00893461,  0.02560697,\n",
      "       -0.01236939,  0.14774184, -0.01538392])\n",
      "INFO:shap:num_full_subsets = 3\n",
      "INFO:shap:phi = array([ 0.21068333, -0.08848503,  0.17425916,  0.20191095,  0.14004317,\n",
      "        0.00487958,  0.05923079])\n",
      "INFO:shap:num_full_subsets = 3\n",
      "INFO:shap:phi = array([-0.02919608,  0.01433367,  0.53033185,  0.38527682,  0.04831234,\n",
      "       -0.00342399])\n",
      "INFO:shap:num_full_subsets = 4\n",
      "INFO:shap:phi = array([ 0.00078163, -0.00181304,  0.01208252,  0.49522305,  0.00064249,\n",
      "       -0.00222947,  0.00376058,  0.48479508])\n",
      "INFO:shap:num_full_subsets = 3\n",
      "INFO:shap:phi = array([0.04651725, 0.0199401 , 0.01295403, 0.16338103, 0.05464814,\n",
      "       0.03093654, 0.23803228])\n",
      "INFO:shap:num_full_subsets = 4\n",
      "INFO:shap:phi = array([ 0.02717157,  0.02198708, -0.01579355,  0.06304125,  0.07349435,\n",
      "        0.22179819,  0.09346376, -0.00528433])\n",
      "INFO:shap:num_full_subsets = 4\n",
      "INFO:shap:phi = array([0.28276904, 0.0003872 , 0.11436333, 0.04411557, 0.07586995,\n",
      "       0.12857843, 0.04447409, 0.08751095, 0.07436425])\n",
      "INFO:shap:num_full_subsets = 4\n",
      "INFO:shap:phi = array([ 0.03180882,  0.0202714 ,  0.56782234, -0.12052428,  0.13711868,\n",
      "       -0.02745361,  0.17744975,  0.15448093])\n",
      "INFO:shap:num_full_subsets = 4\n",
      "INFO:shap:phi = array([ 0.04224462,  0.16061251, -0.06272227,  0.08314375,  0.27608522,\n",
      "        0.01464195,  0.13913006,  0.05054758,  0.11251072])\n",
      "INFO:shap:num_full_subsets = 3\n",
      "INFO:shap:phi = array([0.0265867 , 0.14436829, 0.07909269, 0.02360058, 0.51707872,\n",
      "       0.19107812])\n",
      "INFO:shap:num_full_subsets = 3\n",
      "INFO:shap:phi = array([ 0.109864  , -0.01608071,  0.11408215,  0.08088484,  0.05789201,\n",
      "        0.21680175,  0.20198737])\n",
      "INFO:shap:num_full_subsets = 1\n",
      "INFO:shap:phi = array([0.97624288, 0.00184768])\n",
      "INFO:shap:num_full_subsets = 4\n",
      "INFO:shap:phi = array([ 0.34922103,  0.116106  ,  0.05429584,  0.0520713 ,  0.15706507,\n",
      "       -0.00383724,  0.074944  ,  0.00654166])\n",
      "INFO:shap:num_full_subsets = 4\n",
      "INFO:shap:phi = array([ 0.01907928, -0.00193388,  0.11760289, -0.04214497,  0.02628887,\n",
      "        0.00468177,  0.17521458,  0.11393024,  0.06292076])\n",
      "INFO:shap:num_full_subsets = 4\n",
      "INFO:shap:phi = array([ 0.09175126, -0.0347065 ,  0.0776464 ,  0.17777147,  0.08226734,\n",
      "        0.26681976,  0.1346552 ,  0.03523418, -0.01237431])\n",
      "INFO:shap:num_full_subsets = 4\n",
      "INFO:shap:phi = array([ 0.03150563,  0.00140179,  0.0083227 ,  0.02384937,  0.213369  ,\n",
      "        0.09109891, -0.1970397 ,  0.03537371])\n",
      "INFO:shap:num_full_subsets = 1\n",
      "INFO:shap:phi = array([0.89440124, 0.01144833])\n",
      "INFO:shap:num_full_subsets = 4\n",
      "INFO:shap:phi = array([ 0.01821496,  0.02322787,  0.10423275, -0.01370127,  0.14212527,\n",
      "        0.12412817,  0.32079987, -0.00287483,  0.08724051])\n",
      "INFO:shap:num_full_subsets = 3\n",
      "INFO:shap:phi = array([-0.02086169,  0.06654363, -0.04340691,  0.44974019, -0.01259159,\n",
      "        0.22603868, -0.04545685])\n",
      "INFO:shap:num_full_subsets = 4\n",
      "INFO:shap:phi = array([ 0.08417139, -0.08433652, -0.0070707 , -0.00860077,  0.07403122,\n",
      "       -0.09422293, -0.07027666,  0.00784085])\n",
      "INFO:shap:num_full_subsets = 4\n",
      "INFO:shap:phi = array([ 0.08566874, -0.00714174,  0.00308964,  0.1906028 ,  0.05953424,\n",
      "        0.31867954,  0.25762298,  0.04910496])\n",
      "INFO:shap:num_full_subsets = 1\n",
      "INFO:shap:phi = array([-0.04115446,  0.65494023])\n",
      "INFO:shap:num_full_subsets = 4\n",
      "INFO:shap:phi = array([-0.00580991, -0.00148403, -0.01210949,  0.409893  ,  0.01760138,\n",
      "        0.21008275,  0.19700786,  0.00609163])\n",
      "INFO:shap:num_full_subsets = 4\n",
      "INFO:shap:phi = array([ 0.06000921,  0.04426789,  0.00522451, -0.02179517,  0.04255292,\n",
      "       -0.18249309, -0.01703121,  0.2668036 , -0.18618063])\n",
      "INFO:shap:num_full_subsets = 4\n",
      "INFO:shap:phi = array([ 0.06491633,  0.01549177,  0.01054386,  0.01011561, -0.01684443,\n",
      "        0.18744853,  0.1882674 ,  0.34558564,  0.01658073])\n",
      "INFO:shap:num_full_subsets = 4\n",
      "INFO:shap:phi = array([ 0.10345629, -0.02744574,  0.06846702,  0.40343024,  0.06451402,\n",
      "        0.1776301 ,  0.00409339, -0.01245449,  0.04412873])\n",
      "INFO:shap:num_full_subsets = 3\n",
      "INFO:shap:phi = array([ 0.01628853,  0.01475137,  0.41032734,  0.25733122,  0.15552175,\n",
      "        0.10333711, -0.00284115])\n",
      "INFO:shap:num_full_subsets = 3\n",
      "INFO:shap:phi = array([ 0.04987638, -0.02001094, -0.00660351,  0.31014704,  0.02325655,\n",
      "        0.29519352])\n",
      "INFO:shap:num_full_subsets = 3\n",
      "INFO:shap:phi = array([-0.00795559, -0.11507991, -0.01573703,  0.12417192,  0.19724885,\n",
      "       -0.25440192,  0.0393482 ])\n",
      "INFO:shap:num_full_subsets = 4\n",
      "INFO:shap:phi = array([-0.00552919,  0.00433637,  0.30226899,  0.05045846,  0.16340057,\n",
      "        0.00249802,  0.24260459,  0.00207215,  0.03958939])\n",
      "INFO:shap:num_full_subsets = 4\n",
      "INFO:shap:phi = array([ 0.13145407, -0.02649672, -0.00659057,  0.15151591,  0.10297611,\n",
      "        0.06895186, -0.03894268,  0.05532968,  0.40332826])\n",
      "INFO:shap:num_full_subsets = 4\n",
      "INFO:shap:phi = array([ 0.06315715, -0.00637308,  0.06620076,  0.02140099,  0.03676516,\n",
      "        0.22776399, -0.03576032,  0.06314835,  0.05781739])\n",
      "INFO:shap:num_full_subsets = 4\n",
      "INFO:shap:phi = array([ 0.06535793,  0.00220466, -0.02124737,  0.04719328,  0.03247406,\n",
      "       -0.07088335, -0.02657298,  0.00561564, -0.02788578])\n",
      "INFO:shap:num_full_subsets = 3\n",
      "INFO:shap:phi = array([ 1.26288546e-02,  2.10382915e-04, -4.03245737e-02, -2.62941240e-01,\n",
      "        7.79030050e-02,  1.65567593e-02])\n",
      "INFO:shap:num_full_subsets = 4\n",
      "INFO:shap:phi = array([ 0.11044289,  0.01418844,  0.02550961,  0.25275112,  0.20140537,\n",
      "        0.19648194,  0.01162846,  0.20454561, -0.04394139])\n",
      "INFO:shap:num_full_subsets = 4\n",
      "INFO:shap:phi = array([-0.03548588,  0.03578609,  0.03069324, -0.02159581,  0.0904347 ,\n",
      "        0.28911493,  0.06504055,  0.31652275, -0.01580474])\n",
      "INFO:shap:num_full_subsets = 4\n",
      "INFO:shap:phi = array([ 0.10449656, -0.01922026,  0.01711058,  0.0558079 ,  0.23585114,\n",
      "        0.03191856,  0.31094467,  0.09806371])\n",
      "INFO:shap:num_full_subsets = 4\n",
      "INFO:shap:phi = array([0.01749012, 0.01662921, 0.15387855, 0.01565005, 0.11930762,\n",
      "       0.00754155, 0.37329504, 0.00951167, 0.11052142])\n",
      "INFO:shap:num_full_subsets = 4\n",
      "INFO:shap:phi = array([ 0.23485419, -0.01540847,  0.23764875, -0.00212564,  0.01115159,\n",
      "        0.12995309, -0.01965603,  0.37563643, -0.04135687])\n",
      "INFO:shap:num_full_subsets = 4\n",
      "INFO:shap:phi = array([ 0.00263623,  0.0079786 , -0.0009065 ,  0.0293899 ,  0.00547281,\n",
      "        0.23010966,  0.31139201,  0.0559355 ,  0.00235855])\n",
      "INFO:shap:num_full_subsets = 3\n",
      "INFO:shap:phi = array([0.10265873, 0.07265014, 0.29364835, 0.11263103, 0.15517823,\n",
      "       0.12173369, 0.05183402])\n",
      "INFO:root:Shapley values for PyTorchDNN using CF_OTMatch_1.0 with counterfactual by DiCE\n",
      "INFO:shap:num_full_subsets = 4\n",
      "INFO:shap:phi = array([ 0.18444362,  0.31462189,  0.26721319, -0.02597964, -0.19212244,\n",
      "       -0.03315923,  0.17743726,  0.0160796 ])\n",
      "INFO:shap:num_full_subsets = 4\n",
      "INFO:shap:phi = array([ 1.11607342e-01, -4.21417826e-02,  6.26441301e-02,  4.22284204e-01,\n",
      "        4.15353559e-02,  2.33647261e-06,  1.68738641e-01,  1.48373594e-01,\n",
      "        1.15532742e-02])\n",
      "INFO:shap:num_full_subsets = 4\n",
      "INFO:shap:phi = array([ 0.34254093,  0.0026605 ,  0.10964973,  0.03430815,  0.03794966,\n",
      "        0.15691938, -0.00324668,  0.09256958,  0.0255278 ])\n",
      "INFO:shap:num_full_subsets = 4\n",
      "INFO:shap:phi = array([0.17371784, 0.05646253, 0.17560428, 0.12644114, 0.03680346,\n",
      "       0.13009636, 0.01855462, 0.10244853, 0.04720526])\n",
      "INFO:shap:num_full_subsets = 4\n",
      "INFO:shap:phi = array([ 2.01699309e-02, -8.12534055e-03,  2.12735306e-01,  2.76415716e-01,\n",
      "        2.11813530e-04,  2.70820482e-01,  3.59201361e-02,  1.14501909e-01])\n",
      "INFO:shap:num_full_subsets = 4\n",
      "INFO:shap:phi = array([ 0.1240555 , -0.04734157,  0.02206488,  0.07267992, -0.02540101,\n",
      "        0.2108965 , -0.00420632,  0.01357517,  0.0047665 ])\n",
      "INFO:shap:num_full_subsets = 4\n",
      "INFO:shap:phi = array([0.12992185, 0.00112467, 0.12662729, 0.22511133, 0.06128488,\n",
      "       0.07394334, 0.02173703, 0.07351084, 0.08143679])\n",
      "INFO:shap:num_full_subsets = 4\n",
      "INFO:shap:phi = array([ 0.12688112,  0.04903733,  0.29134307,  0.15271484,  0.02769288,\n",
      "        0.01077571, -0.02812194,  0.16979424,  0.01282604])\n",
      "INFO:shap:num_full_subsets = 4\n",
      "INFO:shap:phi = array([ 0.17986185, -0.029495  ,  0.13829273,  0.01937105,  0.09800009,\n",
      "        0.03265036,  0.09416334,  0.14372393,  0.04204562])\n",
      "INFO:shap:num_full_subsets = 3\n",
      "INFO:shap:phi = array([-0.02919608,  0.01433367,  0.53033185,  0.38527682,  0.04831234,\n",
      "       -0.00342399])\n",
      "INFO:shap:num_full_subsets = 4\n",
      "INFO:shap:phi = array([ 1.40860577e-02, -1.17948575e-02,  4.53730768e-02,  8.05501449e-03,\n",
      "        5.42716540e-01,  4.28328172e-04, -3.12773732e-02,  1.04286127e-01,\n",
      "        3.20449182e-01])\n",
      "INFO:shap:num_full_subsets = 4\n",
      "INFO:shap:phi = array([ 0.04753744,  0.02043998,  0.00666251,  0.14614951,  0.05979529,\n",
      "        0.111528  ,  0.05351193, -0.03856218,  0.11470959])\n",
      "INFO:shap:num_full_subsets = 4\n",
      "INFO:shap:phi = array([ 0.03155763,  0.01034243, -0.02043796,  0.05207028,  0.03300303,\n",
      "        0.01398112,  0.25681708,  0.12637681,  0.00586324])\n",
      "INFO:shap:num_full_subsets = 4\n",
      "INFO:shap:phi = array([0.27073328, 0.03426186, 0.10831522, 0.0348248 , 0.02628465,\n",
      "       0.1181873 , 0.03113346, 0.09821823, 0.09907632])\n",
      "INFO:shap:num_full_subsets = 4\n",
      "INFO:shap:phi = array([ 0.05169673,  0.06628606,  0.03611361,  0.557032  , -0.14288302,\n",
      "        0.102839  , -0.03537566,  0.13738829,  0.17875185])\n",
      "INFO:shap:num_full_subsets = 4\n",
      "INFO:shap:phi = array([ 0.0216284 ,  0.12612134, -0.01957227,  0.06946019,  0.20706392,\n",
      "        0.01381338,  0.15847927,  0.10129022,  0.13068681])\n",
      "INFO:shap:num_full_subsets = 4\n",
      "INFO:shap:phi = array([ 0.11604189,  0.0119012 ,  0.21169808,  0.12654416,  0.0028102 ,\n",
      "        0.25146466,  0.19149488, -0.00507581])\n",
      "INFO:shap:num_full_subsets = 4\n",
      "INFO:shap:phi = array([ 0.05196691, -0.04749342,  0.1178457 ,  0.01256812,  0.09892512,\n",
      "        0.21426955,  0.03587185,  0.15224088,  0.12737442])\n",
      "INFO:shap:num_full_subsets = 4\n",
      "INFO:shap:phi = array([ 0.14305186,  0.12909141,  0.07289974,  0.17585635,  0.01234061,\n",
      "       -0.00215658,  0.11262357,  0.16243729,  0.11426115])\n",
      "INFO:shap:num_full_subsets = 4\n",
      "INFO:shap:phi = array([ 0.29330436,  0.00951183,  0.07701558,  0.02915851,  0.05325373,\n",
      "        0.17191531, -0.00401992,  0.13616146,  0.02198833])\n",
      "INFO:shap:num_full_subsets = 4\n",
      "INFO:shap:phi = array([ 0.0406444 , -0.00536741,  0.10596502,  0.00162685,  0.01643054,\n",
      "        0.05709156,  0.06708914,  0.13647538,  0.10549304])\n",
      "INFO:shap:num_full_subsets = 4\n",
      "INFO:shap:phi = array([ 0.05599732, -0.02313767,  0.06071343,  0.2671806 ,  0.04587021,\n",
      "        0.18714474,  0.18952171,  0.0418806 ,  0.01920689])\n",
      "INFO:shap:num_full_subsets = 4\n",
      "INFO:shap:phi = array([ 0.00785444,  0.00841069,  0.01241922,  0.02816094,  0.02305974,\n",
      "        0.14284181,  0.06843099, -0.10507048,  0.01234525])\n",
      "INFO:shap:num_full_subsets = 4\n",
      "INFO:shap:phi = array([ 0.23636957,  0.4018309 ,  0.1936948 , -0.00047421,  0.12571019,\n",
      "       -0.03381476, -0.0376546 , -0.06655981])\n",
      "INFO:shap:num_full_subsets = 4\n",
      "INFO:shap:phi = array([ 0.03513573,  0.09902195,  0.13615448, -0.00238368,  0.08886831,\n",
      "        0.15548635,  0.23621688,  0.01988857,  0.09268781])\n",
      "INFO:shap:num_full_subsets = 4\n",
      "INFO:shap:phi = array([ 0.00616631,  0.04990773,  0.13113308, -0.10399423,  0.33730515,\n",
      "        0.0927031 ,  0.16835605, -0.04701443])\n",
      "INFO:shap:num_full_subsets = 4\n",
      "INFO:shap:phi = array([ 0.03219806, -0.03695868, -0.00571904,  0.00042558, -0.00781292,\n",
      "        0.12793914, -0.08739366, -0.06587491, -0.01798804])\n",
      "INFO:shap:num_full_subsets = 4\n",
      "INFO:shap:phi = array([ 7.18478607e-02,  1.57566572e-01, -2.71272971e-04, -4.87526333e-02,\n",
      "        8.80739735e-02,  4.19667671e-03,  2.22656598e-01,  2.95841710e-01,\n",
      "        1.70995972e-01])\n",
      "INFO:shap:num_full_subsets = 4\n",
      "INFO:shap:phi = array([ 0.01083065, -0.02498434,  0.13019002,  0.08667065,  0.00155469,\n",
      "        0.0982323 ,  0.00555865,  0.35383972, -0.00168076])\n",
      "INFO:shap:num_full_subsets = 4\n",
      "INFO:shap:phi = array([ 0.00969411, -0.01650853,  0.00661069,  0.00161524,  0.40000391,\n",
      "       -0.01131015,  0.23639471,  0.1615131 ,  0.01879875])\n",
      "INFO:shap:num_full_subsets = 4\n",
      "INFO:shap:phi = array([ 0.05631257,  0.04294344, -0.00904114, -0.00762725,  0.02549396,\n",
      "       -0.19382745, -0.02677659,  0.17971887, -0.10674666])\n",
      "INFO:shap:num_full_subsets = 4\n",
      "INFO:shap:phi = array([ 0.1090783 ,  0.01787778,  0.0178661 , -0.01038574,  0.02429843,\n",
      "        0.25579081,  0.09857683,  0.34042755, -0.00462925])\n",
      "INFO:shap:num_full_subsets = 4\n",
      "INFO:shap:phi = array([ 0.09418258, -0.03258765,  0.06276143,  0.36981106,  0.06210476,\n",
      "        0.18010516,  0.02814349,  0.02840241,  0.0432987 ])\n",
      "INFO:shap:num_full_subsets = 4\n",
      "INFO:shap:phi = array([-0.01235163,  0.05270525,  0.03452876,  0.0309149 ,  0.39603395,\n",
      "        0.12529548,  0.19015088,  0.12197441,  0.00463765])\n",
      "INFO:shap:num_full_subsets = 4\n",
      "INFO:shap:phi = array([ 4.92494978e-03,  6.80952455e-05, -1.02505544e-02,  2.42248980e-02,\n",
      "        4.43204529e-02,  2.00780214e-01,  3.77263672e-02,  1.52531043e-01,\n",
      "        9.01570523e-02])\n",
      "INFO:shap:num_full_subsets = 4\n",
      "INFO:shap:phi = array([ 0.05125074, -0.14051143,  0.03010981,  0.0783351 ,  0.00552882,\n",
      "        0.02846051,  0.12074349, -0.24690723,  0.03662929])\n",
      "INFO:shap:num_full_subsets = 4\n",
      "INFO:shap:phi = array([ 0.23275992,  0.01222908,  0.16483705, -0.02583897,  0.05841057,\n",
      "       -0.08333195,  0.1332472 ,  0.04961779,  0.1818307 ])\n",
      "INFO:shap:num_full_subsets = 2\n",
      "INFO:shap:phi = array([0.00363656, 0.00200015, 0.500011  , 0.22697667])\n",
      "INFO:shap:num_full_subsets = 4\n",
      "INFO:shap:phi = array([ 0.111194  , -0.04390386,  0.0090068 ,  0.08128187,  0.07729608,\n",
      "        0.14720192,  0.08729373,  0.12975334,  0.20311439])\n",
      "INFO:shap:num_full_subsets = 4\n",
      "INFO:shap:phi = array([ 0.08187043,  0.03319692,  0.06707272, -0.00426974,  0.0233603 ,\n",
      "        0.2203559 , -0.03303083,  0.04904247,  0.04106547])\n",
      "INFO:shap:num_full_subsets = 4\n",
      "INFO:shap:phi = array([ 0.08077196, -0.01748833, -0.0224348 ,  0.01422146,  0.0117596 ,\n",
      "       -0.11640078, -0.0075195 ,  0.04906825,  0.01578055])\n",
      "INFO:shap:num_full_subsets = 4\n",
      "INFO:shap:phi = array([ 0.01242021,  0.03754626,  0.01867483, -0.01806866, -0.08541201,\n",
      "       -0.39909495,  0.11713102,  0.06956941,  0.07116439])\n",
      "INFO:shap:num_full_subsets = 4\n",
      "INFO:shap:phi = array([0.08974611, 0.0267365 , 0.02362452, 0.14041728, 0.16110705,\n",
      "       0.18700467, 0.04292615, 0.16566005, 0.09588172])\n",
      "INFO:shap:num_full_subsets = 4\n",
      "INFO:shap:phi = array([ 0.10343847,  0.07977976,  0.04058142, -0.0143972 ,  0.04476271,\n",
      "        0.19274329,  0.04053044,  0.33256224, -0.02332512])\n",
      "INFO:shap:num_full_subsets = 4\n",
      "INFO:shap:phi = array([0.06877146, 0.04608959, 0.02690258, 0.00448765, 0.01944703,\n",
      "       0.14939981, 0.19003898, 0.23888755, 0.10942331])\n",
      "INFO:shap:num_full_subsets = 4\n",
      "INFO:shap:phi = array([0.0074103 , 0.05122979, 0.19510943, 0.04060495, 0.10812475,\n",
      "       0.03591948, 0.2722288 , 0.04813829, 0.06602295])\n",
      "INFO:shap:num_full_subsets = 4\n",
      "INFO:shap:phi = array([ 1.59676703e-01, -9.89673863e-06,  1.80436453e-01,  7.84477088e-02,\n",
      "        3.13214594e-02,  2.05758074e-01,  5.46637975e-03,  2.25672091e-01,\n",
      "        1.84477676e-02])\n",
      "INFO:shap:num_full_subsets = 4\n",
      "INFO:shap:phi = array([ 0.10455065, -0.02036563,  0.0241514 ,  0.01469495,  0.02824131,\n",
      "        0.12404209,  0.23417566,  0.0720604 ,  0.03637717])\n",
      "INFO:shap:num_full_subsets = 4\n",
      "INFO:shap:phi = array([ 0.11430316,  0.04202801,  0.06823133,  0.17618902,  0.06757863,\n",
      "        0.22162736,  0.16692163, -0.02485096,  0.0044812 ])\n"
     ]
    }
   ],
   "source": [
    "logger.info(\"\\n\\n------Compute Shapley Values------\")\n",
    "experiment.compute_shapley_values(\n",
    "    model_counterfactuals=model_counterfactuals,\n",
    ");"
   ]
  },
  {
   "cell_type": "code",
   "execution_count": 107,
   "metadata": {},
   "outputs": [
    {
     "name": "stderr",
     "output_type": "stream",
     "text": [
      "INFO:root:\n",
      "\n",
      "------Evaluating Distance Performance Under Interventions------\n",
      "INFO:root:Computing optimal_transport for (PyTorchDNN, DiCE, CF_UniformMatch)\n",
      "100%|██████████| 10/10 [00:00<00:00, 13.99it/s]\n",
      "INFO:root:Computing mean_difference for (PyTorchDNN, DiCE, CF_UniformMatch)\n",
      "100%|██████████| 10/10 [00:00<00:00, 31.03it/s]\n",
      "INFO:root:Computing median_difference for (PyTorchDNN, DiCE, CF_UniformMatch)\n",
      "100%|██████████| 10/10 [00:00<00:00, 71.08it/s]\n",
      "INFO:root:Computing optimal_transport for (PyTorchDNN, DiCE, CF_SingleMatch)\n",
      "100%|██████████| 10/10 [00:00<00:00, 30.80it/s]\n",
      "INFO:root:Computing mean_difference for (PyTorchDNN, DiCE, CF_SingleMatch)\n",
      "100%|██████████| 10/10 [00:00<00:00, 50.61it/s]\n",
      "INFO:root:Computing median_difference for (PyTorchDNN, DiCE, CF_SingleMatch)\n",
      "100%|██████████| 10/10 [00:00<00:00, 62.99it/s]\n",
      "INFO:root:Computing optimal_transport for (PyTorchDNN, DiCE, CF_OTMatch)\n",
      "100%|██████████| 10/10 [00:00<00:00, 22.13it/s]\n",
      "INFO:root:Computing mean_difference for (PyTorchDNN, DiCE, CF_OTMatch)\n",
      "100%|██████████| 10/10 [00:00<00:00, 49.41it/s]\n",
      "INFO:root:Computing median_difference for (PyTorchDNN, DiCE, CF_OTMatch)\n",
      "100%|██████████| 10/10 [00:00<00:00, 64.18it/s]\n",
      "INFO:root:Computing optimal_transport for (PyTorchDNN, DiCE, CF_OTMatch_0.5)\n",
      "100%|██████████| 10/10 [00:00<00:00, 30.06it/s]\n",
      "INFO:root:Computing mean_difference for (PyTorchDNN, DiCE, CF_OTMatch_0.5)\n",
      "100%|██████████| 10/10 [00:00<00:00, 50.62it/s]\n",
      "INFO:root:Computing median_difference for (PyTorchDNN, DiCE, CF_OTMatch_0.5)\n",
      "100%|██████████| 10/10 [00:00<00:00, 54.13it/s]\n",
      "INFO:root:Computing optimal_transport for (PyTorchDNN, DiCE, CF_OTMatch_1.0)\n",
      "100%|██████████| 10/10 [00:00<00:00, 32.58it/s]\n",
      "INFO:root:Computing mean_difference for (PyTorchDNN, DiCE, CF_OTMatch_1.0)\n",
      "100%|██████████| 10/10 [00:00<00:00, 62.80it/s]\n",
      "INFO:root:Computing median_difference for (PyTorchDNN, DiCE, CF_OTMatch_1.0)\n",
      "100%|██████████| 10/10 [00:00<00:00, 70.21it/s]\n",
      "  0%|          | 0/8 [00:00<?, ?it/s]"
     ]
    },
    {
     "name": "stdout",
     "output_type": "stream",
     "text": [
      "Gurobi Optimizer version 11.0.2 build v11.0.2rc0 (win64 - Windows 11.0 (22631.2))\n"
     ]
    },
    {
     "name": "stderr",
     "output_type": "stream",
     "text": [
      "INFO:gurobipy:Gurobi Optimizer version 11.0.2 build v11.0.2rc0 (win64 - Windows 11.0 (22631.2))\n"
     ]
    },
    {
     "name": "stdout",
     "output_type": "stream",
     "text": [
      "\n"
     ]
    },
    {
     "name": "stderr",
     "output_type": "stream",
     "text": [
      "INFO:gurobipy:\n"
     ]
    },
    {
     "name": "stdout",
     "output_type": "stream",
     "text": [
      "CPU model: 11th Gen Intel(R) Core(TM) i5-1145G7 @ 2.60GHz, instruction set [SSE2|AVX|AVX2|AVX512]\n"
     ]
    },
    {
     "name": "stderr",
     "output_type": "stream",
     "text": [
      "INFO:gurobipy:CPU model: 11th Gen Intel(R) Core(TM) i5-1145G7 @ 2.60GHz, instruction set [SSE2|AVX|AVX2|AVX512]\n"
     ]
    },
    {
     "name": "stdout",
     "output_type": "stream",
     "text": [
      "Thread count: 4 physical cores, 8 logical processors, using up to 8 threads\n"
     ]
    },
    {
     "name": "stderr",
     "output_type": "stream",
     "text": [
      "INFO:gurobipy:Thread count: 4 physical cores, 8 logical processors, using up to 8 threads\n"
     ]
    },
    {
     "name": "stdout",
     "output_type": "stream",
     "text": [
      "\n"
     ]
    },
    {
     "name": "stderr",
     "output_type": "stream",
     "text": [
      "INFO:gurobipy:\n"
     ]
    },
    {
     "name": "stdout",
     "output_type": "stream",
     "text": [
      "Optimize a model with 53 rows, 25601 columns and 73680 nonzeros\n"
     ]
    },
    {
     "name": "stderr",
     "output_type": "stream",
     "text": [
      "INFO:gurobipy:Optimize a model with 53 rows, 25601 columns and 73680 nonzeros\n"
     ]
    },
    {
     "name": "stdout",
     "output_type": "stream",
     "text": [
      "Model fingerprint: 0xc8d8681d\n"
     ]
    },
    {
     "name": "stderr",
     "output_type": "stream",
     "text": [
      "INFO:gurobipy:Model fingerprint: 0xc8d8681d\n"
     ]
    },
    {
     "name": "stdout",
     "output_type": "stream",
     "text": [
      "Variable types: 1 continuous, 25600 integer (25600 binary)\n"
     ]
    },
    {
     "name": "stderr",
     "output_type": "stream",
     "text": [
      "INFO:gurobipy:Variable types: 1 continuous, 25600 integer (25600 binary)\n"
     ]
    },
    {
     "name": "stdout",
     "output_type": "stream",
     "text": [
      "Coefficient statistics:\n"
     ]
    },
    {
     "name": "stderr",
     "output_type": "stream",
     "text": [
      "INFO:gurobipy:Coefficient statistics:\n"
     ]
    },
    {
     "name": "stdout",
     "output_type": "stream",
     "text": [
      "  Matrix range     [2e-02, 9e+00]\n"
     ]
    },
    {
     "name": "stderr",
     "output_type": "stream",
     "text": [
      "INFO:gurobipy:  Matrix range     [2e-02, 9e+00]\n"
     ]
    },
    {
     "name": "stdout",
     "output_type": "stream",
     "text": [
      "  Objective range  [1e+00, 1e+00]\n"
     ]
    },
    {
     "name": "stderr",
     "output_type": "stream",
     "text": [
      "INFO:gurobipy:  Objective range  [1e+00, 1e+00]\n"
     ]
    },
    {
     "name": "stdout",
     "output_type": "stream",
     "text": [
      "  Bounds range     [1e+00, 1e+00]\n"
     ]
    },
    {
     "name": "stderr",
     "output_type": "stream",
     "text": [
      "INFO:gurobipy:  Bounds range     [1e+00, 1e+00]\n"
     ]
    },
    {
     "name": "stdout",
     "output_type": "stream",
     "text": [
      "  RHS range        [1e+00, 1e+00]\n"
     ]
    },
    {
     "name": "stderr",
     "output_type": "stream",
     "text": [
      "INFO:gurobipy:  RHS range        [1e+00, 1e+00]\n"
     ]
    },
    {
     "name": "stdout",
     "output_type": "stream",
     "text": [
      "Found heuristic solution: objective 0.8599999\n"
     ]
    },
    {
     "name": "stderr",
     "output_type": "stream",
     "text": [
      "INFO:gurobipy:Found heuristic solution: objective 0.8599999\n"
     ]
    },
    {
     "name": "stdout",
     "output_type": "stream",
     "text": [
      "Presolve removed 53 rows and 25601 columns\n"
     ]
    },
    {
     "name": "stderr",
     "output_type": "stream",
     "text": [
      "INFO:gurobipy:Presolve removed 53 rows and 25601 columns\n"
     ]
    },
    {
     "name": "stdout",
     "output_type": "stream",
     "text": [
      "Presolve time: 0.05s\n"
     ]
    },
    {
     "name": "stderr",
     "output_type": "stream",
     "text": [
      "INFO:gurobipy:Presolve time: 0.05s\n"
     ]
    },
    {
     "name": "stdout",
     "output_type": "stream",
     "text": [
      "Presolve: All rows and columns removed\n"
     ]
    },
    {
     "name": "stderr",
     "output_type": "stream",
     "text": [
      "INFO:gurobipy:Presolve: All rows and columns removed\n"
     ]
    },
    {
     "name": "stdout",
     "output_type": "stream",
     "text": [
      "\n"
     ]
    },
    {
     "name": "stderr",
     "output_type": "stream",
     "text": [
      "INFO:gurobipy:\n"
     ]
    },
    {
     "name": "stdout",
     "output_type": "stream",
     "text": [
      "Explored 0 nodes (0 simplex iterations) in 0.18 seconds (0.01 work units)\n"
     ]
    },
    {
     "name": "stderr",
     "output_type": "stream",
     "text": [
      "INFO:gurobipy:Explored 0 nodes (0 simplex iterations) in 0.18 seconds (0.01 work units)\n"
     ]
    },
    {
     "name": "stdout",
     "output_type": "stream",
     "text": [
      "Thread count was 1 (of 8 available processors)\n"
     ]
    },
    {
     "name": "stderr",
     "output_type": "stream",
     "text": [
      "INFO:gurobipy:Thread count was 1 (of 8 available processors)\n"
     ]
    },
    {
     "name": "stdout",
     "output_type": "stream",
     "text": [
      "\n"
     ]
    },
    {
     "name": "stderr",
     "output_type": "stream",
     "text": [
      "INFO:gurobipy:\n"
     ]
    },
    {
     "name": "stdout",
     "output_type": "stream",
     "text": [
      "Solution count 1: 0.86 \n"
     ]
    },
    {
     "name": "stderr",
     "output_type": "stream",
     "text": [
      "INFO:gurobipy:Solution count 1: 0.86 \n"
     ]
    },
    {
     "name": "stdout",
     "output_type": "stream",
     "text": [
      "\n"
     ]
    },
    {
     "name": "stderr",
     "output_type": "stream",
     "text": [
      "INFO:gurobipy:\n"
     ]
    },
    {
     "name": "stdout",
     "output_type": "stream",
     "text": [
      "Optimal solution found (tolerance 1.00e-04)\n"
     ]
    },
    {
     "name": "stderr",
     "output_type": "stream",
     "text": [
      "INFO:gurobipy:Optimal solution found (tolerance 1.00e-04)\n"
     ]
    },
    {
     "name": "stdout",
     "output_type": "stream",
     "text": [
      "Best objective 8.599998950958e-01, best bound 8.599998950958e-01, gap 0.0000%\n"
     ]
    },
    {
     "name": "stderr",
     "output_type": "stream",
     "text": [
      "INFO:gurobipy:Best objective 8.599998950958e-01, best bound 8.599998950958e-01, gap 0.0000%\n",
      " 12%|█▎        | 1/8 [00:20<02:26, 20.89s/it]"
     ]
    },
    {
     "name": "stdout",
     "output_type": "stream",
     "text": [
      "Gurobi Optimizer version 11.0.2 build v11.0.2rc0 (win64 - Windows 11.0 (22631.2))\n"
     ]
    },
    {
     "name": "stderr",
     "output_type": "stream",
     "text": [
      "INFO:gurobipy:Gurobi Optimizer version 11.0.2 build v11.0.2rc0 (win64 - Windows 11.0 (22631.2))\n"
     ]
    },
    {
     "name": "stdout",
     "output_type": "stream",
     "text": [
      "\n"
     ]
    },
    {
     "name": "stderr",
     "output_type": "stream",
     "text": [
      "INFO:gurobipy:\n"
     ]
    },
    {
     "name": "stdout",
     "output_type": "stream",
     "text": [
      "CPU model: 11th Gen Intel(R) Core(TM) i5-1145G7 @ 2.60GHz, instruction set [SSE2|AVX|AVX2|AVX512]\n"
     ]
    },
    {
     "name": "stderr",
     "output_type": "stream",
     "text": [
      "INFO:gurobipy:CPU model: 11th Gen Intel(R) Core(TM) i5-1145G7 @ 2.60GHz, instruction set [SSE2|AVX|AVX2|AVX512]\n"
     ]
    },
    {
     "name": "stdout",
     "output_type": "stream",
     "text": [
      "Thread count: 4 physical cores, 8 logical processors, using up to 8 threads\n"
     ]
    },
    {
     "name": "stderr",
     "output_type": "stream",
     "text": [
      "INFO:gurobipy:Thread count: 4 physical cores, 8 logical processors, using up to 8 threads\n"
     ]
    },
    {
     "name": "stdout",
     "output_type": "stream",
     "text": [
      "\n"
     ]
    },
    {
     "name": "stderr",
     "output_type": "stream",
     "text": [
      "INFO:gurobipy:\n"
     ]
    },
    {
     "name": "stdout",
     "output_type": "stream",
     "text": [
      "Optimize a model with 53 rows, 25601 columns and 73680 nonzeros\n"
     ]
    },
    {
     "name": "stderr",
     "output_type": "stream",
     "text": [
      "INFO:gurobipy:Optimize a model with 53 rows, 25601 columns and 73680 nonzeros\n"
     ]
    },
    {
     "name": "stdout",
     "output_type": "stream",
     "text": [
      "Model fingerprint: 0xfcda366a\n"
     ]
    },
    {
     "name": "stderr",
     "output_type": "stream",
     "text": [
      "INFO:gurobipy:Model fingerprint: 0xfcda366a\n"
     ]
    },
    {
     "name": "stdout",
     "output_type": "stream",
     "text": [
      "Variable types: 1 continuous, 25600 integer (25600 binary)\n"
     ]
    },
    {
     "name": "stderr",
     "output_type": "stream",
     "text": [
      "INFO:gurobipy:Variable types: 1 continuous, 25600 integer (25600 binary)\n"
     ]
    },
    {
     "name": "stdout",
     "output_type": "stream",
     "text": [
      "Coefficient statistics:\n"
     ]
    },
    {
     "name": "stderr",
     "output_type": "stream",
     "text": [
      "INFO:gurobipy:Coefficient statistics:\n"
     ]
    },
    {
     "name": "stdout",
     "output_type": "stream",
     "text": [
      "  Matrix range     [2e-02, 9e+00]\n"
     ]
    },
    {
     "name": "stderr",
     "output_type": "stream",
     "text": [
      "INFO:gurobipy:  Matrix range     [2e-02, 9e+00]\n"
     ]
    },
    {
     "name": "stdout",
     "output_type": "stream",
     "text": [
      "  Objective range  [1e+00, 1e+00]\n"
     ]
    },
    {
     "name": "stderr",
     "output_type": "stream",
     "text": [
      "INFO:gurobipy:  Objective range  [1e+00, 1e+00]\n"
     ]
    },
    {
     "name": "stdout",
     "output_type": "stream",
     "text": [
      "  Bounds range     [1e+00, 1e+00]\n"
     ]
    },
    {
     "name": "stderr",
     "output_type": "stream",
     "text": [
      "INFO:gurobipy:  Bounds range     [1e+00, 1e+00]\n"
     ]
    },
    {
     "name": "stdout",
     "output_type": "stream",
     "text": [
      "  RHS range        [1e+00, 5e+01]\n"
     ]
    },
    {
     "name": "stderr",
     "output_type": "stream",
     "text": [
      "INFO:gurobipy:  RHS range        [1e+00, 5e+01]\n"
     ]
    },
    {
     "name": "stdout",
     "output_type": "stream",
     "text": [
      "Found heuristic solution: objective 0.7600000\n"
     ]
    },
    {
     "name": "stderr",
     "output_type": "stream",
     "text": [
      "INFO:gurobipy:Found heuristic solution: objective 0.7600000\n"
     ]
    },
    {
     "name": "stdout",
     "output_type": "stream",
     "text": [
      "Presolve removed 53 rows and 25601 columns\n"
     ]
    },
    {
     "name": "stderr",
     "output_type": "stream",
     "text": [
      "INFO:gurobipy:Presolve removed 53 rows and 25601 columns\n"
     ]
    },
    {
     "name": "stdout",
     "output_type": "stream",
     "text": [
      "Presolve time: 0.06s\n"
     ]
    },
    {
     "name": "stderr",
     "output_type": "stream",
     "text": [
      "INFO:gurobipy:Presolve time: 0.06s\n"
     ]
    },
    {
     "name": "stdout",
     "output_type": "stream",
     "text": [
      "Presolve: All rows and columns removed\n"
     ]
    },
    {
     "name": "stderr",
     "output_type": "stream",
     "text": [
      "INFO:gurobipy:Presolve: All rows and columns removed\n"
     ]
    },
    {
     "name": "stdout",
     "output_type": "stream",
     "text": [
      "\n"
     ]
    },
    {
     "name": "stderr",
     "output_type": "stream",
     "text": [
      "INFO:gurobipy:\n"
     ]
    },
    {
     "name": "stdout",
     "output_type": "stream",
     "text": [
      "Explored 0 nodes (0 simplex iterations) in 0.15 seconds (0.02 work units)\n"
     ]
    },
    {
     "name": "stderr",
     "output_type": "stream",
     "text": [
      "INFO:gurobipy:Explored 0 nodes (0 simplex iterations) in 0.15 seconds (0.02 work units)\n"
     ]
    },
    {
     "name": "stdout",
     "output_type": "stream",
     "text": [
      "Thread count was 1 (of 8 available processors)\n"
     ]
    },
    {
     "name": "stderr",
     "output_type": "stream",
     "text": [
      "INFO:gurobipy:Thread count was 1 (of 8 available processors)\n"
     ]
    },
    {
     "name": "stdout",
     "output_type": "stream",
     "text": [
      "\n"
     ]
    },
    {
     "name": "stderr",
     "output_type": "stream",
     "text": [
      "INFO:gurobipy:\n"
     ]
    },
    {
     "name": "stdout",
     "output_type": "stream",
     "text": [
      "Solution count 2: 0 0.76 \n"
     ]
    },
    {
     "name": "stderr",
     "output_type": "stream",
     "text": [
      "INFO:gurobipy:Solution count 2: 0 0.76 \n"
     ]
    },
    {
     "name": "stdout",
     "output_type": "stream",
     "text": [
      "\n"
     ]
    },
    {
     "name": "stderr",
     "output_type": "stream",
     "text": [
      "INFO:gurobipy:\n"
     ]
    },
    {
     "name": "stdout",
     "output_type": "stream",
     "text": [
      "Optimal solution found (tolerance 1.00e-04)\n"
     ]
    },
    {
     "name": "stderr",
     "output_type": "stream",
     "text": [
      "INFO:gurobipy:Optimal solution found (tolerance 1.00e-04)\n"
     ]
    },
    {
     "name": "stdout",
     "output_type": "stream",
     "text": [
      "Best objective 0.000000000000e+00, best bound 0.000000000000e+00, gap 0.0000%\n"
     ]
    },
    {
     "name": "stderr",
     "output_type": "stream",
     "text": [
      "INFO:gurobipy:Best objective 0.000000000000e+00, best bound 0.000000000000e+00, gap 0.0000%\n",
      " 25%|██▌       | 2/8 [00:41<02:04, 20.70s/it]"
     ]
    },
    {
     "name": "stdout",
     "output_type": "stream",
     "text": [
      "Gurobi Optimizer version 11.0.2 build v11.0.2rc0 (win64 - Windows 11.0 (22631.2))\n"
     ]
    },
    {
     "name": "stderr",
     "output_type": "stream",
     "text": [
      "INFO:gurobipy:Gurobi Optimizer version 11.0.2 build v11.0.2rc0 (win64 - Windows 11.0 (22631.2))\n"
     ]
    },
    {
     "name": "stdout",
     "output_type": "stream",
     "text": [
      "\n"
     ]
    },
    {
     "name": "stderr",
     "output_type": "stream",
     "text": [
      "INFO:gurobipy:\n"
     ]
    },
    {
     "name": "stdout",
     "output_type": "stream",
     "text": [
      "CPU model: 11th Gen Intel(R) Core(TM) i5-1145G7 @ 2.60GHz, instruction set [SSE2|AVX|AVX2|AVX512]\n"
     ]
    },
    {
     "name": "stderr",
     "output_type": "stream",
     "text": [
      "INFO:gurobipy:CPU model: 11th Gen Intel(R) Core(TM) i5-1145G7 @ 2.60GHz, instruction set [SSE2|AVX|AVX2|AVX512]\n"
     ]
    },
    {
     "name": "stdout",
     "output_type": "stream",
     "text": [
      "Thread count: 4 physical cores, 8 logical processors, using up to 8 threads\n"
     ]
    },
    {
     "name": "stderr",
     "output_type": "stream",
     "text": [
      "INFO:gurobipy:Thread count: 4 physical cores, 8 logical processors, using up to 8 threads\n"
     ]
    },
    {
     "name": "stdout",
     "output_type": "stream",
     "text": [
      "\n"
     ]
    },
    {
     "name": "stderr",
     "output_type": "stream",
     "text": [
      "INFO:gurobipy:\n"
     ]
    },
    {
     "name": "stdout",
     "output_type": "stream",
     "text": [
      "Optimize a model with 53 rows, 25601 columns and 73680 nonzeros\n"
     ]
    },
    {
     "name": "stderr",
     "output_type": "stream",
     "text": [
      "INFO:gurobipy:Optimize a model with 53 rows, 25601 columns and 73680 nonzeros\n"
     ]
    },
    {
     "name": "stdout",
     "output_type": "stream",
     "text": [
      "Model fingerprint: 0xd87c8bb4\n"
     ]
    },
    {
     "name": "stderr",
     "output_type": "stream",
     "text": [
      "INFO:gurobipy:Model fingerprint: 0xd87c8bb4\n"
     ]
    },
    {
     "name": "stdout",
     "output_type": "stream",
     "text": [
      "Variable types: 1 continuous, 25600 integer (25600 binary)\n"
     ]
    },
    {
     "name": "stderr",
     "output_type": "stream",
     "text": [
      "INFO:gurobipy:Variable types: 1 continuous, 25600 integer (25600 binary)\n"
     ]
    },
    {
     "name": "stdout",
     "output_type": "stream",
     "text": [
      "Coefficient statistics:\n"
     ]
    },
    {
     "name": "stderr",
     "output_type": "stream",
     "text": [
      "INFO:gurobipy:Coefficient statistics:\n"
     ]
    },
    {
     "name": "stdout",
     "output_type": "stream",
     "text": [
      "  Matrix range     [2e-02, 9e+00]\n"
     ]
    },
    {
     "name": "stderr",
     "output_type": "stream",
     "text": [
      "INFO:gurobipy:  Matrix range     [2e-02, 9e+00]\n"
     ]
    },
    {
     "name": "stdout",
     "output_type": "stream",
     "text": [
      "  Objective range  [1e+00, 1e+00]\n"
     ]
    },
    {
     "name": "stderr",
     "output_type": "stream",
     "text": [
      "INFO:gurobipy:  Objective range  [1e+00, 1e+00]\n"
     ]
    },
    {
     "name": "stdout",
     "output_type": "stream",
     "text": [
      "  Bounds range     [1e+00, 1e+00]\n"
     ]
    },
    {
     "name": "stderr",
     "output_type": "stream",
     "text": [
      "INFO:gurobipy:  Bounds range     [1e+00, 1e+00]\n"
     ]
    },
    {
     "name": "stdout",
     "output_type": "stream",
     "text": [
      "  RHS range        [1e+00, 1e+02]\n"
     ]
    },
    {
     "name": "stderr",
     "output_type": "stream",
     "text": [
      "INFO:gurobipy:  RHS range        [1e+00, 1e+02]\n"
     ]
    },
    {
     "name": "stdout",
     "output_type": "stream",
     "text": [
      "Found heuristic solution: objective 0.6199999\n"
     ]
    },
    {
     "name": "stderr",
     "output_type": "stream",
     "text": [
      "INFO:gurobipy:Found heuristic solution: objective 0.6199999\n"
     ]
    },
    {
     "name": "stdout",
     "output_type": "stream",
     "text": [
      "Presolve removed 53 rows and 25601 columns\n"
     ]
    },
    {
     "name": "stderr",
     "output_type": "stream",
     "text": [
      "INFO:gurobipy:Presolve removed 53 rows and 25601 columns\n"
     ]
    },
    {
     "name": "stdout",
     "output_type": "stream",
     "text": [
      "Presolve time: 0.05s\n"
     ]
    },
    {
     "name": "stderr",
     "output_type": "stream",
     "text": [
      "INFO:gurobipy:Presolve time: 0.05s\n"
     ]
    },
    {
     "name": "stdout",
     "output_type": "stream",
     "text": [
      "Presolve: All rows and columns removed\n"
     ]
    },
    {
     "name": "stderr",
     "output_type": "stream",
     "text": [
      "INFO:gurobipy:Presolve: All rows and columns removed\n"
     ]
    },
    {
     "name": "stdout",
     "output_type": "stream",
     "text": [
      "\n"
     ]
    },
    {
     "name": "stderr",
     "output_type": "stream",
     "text": [
      "INFO:gurobipy:\n"
     ]
    },
    {
     "name": "stdout",
     "output_type": "stream",
     "text": [
      "Explored 0 nodes (0 simplex iterations) in 0.12 seconds (0.02 work units)\n"
     ]
    },
    {
     "name": "stderr",
     "output_type": "stream",
     "text": [
      "INFO:gurobipy:Explored 0 nodes (0 simplex iterations) in 0.12 seconds (0.02 work units)\n"
     ]
    },
    {
     "name": "stdout",
     "output_type": "stream",
     "text": [
      "Thread count was 1 (of 8 available processors)\n"
     ]
    },
    {
     "name": "stderr",
     "output_type": "stream",
     "text": [
      "INFO:gurobipy:Thread count was 1 (of 8 available processors)\n"
     ]
    },
    {
     "name": "stdout",
     "output_type": "stream",
     "text": [
      "\n"
     ]
    },
    {
     "name": "stderr",
     "output_type": "stream",
     "text": [
      "INFO:gurobipy:\n"
     ]
    },
    {
     "name": "stdout",
     "output_type": "stream",
     "text": [
      "Solution count 2: 0 0.62 \n"
     ]
    },
    {
     "name": "stderr",
     "output_type": "stream",
     "text": [
      "INFO:gurobipy:Solution count 2: 0 0.62 \n"
     ]
    },
    {
     "name": "stdout",
     "output_type": "stream",
     "text": [
      "\n"
     ]
    },
    {
     "name": "stderr",
     "output_type": "stream",
     "text": [
      "INFO:gurobipy:\n"
     ]
    },
    {
     "name": "stdout",
     "output_type": "stream",
     "text": [
      "Optimal solution found (tolerance 1.00e-04)\n"
     ]
    },
    {
     "name": "stderr",
     "output_type": "stream",
     "text": [
      "INFO:gurobipy:Optimal solution found (tolerance 1.00e-04)\n"
     ]
    },
    {
     "name": "stdout",
     "output_type": "stream",
     "text": [
      "Best objective 0.000000000000e+00, best bound 0.000000000000e+00, gap 0.0000%\n"
     ]
    },
    {
     "name": "stderr",
     "output_type": "stream",
     "text": [
      "INFO:gurobipy:Best objective 0.000000000000e+00, best bound 0.000000000000e+00, gap 0.0000%\n",
      " 38%|███▊      | 3/8 [00:58<01:35, 19.15s/it]"
     ]
    },
    {
     "name": "stdout",
     "output_type": "stream",
     "text": [
      "Gurobi Optimizer version 11.0.2 build v11.0.2rc0 (win64 - Windows 11.0 (22631.2))\n"
     ]
    },
    {
     "name": "stderr",
     "output_type": "stream",
     "text": [
      "INFO:gurobipy:Gurobi Optimizer version 11.0.2 build v11.0.2rc0 (win64 - Windows 11.0 (22631.2))\n"
     ]
    },
    {
     "name": "stdout",
     "output_type": "stream",
     "text": [
      "\n"
     ]
    },
    {
     "name": "stderr",
     "output_type": "stream",
     "text": [
      "INFO:gurobipy:\n"
     ]
    },
    {
     "name": "stdout",
     "output_type": "stream",
     "text": [
      "CPU model: 11th Gen Intel(R) Core(TM) i5-1145G7 @ 2.60GHz, instruction set [SSE2|AVX|AVX2|AVX512]\n"
     ]
    },
    {
     "name": "stderr",
     "output_type": "stream",
     "text": [
      "INFO:gurobipy:CPU model: 11th Gen Intel(R) Core(TM) i5-1145G7 @ 2.60GHz, instruction set [SSE2|AVX|AVX2|AVX512]\n"
     ]
    },
    {
     "name": "stdout",
     "output_type": "stream",
     "text": [
      "Thread count: 4 physical cores, 8 logical processors, using up to 8 threads\n"
     ]
    },
    {
     "name": "stderr",
     "output_type": "stream",
     "text": [
      "INFO:gurobipy:Thread count: 4 physical cores, 8 logical processors, using up to 8 threads\n"
     ]
    },
    {
     "name": "stdout",
     "output_type": "stream",
     "text": [
      "\n"
     ]
    },
    {
     "name": "stderr",
     "output_type": "stream",
     "text": [
      "INFO:gurobipy:\n"
     ]
    },
    {
     "name": "stdout",
     "output_type": "stream",
     "text": [
      "Optimize a model with 53 rows, 25601 columns and 73680 nonzeros\n"
     ]
    },
    {
     "name": "stderr",
     "output_type": "stream",
     "text": [
      "INFO:gurobipy:Optimize a model with 53 rows, 25601 columns and 73680 nonzeros\n"
     ]
    },
    {
     "name": "stdout",
     "output_type": "stream",
     "text": [
      "Model fingerprint: 0x94477460\n"
     ]
    },
    {
     "name": "stderr",
     "output_type": "stream",
     "text": [
      "INFO:gurobipy:Model fingerprint: 0x94477460\n"
     ]
    },
    {
     "name": "stdout",
     "output_type": "stream",
     "text": [
      "Variable types: 1 continuous, 25600 integer (25600 binary)\n"
     ]
    },
    {
     "name": "stderr",
     "output_type": "stream",
     "text": [
      "INFO:gurobipy:Variable types: 1 continuous, 25600 integer (25600 binary)\n"
     ]
    },
    {
     "name": "stdout",
     "output_type": "stream",
     "text": [
      "Coefficient statistics:\n"
     ]
    },
    {
     "name": "stderr",
     "output_type": "stream",
     "text": [
      "INFO:gurobipy:Coefficient statistics:\n"
     ]
    },
    {
     "name": "stdout",
     "output_type": "stream",
     "text": [
      "  Matrix range     [2e-02, 9e+00]\n"
     ]
    },
    {
     "name": "stderr",
     "output_type": "stream",
     "text": [
      "INFO:gurobipy:  Matrix range     [2e-02, 9e+00]\n"
     ]
    },
    {
     "name": "stdout",
     "output_type": "stream",
     "text": [
      "  Objective range  [1e+00, 1e+00]\n"
     ]
    },
    {
     "name": "stderr",
     "output_type": "stream",
     "text": [
      "INFO:gurobipy:  Objective range  [1e+00, 1e+00]\n"
     ]
    },
    {
     "name": "stdout",
     "output_type": "stream",
     "text": [
      "  Bounds range     [1e+00, 1e+00]\n"
     ]
    },
    {
     "name": "stderr",
     "output_type": "stream",
     "text": [
      "INFO:gurobipy:  Bounds range     [1e+00, 1e+00]\n"
     ]
    },
    {
     "name": "stdout",
     "output_type": "stream",
     "text": [
      "  RHS range        [1e+00, 2e+02]\n"
     ]
    },
    {
     "name": "stderr",
     "output_type": "stream",
     "text": [
      "INFO:gurobipy:  RHS range        [1e+00, 2e+02]\n"
     ]
    },
    {
     "name": "stdout",
     "output_type": "stream",
     "text": [
      "Found heuristic solution: objective 0.5200000\n"
     ]
    },
    {
     "name": "stderr",
     "output_type": "stream",
     "text": [
      "INFO:gurobipy:Found heuristic solution: objective 0.5200000\n"
     ]
    },
    {
     "name": "stdout",
     "output_type": "stream",
     "text": [
      "Presolve removed 53 rows and 25601 columns\n"
     ]
    },
    {
     "name": "stderr",
     "output_type": "stream",
     "text": [
      "INFO:gurobipy:Presolve removed 53 rows and 25601 columns\n"
     ]
    },
    {
     "name": "stdout",
     "output_type": "stream",
     "text": [
      "Presolve time: 0.13s\n"
     ]
    },
    {
     "name": "stderr",
     "output_type": "stream",
     "text": [
      "INFO:gurobipy:Presolve time: 0.13s\n"
     ]
    },
    {
     "name": "stdout",
     "output_type": "stream",
     "text": [
      "Presolve: All rows and columns removed\n"
     ]
    },
    {
     "name": "stderr",
     "output_type": "stream",
     "text": [
      "INFO:gurobipy:Presolve: All rows and columns removed\n"
     ]
    },
    {
     "name": "stdout",
     "output_type": "stream",
     "text": [
      "\n"
     ]
    },
    {
     "name": "stderr",
     "output_type": "stream",
     "text": [
      "INFO:gurobipy:\n"
     ]
    },
    {
     "name": "stdout",
     "output_type": "stream",
     "text": [
      "Explored 0 nodes (0 simplex iterations) in 0.24 seconds (0.02 work units)\n"
     ]
    },
    {
     "name": "stderr",
     "output_type": "stream",
     "text": [
      "INFO:gurobipy:Explored 0 nodes (0 simplex iterations) in 0.24 seconds (0.02 work units)\n"
     ]
    },
    {
     "name": "stdout",
     "output_type": "stream",
     "text": [
      "Thread count was 1 (of 8 available processors)\n"
     ]
    },
    {
     "name": "stderr",
     "output_type": "stream",
     "text": [
      "INFO:gurobipy:Thread count was 1 (of 8 available processors)\n"
     ]
    },
    {
     "name": "stdout",
     "output_type": "stream",
     "text": [
      "\n"
     ]
    },
    {
     "name": "stderr",
     "output_type": "stream",
     "text": [
      "INFO:gurobipy:\n"
     ]
    },
    {
     "name": "stdout",
     "output_type": "stream",
     "text": [
      "Solution count 2: 0 0.52 \n"
     ]
    },
    {
     "name": "stderr",
     "output_type": "stream",
     "text": [
      "INFO:gurobipy:Solution count 2: 0 0.52 \n"
     ]
    },
    {
     "name": "stdout",
     "output_type": "stream",
     "text": [
      "\n"
     ]
    },
    {
     "name": "stderr",
     "output_type": "stream",
     "text": [
      "INFO:gurobipy:\n"
     ]
    },
    {
     "name": "stdout",
     "output_type": "stream",
     "text": [
      "Optimal solution found (tolerance 1.00e-04)\n"
     ]
    },
    {
     "name": "stderr",
     "output_type": "stream",
     "text": [
      "INFO:gurobipy:Optimal solution found (tolerance 1.00e-04)\n"
     ]
    },
    {
     "name": "stdout",
     "output_type": "stream",
     "text": [
      "Best objective 0.000000000000e+00, best bound 0.000000000000e+00, gap 0.0000%\n"
     ]
    },
    {
     "name": "stderr",
     "output_type": "stream",
     "text": [
      "INFO:gurobipy:Best objective 0.000000000000e+00, best bound 0.000000000000e+00, gap 0.0000%\n",
      " 50%|█████     | 4/8 [01:29<01:34, 23.71s/it]"
     ]
    },
    {
     "name": "stdout",
     "output_type": "stream",
     "text": [
      "Gurobi Optimizer version 11.0.2 build v11.0.2rc0 (win64 - Windows 11.0 (22631.2))\n"
     ]
    },
    {
     "name": "stderr",
     "output_type": "stream",
     "text": [
      "INFO:gurobipy:Gurobi Optimizer version 11.0.2 build v11.0.2rc0 (win64 - Windows 11.0 (22631.2))\n"
     ]
    },
    {
     "name": "stdout",
     "output_type": "stream",
     "text": [
      "\n"
     ]
    },
    {
     "name": "stderr",
     "output_type": "stream",
     "text": [
      "INFO:gurobipy:\n"
     ]
    },
    {
     "name": "stdout",
     "output_type": "stream",
     "text": [
      "CPU model: 11th Gen Intel(R) Core(TM) i5-1145G7 @ 2.60GHz, instruction set [SSE2|AVX|AVX2|AVX512]\n"
     ]
    },
    {
     "name": "stderr",
     "output_type": "stream",
     "text": [
      "INFO:gurobipy:CPU model: 11th Gen Intel(R) Core(TM) i5-1145G7 @ 2.60GHz, instruction set [SSE2|AVX|AVX2|AVX512]\n"
     ]
    },
    {
     "name": "stdout",
     "output_type": "stream",
     "text": [
      "Thread count: 4 physical cores, 8 logical processors, using up to 8 threads\n"
     ]
    },
    {
     "name": "stderr",
     "output_type": "stream",
     "text": [
      "INFO:gurobipy:Thread count: 4 physical cores, 8 logical processors, using up to 8 threads\n"
     ]
    },
    {
     "name": "stdout",
     "output_type": "stream",
     "text": [
      "\n"
     ]
    },
    {
     "name": "stderr",
     "output_type": "stream",
     "text": [
      "INFO:gurobipy:\n"
     ]
    },
    {
     "name": "stdout",
     "output_type": "stream",
     "text": [
      "Optimize a model with 53 rows, 25601 columns and 73680 nonzeros\n"
     ]
    },
    {
     "name": "stderr",
     "output_type": "stream",
     "text": [
      "INFO:gurobipy:Optimize a model with 53 rows, 25601 columns and 73680 nonzeros\n"
     ]
    },
    {
     "name": "stdout",
     "output_type": "stream",
     "text": [
      "Model fingerprint: 0x37672da0\n"
     ]
    },
    {
     "name": "stderr",
     "output_type": "stream",
     "text": [
      "INFO:gurobipy:Model fingerprint: 0x37672da0\n"
     ]
    },
    {
     "name": "stdout",
     "output_type": "stream",
     "text": [
      "Variable types: 1 continuous, 25600 integer (25600 binary)\n"
     ]
    },
    {
     "name": "stderr",
     "output_type": "stream",
     "text": [
      "INFO:gurobipy:Variable types: 1 continuous, 25600 integer (25600 binary)\n"
     ]
    },
    {
     "name": "stdout",
     "output_type": "stream",
     "text": [
      "Coefficient statistics:\n"
     ]
    },
    {
     "name": "stderr",
     "output_type": "stream",
     "text": [
      "INFO:gurobipy:Coefficient statistics:\n"
     ]
    },
    {
     "name": "stdout",
     "output_type": "stream",
     "text": [
      "  Matrix range     [2e-02, 9e+00]\n"
     ]
    },
    {
     "name": "stderr",
     "output_type": "stream",
     "text": [
      "INFO:gurobipy:  Matrix range     [2e-02, 9e+00]\n"
     ]
    },
    {
     "name": "stdout",
     "output_type": "stream",
     "text": [
      "  Objective range  [1e+00, 1e+00]\n"
     ]
    },
    {
     "name": "stderr",
     "output_type": "stream",
     "text": [
      "INFO:gurobipy:  Objective range  [1e+00, 1e+00]\n"
     ]
    },
    {
     "name": "stdout",
     "output_type": "stream",
     "text": [
      "  Bounds range     [1e+00, 1e+00]\n"
     ]
    },
    {
     "name": "stderr",
     "output_type": "stream",
     "text": [
      "INFO:gurobipy:  Bounds range     [1e+00, 1e+00]\n"
     ]
    },
    {
     "name": "stdout",
     "output_type": "stream",
     "text": [
      "  RHS range        [1e+00, 2e+02]\n"
     ]
    },
    {
     "name": "stderr",
     "output_type": "stream",
     "text": [
      "INFO:gurobipy:  RHS range        [1e+00, 2e+02]\n"
     ]
    },
    {
     "name": "stdout",
     "output_type": "stream",
     "text": [
      "Found heuristic solution: objective 0.4000001\n"
     ]
    },
    {
     "name": "stderr",
     "output_type": "stream",
     "text": [
      "INFO:gurobipy:Found heuristic solution: objective 0.4000001\n"
     ]
    },
    {
     "name": "stdout",
     "output_type": "stream",
     "text": [
      "Presolve removed 53 rows and 25601 columns\n"
     ]
    },
    {
     "name": "stderr",
     "output_type": "stream",
     "text": [
      "INFO:gurobipy:Presolve removed 53 rows and 25601 columns\n"
     ]
    },
    {
     "name": "stdout",
     "output_type": "stream",
     "text": [
      "Presolve time: 0.10s\n"
     ]
    },
    {
     "name": "stderr",
     "output_type": "stream",
     "text": [
      "INFO:gurobipy:Presolve time: 0.10s\n"
     ]
    },
    {
     "name": "stdout",
     "output_type": "stream",
     "text": [
      "Presolve: All rows and columns removed\n"
     ]
    },
    {
     "name": "stderr",
     "output_type": "stream",
     "text": [
      "INFO:gurobipy:Presolve: All rows and columns removed\n"
     ]
    },
    {
     "name": "stdout",
     "output_type": "stream",
     "text": [
      "\n"
     ]
    },
    {
     "name": "stderr",
     "output_type": "stream",
     "text": [
      "INFO:gurobipy:\n"
     ]
    },
    {
     "name": "stdout",
     "output_type": "stream",
     "text": [
      "Explored 0 nodes (0 simplex iterations) in 0.24 seconds (0.02 work units)\n"
     ]
    },
    {
     "name": "stderr",
     "output_type": "stream",
     "text": [
      "INFO:gurobipy:Explored 0 nodes (0 simplex iterations) in 0.24 seconds (0.02 work units)\n"
     ]
    },
    {
     "name": "stdout",
     "output_type": "stream",
     "text": [
      "Thread count was 1 (of 8 available processors)\n"
     ]
    },
    {
     "name": "stderr",
     "output_type": "stream",
     "text": [
      "INFO:gurobipy:Thread count was 1 (of 8 available processors)\n"
     ]
    },
    {
     "name": "stdout",
     "output_type": "stream",
     "text": [
      "\n"
     ]
    },
    {
     "name": "stderr",
     "output_type": "stream",
     "text": [
      "INFO:gurobipy:\n"
     ]
    },
    {
     "name": "stdout",
     "output_type": "stream",
     "text": [
      "Solution count 2: 0 0.4 \n"
     ]
    },
    {
     "name": "stderr",
     "output_type": "stream",
     "text": [
      "INFO:gurobipy:Solution count 2: 0 0.4 \n"
     ]
    },
    {
     "name": "stdout",
     "output_type": "stream",
     "text": [
      "\n"
     ]
    },
    {
     "name": "stderr",
     "output_type": "stream",
     "text": [
      "INFO:gurobipy:\n"
     ]
    },
    {
     "name": "stdout",
     "output_type": "stream",
     "text": [
      "Optimal solution found (tolerance 1.00e-04)\n"
     ]
    },
    {
     "name": "stderr",
     "output_type": "stream",
     "text": [
      "INFO:gurobipy:Optimal solution found (tolerance 1.00e-04)\n"
     ]
    },
    {
     "name": "stdout",
     "output_type": "stream",
     "text": [
      "Best objective 0.000000000000e+00, best bound 0.000000000000e+00, gap 0.0000%\n"
     ]
    },
    {
     "name": "stderr",
     "output_type": "stream",
     "text": [
      "INFO:gurobipy:Best objective 0.000000000000e+00, best bound 0.000000000000e+00, gap 0.0000%\n",
      " 62%|██████▎   | 5/8 [02:08<01:28, 29.39s/it]"
     ]
    },
    {
     "name": "stdout",
     "output_type": "stream",
     "text": [
      "Gurobi Optimizer version 11.0.2 build v11.0.2rc0 (win64 - Windows 11.0 (22631.2))\n"
     ]
    },
    {
     "name": "stderr",
     "output_type": "stream",
     "text": [
      "INFO:gurobipy:Gurobi Optimizer version 11.0.2 build v11.0.2rc0 (win64 - Windows 11.0 (22631.2))\n"
     ]
    },
    {
     "name": "stdout",
     "output_type": "stream",
     "text": [
      "\n"
     ]
    },
    {
     "name": "stderr",
     "output_type": "stream",
     "text": [
      "INFO:gurobipy:\n"
     ]
    },
    {
     "name": "stdout",
     "output_type": "stream",
     "text": [
      "CPU model: 11th Gen Intel(R) Core(TM) i5-1145G7 @ 2.60GHz, instruction set [SSE2|AVX|AVX2|AVX512]\n"
     ]
    },
    {
     "name": "stderr",
     "output_type": "stream",
     "text": [
      "INFO:gurobipy:CPU model: 11th Gen Intel(R) Core(TM) i5-1145G7 @ 2.60GHz, instruction set [SSE2|AVX|AVX2|AVX512]\n"
     ]
    },
    {
     "name": "stdout",
     "output_type": "stream",
     "text": [
      "Thread count: 4 physical cores, 8 logical processors, using up to 8 threads\n"
     ]
    },
    {
     "name": "stderr",
     "output_type": "stream",
     "text": [
      "INFO:gurobipy:Thread count: 4 physical cores, 8 logical processors, using up to 8 threads\n"
     ]
    },
    {
     "name": "stdout",
     "output_type": "stream",
     "text": [
      "\n"
     ]
    },
    {
     "name": "stderr",
     "output_type": "stream",
     "text": [
      "INFO:gurobipy:\n"
     ]
    },
    {
     "name": "stdout",
     "output_type": "stream",
     "text": [
      "Optimize a model with 53 rows, 25601 columns and 73680 nonzeros\n"
     ]
    },
    {
     "name": "stderr",
     "output_type": "stream",
     "text": [
      "INFO:gurobipy:Optimize a model with 53 rows, 25601 columns and 73680 nonzeros\n"
     ]
    },
    {
     "name": "stdout",
     "output_type": "stream",
     "text": [
      "Model fingerprint: 0xdc227daa\n"
     ]
    },
    {
     "name": "stderr",
     "output_type": "stream",
     "text": [
      "INFO:gurobipy:Model fingerprint: 0xdc227daa\n"
     ]
    },
    {
     "name": "stdout",
     "output_type": "stream",
     "text": [
      "Variable types: 1 continuous, 25600 integer (25600 binary)\n"
     ]
    },
    {
     "name": "stderr",
     "output_type": "stream",
     "text": [
      "INFO:gurobipy:Variable types: 1 continuous, 25600 integer (25600 binary)\n"
     ]
    },
    {
     "name": "stdout",
     "output_type": "stream",
     "text": [
      "Coefficient statistics:\n"
     ]
    },
    {
     "name": "stderr",
     "output_type": "stream",
     "text": [
      "INFO:gurobipy:Coefficient statistics:\n"
     ]
    },
    {
     "name": "stdout",
     "output_type": "stream",
     "text": [
      "  Matrix range     [2e-02, 9e+00]\n"
     ]
    },
    {
     "name": "stderr",
     "output_type": "stream",
     "text": [
      "INFO:gurobipy:  Matrix range     [2e-02, 9e+00]\n"
     ]
    },
    {
     "name": "stdout",
     "output_type": "stream",
     "text": [
      "  Objective range  [1e+00, 1e+00]\n"
     ]
    },
    {
     "name": "stderr",
     "output_type": "stream",
     "text": [
      "INFO:gurobipy:  Objective range  [1e+00, 1e+00]\n"
     ]
    },
    {
     "name": "stdout",
     "output_type": "stream",
     "text": [
      "  Bounds range     [1e+00, 1e+00]\n"
     ]
    },
    {
     "name": "stderr",
     "output_type": "stream",
     "text": [
      "INFO:gurobipy:  Bounds range     [1e+00, 1e+00]\n"
     ]
    },
    {
     "name": "stdout",
     "output_type": "stream",
     "text": [
      "  RHS range        [1e+00, 3e+02]\n"
     ]
    },
    {
     "name": "stderr",
     "output_type": "stream",
     "text": [
      "INFO:gurobipy:  RHS range        [1e+00, 3e+02]\n"
     ]
    },
    {
     "name": "stdout",
     "output_type": "stream",
     "text": [
      "Found heuristic solution: objective 0.4000001\n"
     ]
    },
    {
     "name": "stderr",
     "output_type": "stream",
     "text": [
      "INFO:gurobipy:Found heuristic solution: objective 0.4000001\n"
     ]
    },
    {
     "name": "stdout",
     "output_type": "stream",
     "text": [
      "Presolve removed 53 rows and 25601 columns\n"
     ]
    },
    {
     "name": "stderr",
     "output_type": "stream",
     "text": [
      "INFO:gurobipy:Presolve removed 53 rows and 25601 columns\n"
     ]
    },
    {
     "name": "stdout",
     "output_type": "stream",
     "text": [
      "Presolve time: 0.12s\n"
     ]
    },
    {
     "name": "stderr",
     "output_type": "stream",
     "text": [
      "INFO:gurobipy:Presolve time: 0.12s\n"
     ]
    },
    {
     "name": "stdout",
     "output_type": "stream",
     "text": [
      "Presolve: All rows and columns removed\n"
     ]
    },
    {
     "name": "stderr",
     "output_type": "stream",
     "text": [
      "INFO:gurobipy:Presolve: All rows and columns removed\n"
     ]
    },
    {
     "name": "stdout",
     "output_type": "stream",
     "text": [
      "\n"
     ]
    },
    {
     "name": "stderr",
     "output_type": "stream",
     "text": [
      "INFO:gurobipy:\n"
     ]
    },
    {
     "name": "stdout",
     "output_type": "stream",
     "text": [
      "Explored 0 nodes (0 simplex iterations) in 0.22 seconds (0.02 work units)\n"
     ]
    },
    {
     "name": "stderr",
     "output_type": "stream",
     "text": [
      "INFO:gurobipy:Explored 0 nodes (0 simplex iterations) in 0.22 seconds (0.02 work units)\n"
     ]
    },
    {
     "name": "stdout",
     "output_type": "stream",
     "text": [
      "Thread count was 1 (of 8 available processors)\n"
     ]
    },
    {
     "name": "stderr",
     "output_type": "stream",
     "text": [
      "INFO:gurobipy:Thread count was 1 (of 8 available processors)\n"
     ]
    },
    {
     "name": "stdout",
     "output_type": "stream",
     "text": [
      "\n"
     ]
    },
    {
     "name": "stderr",
     "output_type": "stream",
     "text": [
      "INFO:gurobipy:\n"
     ]
    },
    {
     "name": "stdout",
     "output_type": "stream",
     "text": [
      "Solution count 2: 0 0.4 \n"
     ]
    },
    {
     "name": "stderr",
     "output_type": "stream",
     "text": [
      "INFO:gurobipy:Solution count 2: 0 0.4 \n"
     ]
    },
    {
     "name": "stdout",
     "output_type": "stream",
     "text": [
      "\n"
     ]
    },
    {
     "name": "stderr",
     "output_type": "stream",
     "text": [
      "INFO:gurobipy:\n"
     ]
    },
    {
     "name": "stdout",
     "output_type": "stream",
     "text": [
      "Optimal solution found (tolerance 1.00e-04)\n"
     ]
    },
    {
     "name": "stderr",
     "output_type": "stream",
     "text": [
      "INFO:gurobipy:Optimal solution found (tolerance 1.00e-04)\n"
     ]
    },
    {
     "name": "stdout",
     "output_type": "stream",
     "text": [
      "Best objective 0.000000000000e+00, best bound 0.000000000000e+00, gap 0.0000%\n"
     ]
    },
    {
     "name": "stderr",
     "output_type": "stream",
     "text": [
      "INFO:gurobipy:Best objective 0.000000000000e+00, best bound 0.000000000000e+00, gap 0.0000%\n",
      " 75%|███████▌  | 6/8 [02:33<00:55, 27.81s/it]"
     ]
    },
    {
     "name": "stdout",
     "output_type": "stream",
     "text": [
      "Gurobi Optimizer version 11.0.2 build v11.0.2rc0 (win64 - Windows 11.0 (22631.2))\n"
     ]
    },
    {
     "name": "stderr",
     "output_type": "stream",
     "text": [
      "INFO:gurobipy:Gurobi Optimizer version 11.0.2 build v11.0.2rc0 (win64 - Windows 11.0 (22631.2))\n"
     ]
    },
    {
     "name": "stdout",
     "output_type": "stream",
     "text": [
      "\n"
     ]
    },
    {
     "name": "stderr",
     "output_type": "stream",
     "text": [
      "INFO:gurobipy:\n"
     ]
    },
    {
     "name": "stdout",
     "output_type": "stream",
     "text": [
      "CPU model: 11th Gen Intel(R) Core(TM) i5-1145G7 @ 2.60GHz, instruction set [SSE2|AVX|AVX2|AVX512]\n"
     ]
    },
    {
     "name": "stderr",
     "output_type": "stream",
     "text": [
      "INFO:gurobipy:CPU model: 11th Gen Intel(R) Core(TM) i5-1145G7 @ 2.60GHz, instruction set [SSE2|AVX|AVX2|AVX512]\n"
     ]
    },
    {
     "name": "stdout",
     "output_type": "stream",
     "text": [
      "Thread count: 4 physical cores, 8 logical processors, using up to 8 threads\n"
     ]
    },
    {
     "name": "stderr",
     "output_type": "stream",
     "text": [
      "INFO:gurobipy:Thread count: 4 physical cores, 8 logical processors, using up to 8 threads\n"
     ]
    },
    {
     "name": "stdout",
     "output_type": "stream",
     "text": [
      "\n"
     ]
    },
    {
     "name": "stderr",
     "output_type": "stream",
     "text": [
      "INFO:gurobipy:\n"
     ]
    },
    {
     "name": "stdout",
     "output_type": "stream",
     "text": [
      "Optimize a model with 53 rows, 25601 columns and 73680 nonzeros\n"
     ]
    },
    {
     "name": "stderr",
     "output_type": "stream",
     "text": [
      "INFO:gurobipy:Optimize a model with 53 rows, 25601 columns and 73680 nonzeros\n"
     ]
    },
    {
     "name": "stdout",
     "output_type": "stream",
     "text": [
      "Model fingerprint: 0xf1eb2bab\n"
     ]
    },
    {
     "name": "stderr",
     "output_type": "stream",
     "text": [
      "INFO:gurobipy:Model fingerprint: 0xf1eb2bab\n"
     ]
    },
    {
     "name": "stdout",
     "output_type": "stream",
     "text": [
      "Variable types: 1 continuous, 25600 integer (25600 binary)\n"
     ]
    },
    {
     "name": "stderr",
     "output_type": "stream",
     "text": [
      "INFO:gurobipy:Variable types: 1 continuous, 25600 integer (25600 binary)\n"
     ]
    },
    {
     "name": "stdout",
     "output_type": "stream",
     "text": [
      "Coefficient statistics:\n"
     ]
    },
    {
     "name": "stderr",
     "output_type": "stream",
     "text": [
      "INFO:gurobipy:Coefficient statistics:\n"
     ]
    },
    {
     "name": "stdout",
     "output_type": "stream",
     "text": [
      "  Matrix range     [2e-02, 9e+00]\n"
     ]
    },
    {
     "name": "stderr",
     "output_type": "stream",
     "text": [
      "INFO:gurobipy:  Matrix range     [2e-02, 9e+00]\n"
     ]
    },
    {
     "name": "stdout",
     "output_type": "stream",
     "text": [
      "  Objective range  [1e+00, 1e+00]\n"
     ]
    },
    {
     "name": "stderr",
     "output_type": "stream",
     "text": [
      "INFO:gurobipy:  Objective range  [1e+00, 1e+00]\n"
     ]
    },
    {
     "name": "stdout",
     "output_type": "stream",
     "text": [
      "  Bounds range     [1e+00, 1e+00]\n"
     ]
    },
    {
     "name": "stderr",
     "output_type": "stream",
     "text": [
      "INFO:gurobipy:  Bounds range     [1e+00, 1e+00]\n"
     ]
    },
    {
     "name": "stdout",
     "output_type": "stream",
     "text": [
      "  RHS range        [1e+00, 3e+02]\n"
     ]
    },
    {
     "name": "stderr",
     "output_type": "stream",
     "text": [
      "INFO:gurobipy:  RHS range        [1e+00, 3e+02]\n"
     ]
    },
    {
     "name": "stdout",
     "output_type": "stream",
     "text": [
      "Found heuristic solution: objective 0.4000001\n"
     ]
    },
    {
     "name": "stderr",
     "output_type": "stream",
     "text": [
      "INFO:gurobipy:Found heuristic solution: objective 0.4000001\n"
     ]
    },
    {
     "name": "stdout",
     "output_type": "stream",
     "text": [
      "Presolve removed 53 rows and 25601 columns\n"
     ]
    },
    {
     "name": "stderr",
     "output_type": "stream",
     "text": [
      "INFO:gurobipy:Presolve removed 53 rows and 25601 columns\n"
     ]
    },
    {
     "name": "stdout",
     "output_type": "stream",
     "text": [
      "Presolve time: 0.09s\n"
     ]
    },
    {
     "name": "stderr",
     "output_type": "stream",
     "text": [
      "INFO:gurobipy:Presolve time: 0.09s\n"
     ]
    },
    {
     "name": "stdout",
     "output_type": "stream",
     "text": [
      "Presolve: All rows and columns removed\n"
     ]
    },
    {
     "name": "stderr",
     "output_type": "stream",
     "text": [
      "INFO:gurobipy:Presolve: All rows and columns removed\n"
     ]
    },
    {
     "name": "stdout",
     "output_type": "stream",
     "text": [
      "\n"
     ]
    },
    {
     "name": "stderr",
     "output_type": "stream",
     "text": [
      "INFO:gurobipy:\n"
     ]
    },
    {
     "name": "stdout",
     "output_type": "stream",
     "text": [
      "Explored 0 nodes (0 simplex iterations) in 0.19 seconds (0.02 work units)\n"
     ]
    },
    {
     "name": "stderr",
     "output_type": "stream",
     "text": [
      "INFO:gurobipy:Explored 0 nodes (0 simplex iterations) in 0.19 seconds (0.02 work units)\n"
     ]
    },
    {
     "name": "stdout",
     "output_type": "stream",
     "text": [
      "Thread count was 1 (of 8 available processors)\n"
     ]
    },
    {
     "name": "stderr",
     "output_type": "stream",
     "text": [
      "INFO:gurobipy:Thread count was 1 (of 8 available processors)\n"
     ]
    },
    {
     "name": "stdout",
     "output_type": "stream",
     "text": [
      "\n"
     ]
    },
    {
     "name": "stderr",
     "output_type": "stream",
     "text": [
      "INFO:gurobipy:\n"
     ]
    },
    {
     "name": "stdout",
     "output_type": "stream",
     "text": [
      "Solution count 2: 0 0.4 \n"
     ]
    },
    {
     "name": "stderr",
     "output_type": "stream",
     "text": [
      "INFO:gurobipy:Solution count 2: 0 0.4 \n"
     ]
    },
    {
     "name": "stdout",
     "output_type": "stream",
     "text": [
      "\n"
     ]
    },
    {
     "name": "stderr",
     "output_type": "stream",
     "text": [
      "INFO:gurobipy:\n"
     ]
    },
    {
     "name": "stdout",
     "output_type": "stream",
     "text": [
      "Optimal solution found (tolerance 1.00e-04)\n"
     ]
    },
    {
     "name": "stderr",
     "output_type": "stream",
     "text": [
      "INFO:gurobipy:Optimal solution found (tolerance 1.00e-04)\n"
     ]
    },
    {
     "name": "stdout",
     "output_type": "stream",
     "text": [
      "Best objective 0.000000000000e+00, best bound 0.000000000000e+00, gap 0.0000%\n"
     ]
    },
    {
     "name": "stderr",
     "output_type": "stream",
     "text": [
      "INFO:gurobipy:Best objective 0.000000000000e+00, best bound 0.000000000000e+00, gap 0.0000%\n",
      " 88%|████████▊ | 7/8 [03:02<00:28, 28.13s/it]"
     ]
    },
    {
     "name": "stdout",
     "output_type": "stream",
     "text": [
      "Gurobi Optimizer version 11.0.2 build v11.0.2rc0 (win64 - Windows 11.0 (22631.2))\n"
     ]
    },
    {
     "name": "stderr",
     "output_type": "stream",
     "text": [
      "INFO:gurobipy:Gurobi Optimizer version 11.0.2 build v11.0.2rc0 (win64 - Windows 11.0 (22631.2))\n"
     ]
    },
    {
     "name": "stdout",
     "output_type": "stream",
     "text": [
      "\n"
     ]
    },
    {
     "name": "stderr",
     "output_type": "stream",
     "text": [
      "INFO:gurobipy:\n"
     ]
    },
    {
     "name": "stdout",
     "output_type": "stream",
     "text": [
      "CPU model: 11th Gen Intel(R) Core(TM) i5-1145G7 @ 2.60GHz, instruction set [SSE2|AVX|AVX2|AVX512]\n"
     ]
    },
    {
     "name": "stderr",
     "output_type": "stream",
     "text": [
      "INFO:gurobipy:CPU model: 11th Gen Intel(R) Core(TM) i5-1145G7 @ 2.60GHz, instruction set [SSE2|AVX|AVX2|AVX512]\n"
     ]
    },
    {
     "name": "stdout",
     "output_type": "stream",
     "text": [
      "Thread count: 4 physical cores, 8 logical processors, using up to 8 threads\n"
     ]
    },
    {
     "name": "stderr",
     "output_type": "stream",
     "text": [
      "INFO:gurobipy:Thread count: 4 physical cores, 8 logical processors, using up to 8 threads\n"
     ]
    },
    {
     "name": "stdout",
     "output_type": "stream",
     "text": [
      "\n"
     ]
    },
    {
     "name": "stderr",
     "output_type": "stream",
     "text": [
      "INFO:gurobipy:\n"
     ]
    },
    {
     "name": "stdout",
     "output_type": "stream",
     "text": [
      "Optimize a model with 53 rows, 25601 columns and 73680 nonzeros\n"
     ]
    },
    {
     "name": "stderr",
     "output_type": "stream",
     "text": [
      "INFO:gurobipy:Optimize a model with 53 rows, 25601 columns and 73680 nonzeros\n"
     ]
    },
    {
     "name": "stdout",
     "output_type": "stream",
     "text": [
      "Model fingerprint: 0x53b46e9f\n"
     ]
    },
    {
     "name": "stderr",
     "output_type": "stream",
     "text": [
      "INFO:gurobipy:Model fingerprint: 0x53b46e9f\n"
     ]
    },
    {
     "name": "stdout",
     "output_type": "stream",
     "text": [
      "Variable types: 1 continuous, 25600 integer (25600 binary)\n"
     ]
    },
    {
     "name": "stderr",
     "output_type": "stream",
     "text": [
      "INFO:gurobipy:Variable types: 1 continuous, 25600 integer (25600 binary)\n"
     ]
    },
    {
     "name": "stdout",
     "output_type": "stream",
     "text": [
      "Coefficient statistics:\n"
     ]
    },
    {
     "name": "stderr",
     "output_type": "stream",
     "text": [
      "INFO:gurobipy:Coefficient statistics:\n"
     ]
    },
    {
     "name": "stdout",
     "output_type": "stream",
     "text": [
      "  Matrix range     [2e-02, 9e+00]\n"
     ]
    },
    {
     "name": "stderr",
     "output_type": "stream",
     "text": [
      "INFO:gurobipy:  Matrix range     [2e-02, 9e+00]\n"
     ]
    },
    {
     "name": "stdout",
     "output_type": "stream",
     "text": [
      "  Objective range  [1e+00, 1e+00]\n"
     ]
    },
    {
     "name": "stderr",
     "output_type": "stream",
     "text": [
      "INFO:gurobipy:  Objective range  [1e+00, 1e+00]\n"
     ]
    },
    {
     "name": "stdout",
     "output_type": "stream",
     "text": [
      "  Bounds range     [1e+00, 1e+00]\n"
     ]
    },
    {
     "name": "stderr",
     "output_type": "stream",
     "text": [
      "INFO:gurobipy:  Bounds range     [1e+00, 1e+00]\n"
     ]
    },
    {
     "name": "stdout",
     "output_type": "stream",
     "text": [
      "  RHS range        [1e+00, 4e+02]\n"
     ]
    },
    {
     "name": "stderr",
     "output_type": "stream",
     "text": [
      "INFO:gurobipy:  RHS range        [1e+00, 4e+02]\n"
     ]
    },
    {
     "name": "stdout",
     "output_type": "stream",
     "text": [
      "Found heuristic solution: objective 0.4000001\n"
     ]
    },
    {
     "name": "stderr",
     "output_type": "stream",
     "text": [
      "INFO:gurobipy:Found heuristic solution: objective 0.4000001\n"
     ]
    },
    {
     "name": "stdout",
     "output_type": "stream",
     "text": [
      "Presolve removed 53 rows and 25601 columns\n"
     ]
    },
    {
     "name": "stderr",
     "output_type": "stream",
     "text": [
      "INFO:gurobipy:Presolve removed 53 rows and 25601 columns\n"
     ]
    },
    {
     "name": "stdout",
     "output_type": "stream",
     "text": [
      "Presolve time: 0.05s\n"
     ]
    },
    {
     "name": "stderr",
     "output_type": "stream",
     "text": [
      "INFO:gurobipy:Presolve time: 0.05s\n"
     ]
    },
    {
     "name": "stdout",
     "output_type": "stream",
     "text": [
      "Presolve: All rows and columns removed\n"
     ]
    },
    {
     "name": "stderr",
     "output_type": "stream",
     "text": [
      "INFO:gurobipy:Presolve: All rows and columns removed\n"
     ]
    },
    {
     "name": "stdout",
     "output_type": "stream",
     "text": [
      "\n"
     ]
    },
    {
     "name": "stderr",
     "output_type": "stream",
     "text": [
      "INFO:gurobipy:\n"
     ]
    },
    {
     "name": "stdout",
     "output_type": "stream",
     "text": [
      "Explored 0 nodes (0 simplex iterations) in 0.13 seconds (0.02 work units)\n"
     ]
    },
    {
     "name": "stderr",
     "output_type": "stream",
     "text": [
      "INFO:gurobipy:Explored 0 nodes (0 simplex iterations) in 0.13 seconds (0.02 work units)\n"
     ]
    },
    {
     "name": "stdout",
     "output_type": "stream",
     "text": [
      "Thread count was 1 (of 8 available processors)\n"
     ]
    },
    {
     "name": "stderr",
     "output_type": "stream",
     "text": [
      "INFO:gurobipy:Thread count was 1 (of 8 available processors)\n"
     ]
    },
    {
     "name": "stdout",
     "output_type": "stream",
     "text": [
      "\n"
     ]
    },
    {
     "name": "stderr",
     "output_type": "stream",
     "text": [
      "INFO:gurobipy:\n"
     ]
    },
    {
     "name": "stdout",
     "output_type": "stream",
     "text": [
      "Solution count 2: 0 0.4 \n"
     ]
    },
    {
     "name": "stderr",
     "output_type": "stream",
     "text": [
      "INFO:gurobipy:Solution count 2: 0 0.4 \n"
     ]
    },
    {
     "name": "stdout",
     "output_type": "stream",
     "text": [
      "\n"
     ]
    },
    {
     "name": "stderr",
     "output_type": "stream",
     "text": [
      "INFO:gurobipy:\n"
     ]
    },
    {
     "name": "stdout",
     "output_type": "stream",
     "text": [
      "Optimal solution found (tolerance 1.00e-04)\n"
     ]
    },
    {
     "name": "stderr",
     "output_type": "stream",
     "text": [
      "INFO:gurobipy:Optimal solution found (tolerance 1.00e-04)\n"
     ]
    },
    {
     "name": "stdout",
     "output_type": "stream",
     "text": [
      "Best objective 0.000000000000e+00, best bound 0.000000000000e+00, gap 0.0000%\n"
     ]
    },
    {
     "name": "stderr",
     "output_type": "stream",
     "text": [
      "INFO:gurobipy:Best objective 0.000000000000e+00, best bound 0.000000000000e+00, gap 0.0000%\n",
      "100%|██████████| 8/8 [03:31<00:00, 26.44s/it]\n"
     ]
    }
   ],
   "source": [
    "logger.info(\"\\n\\n------Evaluating Distance Performance Under Interventions------\")\n",
    "experiment.evaluate_distance_performance_under_interventions(\n",
    "    intervention_num_list=[0, 50, 100, 150, 200, 250, 300, 400],\n",
    "    trials_num=10,\n",
    "    replace=False\n",
    ")"
   ]
  },
  {
   "cell_type": "code",
   "execution_count": 103,
   "metadata": {},
   "outputs": [],
   "source": [
    "# from copy import deepcopy\n",
    "# distance_results_backup = deepcopy(experiment.distance_results)"
   ]
  },
  {
   "cell_type": "code",
   "execution_count": 104,
   "metadata": {},
   "outputs": [],
   "source": [
    "# import pickle \n",
    "# with open(f\"pickles/{dataset.name}_distance_results.pickle\", \"rb\") as input_file:\n",
    "#     experiment.distance_results.update(pickle.load(input_file))"
   ]
  },
  {
   "cell_type": "code",
   "execution_count": 108,
   "metadata": {},
   "outputs": [
    {
     "data": {
      "text/plain": [
       "{'CF_UniformMatch': {'optimal_transport': [{'x_list': [0,\n",
       "     50,\n",
       "     100,\n",
       "     150,\n",
       "     200,\n",
       "     250,\n",
       "     300,\n",
       "     400],\n",
       "    'y_list': [0.5225662362467602,\n",
       "     0.37375972838473276,\n",
       "     0.269750885128978,\n",
       "     0.23705408024250532,\n",
       "     0.11350295939730642,\n",
       "     0.059695964631162494,\n",
       "     0.045258819733917925,\n",
       "     5.390204122309505e-05]},\n",
       "   {'x_list': [0, 50, 100, 150, 200, 250, 300, 400],\n",
       "    'y_list': [0.5225662362467602,\n",
       "     0.37045816581990554,\n",
       "     0.302931624692789,\n",
       "     0.22383807597077862,\n",
       "     0.194983198207144,\n",
       "     0.05554756450167701,\n",
       "     0.02454735062857298,\n",
       "     0.0005862698893801177]},\n",
       "   {'x_list': [0, 50, 100, 150, 200, 250, 300, 400],\n",
       "    'y_list': [0.5225662362467602,\n",
       "     0.37371229687412155,\n",
       "     0.24731222734152156,\n",
       "     0.2311240833945027,\n",
       "     0.1058136392418926,\n",
       "     0.09950386739263525,\n",
       "     0.03473502220090782,\n",
       "     1.821757973256233e-05]},\n",
       "   {'x_list': [0, 50, 100, 150, 200, 250, 300, 400],\n",
       "    'y_list': [0.5225662362467602,\n",
       "     0.34681915208677017,\n",
       "     0.2983313680540883,\n",
       "     0.1895238160486672,\n",
       "     0.09853966820635424,\n",
       "     0.0647825256471751,\n",
       "     0.025839466956619955,\n",
       "     0.010240055736890907]},\n",
       "   {'x_list': [0, 50, 100, 150, 200, 250, 300, 400],\n",
       "    'y_list': [0.5225662362467602,\n",
       "     0.3633603138654945,\n",
       "     0.2906196076176758,\n",
       "     0.22533873987363634,\n",
       "     0.13316229123227957,\n",
       "     0.021195454053595197,\n",
       "     0.014373293456633886,\n",
       "     7.360014248287249e-05]},\n",
       "   {'x_list': [0, 50, 100, 150, 200, 250, 300, 400],\n",
       "    'y_list': [0.5225662362467602,\n",
       "     0.3368084370499452,\n",
       "     0.30868056900758734,\n",
       "     0.21405802036672245,\n",
       "     0.08529076080362802,\n",
       "     0.036367106253518244,\n",
       "     0.03415650723498916,\n",
       "     2.3008023659611963e-05]},\n",
       "   {'x_list': [0, 50, 100, 150, 200, 250, 300, 400],\n",
       "    'y_list': [0.5225662362467602,\n",
       "     0.41079589623640744,\n",
       "     0.24646389102995658,\n",
       "     0.22284343188167044,\n",
       "     0.10131033489678987,\n",
       "     0.05836471816079665,\n",
       "     0.027921936697582507,\n",
       "     2.541672297016184e-05]},\n",
       "   {'x_list': [0, 50, 100, 150, 200, 250, 300, 400],\n",
       "    'y_list': [0.5225662362467602,\n",
       "     0.45653594220278526,\n",
       "     0.28726555899721745,\n",
       "     0.16802138627165747,\n",
       "     0.11631071763375136,\n",
       "     0.09545317018948565,\n",
       "     0.037455404808545756,\n",
       "     2.5774486389904543e-05]},\n",
       "   {'x_list': [0, 50, 100, 150, 200, 250, 300, 400],\n",
       "    'y_list': [0.5225662362467602,\n",
       "     0.4050274368907185,\n",
       "     0.3044564648187685,\n",
       "     0.1418733134809007,\n",
       "     0.1387673149690518,\n",
       "     0.10525896388631442,\n",
       "     0.023794374425543222,\n",
       "     4.687481192891419e-05]},\n",
       "   {'x_list': [0, 50, 100, 150, 200, 250, 300, 400],\n",
       "    'y_list': [0.5225662362467602,\n",
       "     0.3961169445383286,\n",
       "     0.29814707093275783,\n",
       "     0.27856247790604644,\n",
       "     0.13953721570401428,\n",
       "     0.04435464736724713,\n",
       "     0.0354188291635545,\n",
       "     4.775654970752718e-05]}],\n",
       "  'mean_difference': [{'x_list': [0, 50, 100, 150, 200, 250, 300, 400],\n",
       "    'y_list': [0.6767137,\n",
       "     0.58955145,\n",
       "     0.36743686,\n",
       "     0.37678418,\n",
       "     0.21246555,\n",
       "     0.21192604,\n",
       "     0.08369413,\n",
       "     0.010177247]},\n",
       "   {'x_list': [0, 50, 100, 150, 200, 250, 300, 400],\n",
       "    'y_list': [0.6767137,\n",
       "     0.6189151,\n",
       "     0.48516384,\n",
       "     0.4466013,\n",
       "     0.32575926,\n",
       "     0.16249546,\n",
       "     0.04543376,\n",
       "     0.0076268315]},\n",
       "   {'x_list': [0, 50, 100, 150, 200, 250, 300, 400],\n",
       "    'y_list': [0.6767137,\n",
       "     0.59775615,\n",
       "     0.42403385,\n",
       "     0.28408936,\n",
       "     0.17442796,\n",
       "     0.11441223,\n",
       "     0.0388622,\n",
       "     0.0066313744]},\n",
       "   {'x_list': [0, 50, 100, 150, 200, 250, 300, 400],\n",
       "    'y_list': [0.6767137,\n",
       "     0.57460046,\n",
       "     0.4733669,\n",
       "     0.3267643,\n",
       "     0.24214369,\n",
       "     0.20298952,\n",
       "     0.066242844,\n",
       "     0.0032268018]},\n",
       "   {'x_list': [0, 50, 100, 150, 200, 250, 300, 400],\n",
       "    'y_list': [0.6767137,\n",
       "     0.54788697,\n",
       "     0.41207942,\n",
       "     0.3370152,\n",
       "     0.15127867,\n",
       "     0.13695866,\n",
       "     0.08478618,\n",
       "     0.0017562658]},\n",
       "   {'x_list': [0, 50, 100, 150, 200, 250, 300, 400],\n",
       "    'y_list': [0.6767137,\n",
       "     0.62123644,\n",
       "     0.41314086,\n",
       "     0.3465095,\n",
       "     0.25202754,\n",
       "     0.105846345,\n",
       "     0.089537546,\n",
       "     0.00052151084]},\n",
       "   {'x_list': [0, 50, 100, 150, 200, 250, 300, 400],\n",
       "    'y_list': [0.6767137,\n",
       "     0.5484822,\n",
       "     0.4033008,\n",
       "     0.31872916,\n",
       "     0.23783648,\n",
       "     0.16339743,\n",
       "     0.08277179,\n",
       "     0.009265453]},\n",
       "   {'x_list': [0, 50, 100, 150, 200, 250, 300, 400],\n",
       "    'y_list': [0.6767137,\n",
       "     0.5488877,\n",
       "     0.4377127,\n",
       "     0.3276082,\n",
       "     0.232725,\n",
       "     0.17119828,\n",
       "     0.14048874,\n",
       "     0.002703607]},\n",
       "   {'x_list': [0, 50, 100, 150, 200, 250, 300, 400],\n",
       "    'y_list': [0.6767137,\n",
       "     0.60514605,\n",
       "     0.41489628,\n",
       "     0.34058377,\n",
       "     0.2102125,\n",
       "     0.18656567,\n",
       "     0.07061845,\n",
       "     0.014459223]},\n",
       "   {'x_list': [0, 50, 100, 150, 200, 250, 300, 400],\n",
       "    'y_list': [0.6767137,\n",
       "     0.5628613,\n",
       "     0.39708194,\n",
       "     0.3522468,\n",
       "     0.27349436,\n",
       "     0.16020057,\n",
       "     0.0671604,\n",
       "     0.0008355081]}],\n",
       "  'median_difference': [{'x_list': [0, 50, 100, 150, 200, 250, 300, 400],\n",
       "    'y_list': [0.88819927,\n",
       "     0.8691329,\n",
       "     0.82645863,\n",
       "     0.15515816,\n",
       "     0.18159468,\n",
       "     0.011373155,\n",
       "     0.059299752,\n",
       "     0.003996551]},\n",
       "   {'x_list': [0, 50, 100, 150, 200, 250, 300, 400],\n",
       "    'y_list': [0.88819927,\n",
       "     0.84349793,\n",
       "     0.58221525,\n",
       "     0.24071456,\n",
       "     0.09897977,\n",
       "     0.020213015,\n",
       "     0.017103225,\n",
       "     0.0019034296]},\n",
       "   {'x_list': [0, 50, 100, 150, 200, 250, 300, 400],\n",
       "    'y_list': [0.88819927,\n",
       "     0.84349793,\n",
       "     0.46784025,\n",
       "     0.2626589,\n",
       "     0.081262186,\n",
       "     0.074983165,\n",
       "     0.003996551,\n",
       "     0.003996551]},\n",
       "   {'x_list': [0, 50, 100, 150, 200, 250, 300, 400],\n",
       "    'y_list': [0.88819927,\n",
       "     0.84349793,\n",
       "     0.6972981,\n",
       "     0.22371735,\n",
       "     0.13026686,\n",
       "     0.017238542,\n",
       "     0.02007769,\n",
       "     0.0019034296]},\n",
       "   {'x_list': [0, 50, 100, 150, 200, 250, 300, 400],\n",
       "    'y_list': [0.88819927,\n",
       "     0.84349793,\n",
       "     0.68435144,\n",
       "     0.35408616,\n",
       "     0.092319265,\n",
       "     0.04297048,\n",
       "     0.02007769,\n",
       "     0.003996551]},\n",
       "   {'x_list': [0, 50, 100, 150, 200, 250, 300, 400],\n",
       "    'y_list': [0.88819927,\n",
       "     0.857668,\n",
       "     0.6042651,\n",
       "     0.364523,\n",
       "     0.074983165,\n",
       "     0.027640454,\n",
       "     0.016981646,\n",
       "     0.003996551]},\n",
       "   {'x_list': [0, 50, 100, 150, 200, 250, 300, 400],\n",
       "    'y_list': [0.88819927,\n",
       "     0.7192299,\n",
       "     0.68435144,\n",
       "     0.25551224,\n",
       "     0.075293675,\n",
       "     0.031362653,\n",
       "     0.02007769,\n",
       "     0.003996551]},\n",
       "   {'x_list': [0, 50, 100, 150, 200, 250, 300, 400],\n",
       "    'y_list': [0.88819927,\n",
       "     0.7355996,\n",
       "     0.7192299,\n",
       "     0.23523636,\n",
       "     0.23523636,\n",
       "     0.027640454,\n",
       "     0.008315727,\n",
       "     0.003996551]},\n",
       "   {'x_list': [0, 50, 100, 150, 200, 250, 300, 400],\n",
       "    'y_list': [0.88819927,\n",
       "     0.82348573,\n",
       "     0.6364508,\n",
       "     0.30101985,\n",
       "     0.075675175,\n",
       "     0.035694048,\n",
       "     0.020334601,\n",
       "     0.0]},\n",
       "   {'x_list': [0, 50, 100, 150, 200, 250, 300, 400],\n",
       "    'y_list': [0.88819927,\n",
       "     0.87360936,\n",
       "     0.65670055,\n",
       "     0.20968021,\n",
       "     0.17168768,\n",
       "     0.017103225,\n",
       "     0.017238542,\n",
       "     0.010858297]}]},\n",
       " 'CF_SingleMatch': {'optimal_transport': [{'x_list': [0,\n",
       "     50,\n",
       "     100,\n",
       "     150,\n",
       "     200,\n",
       "     250,\n",
       "     300,\n",
       "     400],\n",
       "    'y_list': [0.5225662362467602,\n",
       "     0.41466815526329304,\n",
       "     0.3041315037755494,\n",
       "     0.26672823069738827,\n",
       "     0.1848256486611983,\n",
       "     0.09392745049209936,\n",
       "     0.06201256233770365,\n",
       "     0.00848078822162016]},\n",
       "   {'x_list': [0, 50, 100, 150, 200, 250, 300, 400],\n",
       "    'y_list': [0.5225662362467602,\n",
       "     0.398032603235128,\n",
       "     0.3597903523255127,\n",
       "     0.24941454644941133,\n",
       "     0.1506547852527183,\n",
       "     0.09317368329437997,\n",
       "     0.04913431548989067,\n",
       "     0.012746011788455788]},\n",
       "   {'x_list': [0, 50, 100, 150, 200, 250, 300, 400],\n",
       "    'y_list': [0.5225662362467602,\n",
       "     0.4227215711458604,\n",
       "     0.2624135038116816,\n",
       "     0.1915116676817837,\n",
       "     0.20665828258058866,\n",
       "     0.07380778279165426,\n",
       "     0.0714800438754257,\n",
       "     0.0018082829263221358]},\n",
       "   {'x_list': [0, 50, 100, 150, 200, 250, 300, 400],\n",
       "    'y_list': [0.5225662362467602,\n",
       "     0.38992311808106306,\n",
       "     0.3651292022199823,\n",
       "     0.21337819441070677,\n",
       "     0.14841346458196641,\n",
       "     0.09281930406823705,\n",
       "     0.06258202571245348,\n",
       "     0.0004968640211594798]},\n",
       "   {'x_list': [0, 50, 100, 150, 200, 250, 300, 400],\n",
       "    'y_list': [0.5225662362467602,\n",
       "     0.4033713456283778,\n",
       "     0.2637818078673236,\n",
       "     0.21870985535306048,\n",
       "     0.160771257062527,\n",
       "     0.06783118624063647,\n",
       "     0.05793664568582172,\n",
       "     0.005575426328689446]},\n",
       "   {'x_list': [0, 50, 100, 150, 200, 250, 300, 400],\n",
       "    'y_list': [0.5225662362467602,\n",
       "     0.4595349131055747,\n",
       "     0.2829661439172236,\n",
       "     0.2503528002233477,\n",
       "     0.1886469064640963,\n",
       "     0.08191532434988205,\n",
       "     0.05225218378224711,\n",
       "     0.0022827969945009396]},\n",
       "   {'x_list': [0, 50, 100, 150, 200, 250, 300, 400],\n",
       "    'y_list': [0.5225662362467602,\n",
       "     0.42655516568045243,\n",
       "     0.3599574279853306,\n",
       "     0.22187671342142679,\n",
       "     0.12457458610811686,\n",
       "     0.08390572461546,\n",
       "     0.0864173956961433,\n",
       "     0.01043352516278638]},\n",
       "   {'x_list': [0, 50, 100, 150, 200, 250, 300, 400],\n",
       "    'y_list': [0.5225662362467602,\n",
       "     0.4406986188300408,\n",
       "     0.32329487854629696,\n",
       "     0.22321356558023125,\n",
       "     0.13701603147255612,\n",
       "     0.0855358052462627,\n",
       "     0.04156658300674209,\n",
       "     0.0009014499536223308]},\n",
       "   {'x_list': [0, 50, 100, 150, 200, 250, 300, 400],\n",
       "    'y_list': [0.5225662362467602,\n",
       "     0.4527242833593965,\n",
       "     0.39568857216931463,\n",
       "     0.21700525907087012,\n",
       "     0.15842145636937205,\n",
       "     0.1176235556954569,\n",
       "     0.07706231932658669,\n",
       "     0.013612268088715709]},\n",
       "   {'x_list': [0, 50, 100, 150, 200, 250, 300, 400],\n",
       "    'y_list': [0.5225662362467602,\n",
       "     0.4793504167892144,\n",
       "     0.32472778123123847,\n",
       "     0.22629664572803138,\n",
       "     0.16774869119564487,\n",
       "     0.08214332812683026,\n",
       "     0.07185998182315345,\n",
       "     0.005502098493273024]}],\n",
       "  'mean_difference': [{'x_list': [0, 50, 100, 150, 200, 250, 300, 400],\n",
       "    'y_list': [0.6767137,\n",
       "     0.53336596,\n",
       "     0.4687108,\n",
       "     0.35853094,\n",
       "     0.26716572,\n",
       "     0.19602633,\n",
       "     0.1329372,\n",
       "     0.029582992]},\n",
       "   {'x_list': [0, 50, 100, 150, 200, 250, 300, 400],\n",
       "    'y_list': [0.6767137,\n",
       "     0.61212635,\n",
       "     0.4499816,\n",
       "     0.4299226,\n",
       "     0.3231356,\n",
       "     0.19558051,\n",
       "     0.13946322,\n",
       "     0.052360058]},\n",
       "   {'x_list': [0, 50, 100, 150, 200, 250, 300, 400],\n",
       "    'y_list': [0.6767137,\n",
       "     0.5562812,\n",
       "     0.47780856,\n",
       "     0.43207225,\n",
       "     0.28628835,\n",
       "     0.2247208,\n",
       "     0.12902513,\n",
       "     0.0233787]},\n",
       "   {'x_list': [0, 50, 100, 150, 200, 250, 300, 400],\n",
       "    'y_list': [0.6767137,\n",
       "     0.50818014,\n",
       "     0.52102757,\n",
       "     0.39536306,\n",
       "     0.26686034,\n",
       "     0.21221536,\n",
       "     0.15463576,\n",
       "     0.044472784]},\n",
       "   {'x_list': [0, 50, 100, 150, 200, 250, 300, 400],\n",
       "    'y_list': [0.6767137,\n",
       "     0.5785637,\n",
       "     0.51324654,\n",
       "     0.35301313,\n",
       "     0.27673918,\n",
       "     0.20092204,\n",
       "     0.15444726,\n",
       "     0.04479803]},\n",
       "   {'x_list': [0, 50, 100, 150, 200, 250, 300, 400],\n",
       "    'y_list': [0.6767137,\n",
       "     0.4622052,\n",
       "     0.4436004,\n",
       "     0.45751193,\n",
       "     0.23099911,\n",
       "     0.25269726,\n",
       "     0.16258273,\n",
       "     0.057524443]},\n",
       "   {'x_list': [0, 50, 100, 150, 200, 250, 300, 400],\n",
       "    'y_list': [0.6767137,\n",
       "     0.5694648,\n",
       "     0.50269413,\n",
       "     0.37728706,\n",
       "     0.37637153,\n",
       "     0.18712857,\n",
       "     0.15843341,\n",
       "     0.053361624]},\n",
       "   {'x_list': [0, 50, 100, 150, 200, 250, 300, 400],\n",
       "    'y_list': [0.6767137,\n",
       "     0.5814539,\n",
       "     0.45362517,\n",
       "     0.36589295,\n",
       "     0.2917905,\n",
       "     0.21284956,\n",
       "     0.14991423,\n",
       "     0.022253484]},\n",
       "   {'x_list': [0, 50, 100, 150, 200, 250, 300, 400],\n",
       "    'y_list': [0.6767137,\n",
       "     0.51088977,\n",
       "     0.49505427,\n",
       "     0.3979207,\n",
       "     0.31280074,\n",
       "     0.27971685,\n",
       "     0.15803996,\n",
       "     0.04444769]},\n",
       "   {'x_list': [0, 50, 100, 150, 200, 250, 300, 400],\n",
       "    'y_list': [0.6767137,\n",
       "     0.57870567,\n",
       "     0.49306998,\n",
       "     0.37815836,\n",
       "     0.29674277,\n",
       "     0.21459725,\n",
       "     0.16426158,\n",
       "     0.07210079]}],\n",
       "  'median_difference': [{'x_list': [0, 50, 100, 150, 200, 250, 300, 400],\n",
       "    'y_list': [0.88819927,\n",
       "     0.85455984,\n",
       "     0.68435144,\n",
       "     0.5070757,\n",
       "     0.23523636,\n",
       "     0.091753885,\n",
       "     0.036357984,\n",
       "     0.02007769]},\n",
       "   {'x_list': [0, 50, 100, 150, 200, 250, 300, 400],\n",
       "    'y_list': [0.88819927,\n",
       "     0.86403865,\n",
       "     0.59789175,\n",
       "     0.5282407,\n",
       "     0.15515816,\n",
       "     0.06220813,\n",
       "     0.032635786,\n",
       "     0.027640454]},\n",
       "   {'x_list': [0, 50, 100, 150, 200, 250, 300, 400],\n",
       "    'y_list': [0.88819927,\n",
       "     0.86403865,\n",
       "     0.7942689,\n",
       "     0.23967333,\n",
       "     0.23523636,\n",
       "     0.15515816,\n",
       "     0.04297048,\n",
       "     0.032635786]},\n",
       "   {'x_list': [0, 50, 100, 150, 200, 250, 300, 400],\n",
       "    'y_list': [0.88819927,\n",
       "     0.84349793,\n",
       "     0.7355996,\n",
       "     0.60338014,\n",
       "     0.17364354,\n",
       "     0.073890135,\n",
       "     0.04297048,\n",
       "     0.027640454]},\n",
       "   {'x_list': [0, 50, 100, 150, 200, 250, 300, 400],\n",
       "    'y_list': [0.88819927,\n",
       "     0.78102475,\n",
       "     0.68435144,\n",
       "     0.26758665,\n",
       "     0.17963882,\n",
       "     0.06220813,\n",
       "     0.06220813,\n",
       "     0.020213015]},\n",
       "   {'x_list': [0, 50, 100, 150, 200, 250, 300, 400],\n",
       "    'y_list': [0.88819927,\n",
       "     0.857668,\n",
       "     0.58221525,\n",
       "     0.3825335,\n",
       "     0.091753885,\n",
       "     0.058206722,\n",
       "     0.081262186,\n",
       "     0.020213015]},\n",
       "   {'x_list': [0, 50, 100, 150, 200, 250, 300, 400],\n",
       "    'y_list': [0.88819927,\n",
       "     0.82348573,\n",
       "     0.7770801,\n",
       "     0.34896493,\n",
       "     0.11591992,\n",
       "     0.058206722,\n",
       "     0.04297048,\n",
       "     0.032635786]},\n",
       "   {'x_list': [0, 50, 100, 150, 200, 250, 300, 400],\n",
       "    'y_list': [0.88819927,\n",
       "     0.7899235,\n",
       "     0.6042651,\n",
       "     0.4051141,\n",
       "     0.15515816,\n",
       "     0.12641163,\n",
       "     0.036357984,\n",
       "     0.016981646]},\n",
       "   {'x_list': [0, 50, 100, 150, 200, 250, 300, 400],\n",
       "    'y_list': [0.88819927,\n",
       "     0.81324464,\n",
       "     0.76176393,\n",
       "     0.37028015,\n",
       "     0.18159468,\n",
       "     0.081262186,\n",
       "     0.036357984,\n",
       "     0.02007769]},\n",
       "   {'x_list': [0, 50, 100, 150, 200, 250, 300, 400],\n",
       "    'y_list': [0.88819927,\n",
       "     0.857668,\n",
       "     0.68435144,\n",
       "     0.18159468,\n",
       "     0.12641163,\n",
       "     0.06220813,\n",
       "     0.04297048,\n",
       "     0.011373155]}]},\n",
       " 'CF_OTMatch': {'optimal_transport': [{'x_list': [0,\n",
       "     50,\n",
       "     100,\n",
       "     150,\n",
       "     200,\n",
       "     250,\n",
       "     300,\n",
       "     400],\n",
       "    'y_list': [0.5225662362467602,\n",
       "     0.13698635226089895,\n",
       "     0.04767686797755121,\n",
       "     0.02897791919529482,\n",
       "     0.01930452401049479,\n",
       "     0.025749899442307652,\n",
       "     0.016484429640695453,\n",
       "     0.00011908070184290408]},\n",
       "   {'x_list': [0, 50, 100, 150, 200, 250, 300, 400],\n",
       "    'y_list': [0.5225662362467602,\n",
       "     0.1574483603197989,\n",
       "     0.04348992715772819,\n",
       "     0.02916790666988163,\n",
       "     0.03343776457475542,\n",
       "     0.02640846330903514,\n",
       "     0.006054480755701661,\n",
       "     0.005059892255812884]},\n",
       "   {'x_list': [0, 50, 100, 150, 200, 250, 300, 400],\n",
       "    'y_list': [0.5225662362467602,\n",
       "     0.11798537130504885,\n",
       "     0.04780298825969399,\n",
       "     0.02897791919529482,\n",
       "     0.01621003398902758,\n",
       "     0.011502562278183177,\n",
       "     0.0003531305491924286,\n",
       "     2.5255382061004637e-05]},\n",
       "   {'x_list': [0, 50, 100, 150, 200, 250, 300, 400],\n",
       "    'y_list': [0.5225662362467602,\n",
       "     0.14632971202320094,\n",
       "     0.042859800832896686,\n",
       "     0.033364107499346575,\n",
       "     0.03158144871587865,\n",
       "     0.028662637176439604,\n",
       "     0.014773909953655677,\n",
       "     0.0060888260870524385]},\n",
       "   {'x_list': [0, 50, 100, 150, 200, 250, 300, 400],\n",
       "    'y_list': [0.5225662362467602,\n",
       "     0.14798825067639884,\n",
       "     0.048389646092642485,\n",
       "     0.033364107499346575,\n",
       "     0.013144529876281015,\n",
       "     0.01654736629685431,\n",
       "     0.004965078720124438,\n",
       "     0.0057262633088976155]},\n",
       "   {'x_list': [0, 50, 100, 150, 200, 250, 300, 400],\n",
       "    'y_list': [0.5225662362467602,\n",
       "     0.11866528360474037,\n",
       "     0.03969134454336259,\n",
       "     0.02897791919529482,\n",
       "     0.028980025111213763,\n",
       "     0.01799067200277932,\n",
       "     0.011468643709067692,\n",
       "     0.005065362681634725]},\n",
       "   {'x_list': [0, 50, 100, 150, 200, 250, 300, 400],\n",
       "    'y_list': [0.5225662362467602,\n",
       "     0.11871934782541191,\n",
       "     0.03943954162934747,\n",
       "     0.025805115287639638,\n",
       "     0.01511945033329539,\n",
       "     0.007170801263982868,\n",
       "     0.011474903332982648,\n",
       "     0.007631130018853583]},\n",
       "   {'x_list': [0, 50, 100, 150, 200, 250, 300, 400],\n",
       "    'y_list': [0.5225662362467602,\n",
       "     0.11287496844596023,\n",
       "     0.03758847631231528,\n",
       "     0.032984794268832045,\n",
       "     0.031676037202105364,\n",
       "     0.025168943316657533,\n",
       "     0.0007452148443553596,\n",
       "     0.0]},\n",
       "   {'x_list': [0, 50, 100, 150, 200, 250, 300, 400],\n",
       "    'y_list': [0.5225662362467602,\n",
       "     0.1083490551043933,\n",
       "     0.04408143645192527,\n",
       "     0.031191155889518995,\n",
       "     0.032984794268832045,\n",
       "     0.02700764568406157,\n",
       "     0.009444465114484046,\n",
       "     0.0020692889072233813]},\n",
       "   {'x_list': [0, 50, 100, 150, 200, 250, 300, 400],\n",
       "    'y_list': [0.5225662362467602,\n",
       "     0.14616110690598635,\n",
       "     0.03901338159394131,\n",
       "     0.033364107499346575,\n",
       "     0.023383327027549968,\n",
       "     0.02708916258530735,\n",
       "     0.027580485378839514,\n",
       "     0.010971559071913361]}],\n",
       "  'mean_difference': [{'x_list': [0, 50, 100, 150, 200, 250, 300, 400],\n",
       "    'y_list': [0.6767137,\n",
       "     0.30044514,\n",
       "     0.13693506,\n",
       "     0.11293426,\n",
       "     0.11293426,\n",
       "     0.0671711,\n",
       "     0.022754505,\n",
       "     0.008731976]},\n",
       "   {'x_list': [0, 50, 100, 150, 200, 250, 300, 400],\n",
       "    'y_list': [0.6767137,\n",
       "     0.28294566,\n",
       "     0.15388787,\n",
       "     0.101233974,\n",
       "     0.08389214,\n",
       "     0.0856781,\n",
       "     0.05623518,\n",
       "     0.029351085]},\n",
       "   {'x_list': [0, 50, 100, 150, 200, 250, 300, 400],\n",
       "    'y_list': [0.6767137,\n",
       "     0.25531918,\n",
       "     0.13347086,\n",
       "     0.10879025,\n",
       "     0.056368887,\n",
       "     0.079277724,\n",
       "     0.06782329,\n",
       "     0.015201181]},\n",
       "   {'x_list': [0, 50, 100, 150, 200, 250, 300, 400],\n",
       "    'y_list': [0.6767137,\n",
       "     0.2646458,\n",
       "     0.11880578,\n",
       "     0.104086,\n",
       "     0.07792579,\n",
       "     0.058794633,\n",
       "     0.054897264,\n",
       "     0.026513845]},\n",
       "   {'x_list': [0, 50, 100, 150, 200, 250, 300, 400],\n",
       "    'y_list': [0.6767137,\n",
       "     0.29321083,\n",
       "     0.14063409,\n",
       "     0.11910747,\n",
       "     0.10363349,\n",
       "     0.05531627,\n",
       "     0.055165708,\n",
       "     0.017618895]},\n",
       "   {'x_list': [0, 50, 100, 150, 200, 250, 300, 400],\n",
       "    'y_list': [0.6767137,\n",
       "     0.29655206,\n",
       "     0.12511954,\n",
       "     0.09773308,\n",
       "     0.09381522,\n",
       "     0.11389002,\n",
       "     0.07280387,\n",
       "     0.044628143]},\n",
       "   {'x_list': [0, 50, 100, 150, 200, 250, 300, 400],\n",
       "    'y_list': [0.6767137,\n",
       "     0.28416026,\n",
       "     0.11312032,\n",
       "     0.111691475,\n",
       "     0.051467627,\n",
       "     0.022280455,\n",
       "     0.038593218,\n",
       "     0.023432449]},\n",
       "   {'x_list': [0, 50, 100, 150, 200, 250, 300, 400],\n",
       "    'y_list': [0.6767137,\n",
       "     0.27237767,\n",
       "     0.1359064,\n",
       "     0.104086,\n",
       "     0.10065211,\n",
       "     0.06115535,\n",
       "     0.03814046,\n",
       "     0.023710266]},\n",
       "   {'x_list': [0, 50, 100, 150, 200, 250, 300, 400],\n",
       "    'y_list': [0.6767137,\n",
       "     0.2523685,\n",
       "     0.13532665,\n",
       "     0.11293426,\n",
       "     0.11293426,\n",
       "     0.10388976,\n",
       "     0.014253989,\n",
       "     0.0]},\n",
       "   {'x_list': [0, 50, 100, 150, 200, 250, 300, 400],\n",
       "    'y_list': [0.6767137,\n",
       "     0.296957,\n",
       "     0.15467915,\n",
       "     0.11293426,\n",
       "     0.07947107,\n",
       "     0.06781356,\n",
       "     0.054099306,\n",
       "     0.0072268844]}],\n",
       "  'median_difference': [{'x_list': [0, 50, 100, 150, 200, 250, 300, 400],\n",
       "    'y_list': [0.88819927,\n",
       "     0.20968021,\n",
       "     0.07098174,\n",
       "     0.020213015,\n",
       "     0.034916893,\n",
       "     0.016981646,\n",
       "     0.016981646,\n",
       "     0.010858297]},\n",
       "   {'x_list': [0, 50, 100, 150, 200, 250, 300, 400],\n",
       "    'y_list': [0.88819927,\n",
       "     0.24579807,\n",
       "     0.04297048,\n",
       "     0.034916893,\n",
       "     0.034916893,\n",
       "     0.03924828,\n",
       "     0.011373155,\n",
       "     0.0]},\n",
       "   {'x_list': [0, 50, 100, 150, 200, 250, 300, 400],\n",
       "    'y_list': [0.88819927,\n",
       "     0.26305068,\n",
       "     0.034916893,\n",
       "     0.034916893,\n",
       "     0.034916893,\n",
       "     0.011373155,\n",
       "     0.020213015,\n",
       "     0.0]},\n",
       "   {'x_list': [0, 50, 100, 150, 200, 250, 300, 400],\n",
       "    'y_list': [0.88819927,\n",
       "     0.1567034,\n",
       "     0.04769192,\n",
       "     0.03924828,\n",
       "     0.020213015,\n",
       "     0.016981646,\n",
       "     0.016981646,\n",
       "     0.0]},\n",
       "   {'x_list': [0, 50, 100, 150, 200, 250, 300, 400],\n",
       "    'y_list': [0.88819927,\n",
       "     0.20968021,\n",
       "     0.058206722,\n",
       "     0.034916893,\n",
       "     0.034916893,\n",
       "     0.011373155,\n",
       "     0.016981646,\n",
       "     0.0]},\n",
       "   {'x_list': [0, 50, 100, 150, 200, 250, 300, 400],\n",
       "    'y_list': [0.88819927,\n",
       "     0.26044005,\n",
       "     0.04769192,\n",
       "     0.034916893,\n",
       "     0.020213015,\n",
       "     0.016981646,\n",
       "     0.020213015,\n",
       "     0.016981646]},\n",
       "   {'x_list': [0, 50, 100, 150, 200, 250, 300, 400],\n",
       "    'y_list': [0.88819927,\n",
       "     0.17364354,\n",
       "     0.058206722,\n",
       "     0.034916893,\n",
       "     0.034916893,\n",
       "     0.0,\n",
       "     0.011373155,\n",
       "     0.0]},\n",
       "   {'x_list': [0, 50, 100, 150, 200, 250, 300, 400],\n",
       "    'y_list': [0.88819927,\n",
       "     0.30555588,\n",
       "     0.058206722,\n",
       "     0.020213015,\n",
       "     0.027640454,\n",
       "     0.020213015,\n",
       "     0.011373155,\n",
       "     0.0]},\n",
       "   {'x_list': [0, 50, 100, 150, 200, 250, 300, 400],\n",
       "    'y_list': [0.88819927,\n",
       "     0.15195659,\n",
       "     0.074983165,\n",
       "     0.034916893,\n",
       "     0.016981646,\n",
       "     0.011373155,\n",
       "     0.016981646,\n",
       "     0.016981646]},\n",
       "   {'x_list': [0, 50, 100, 150, 200, 250, 300, 400],\n",
       "    'y_list': [0.88819927,\n",
       "     0.20772435,\n",
       "     0.034916893,\n",
       "     0.034916893,\n",
       "     0.020213015,\n",
       "     0.0,\n",
       "     0.016981646,\n",
       "     0.0]}]},\n",
       " 'CF_OTMatch_0.5': {'optimal_transport': [{'x_list': [0,\n",
       "     50,\n",
       "     100,\n",
       "     150,\n",
       "     200,\n",
       "     250,\n",
       "     300,\n",
       "     400],\n",
       "    'y_list': [0.5225662362467602,\n",
       "     0.28847064795055466,\n",
       "     0.09702151256008665,\n",
       "     0.040116754286525974,\n",
       "     0.01500119030958319,\n",
       "     0.0028455415191327924,\n",
       "     0.00011204019056094694,\n",
       "     0.0]},\n",
       "   {'x_list': [0, 50, 100, 150, 200, 250, 300, 400],\n",
       "    'y_list': [0.5225662362467602,\n",
       "     0.23291668230965673,\n",
       "     0.11485549854795411,\n",
       "     0.055353307620392686,\n",
       "     0.0182405809148037,\n",
       "     0.00025273833330689225,\n",
       "     0.0007791702962691981,\n",
       "     0.0]},\n",
       "   {'x_list': [0, 50, 100, 150, 200, 250, 300, 400],\n",
       "    'y_list': [0.5225662362467602,\n",
       "     0.27067361504703447,\n",
       "     0.23947717731992774,\n",
       "     0.047956752739972214,\n",
       "     0.009282974155590323,\n",
       "     0.0020542613151391274,\n",
       "     0.00012795484474362518,\n",
       "     0.0]},\n",
       "   {'x_list': [0, 50, 100, 150, 200, 250, 300, 400],\n",
       "    'y_list': [0.5225662362467602,\n",
       "     0.2860566625352333,\n",
       "     0.11661622990058948,\n",
       "     0.02447959730927326,\n",
       "     0.007411231929014007,\n",
       "     0.002309294532984181,\n",
       "     0.000680153277893818,\n",
       "     0.0]},\n",
       "   {'x_list': [0, 50, 100, 150, 200, 250, 300, 400],\n",
       "    'y_list': [0.5225662362467602,\n",
       "     0.264377472511532,\n",
       "     0.14818437002100085,\n",
       "     0.04442236227040655,\n",
       "     0.006998067583838887,\n",
       "     7.12955295474682e-05,\n",
       "     0.0002252878370435507,\n",
       "     0.0]},\n",
       "   {'x_list': [0, 50, 100, 150, 200, 250, 300, 400],\n",
       "    'y_list': [0.5225662362467602,\n",
       "     0.2717116182714101,\n",
       "     0.1321293135406829,\n",
       "     0.02785350647487181,\n",
       "     0.002161050210482385,\n",
       "     0.0018534187276378856,\n",
       "     9.159565019731808e-05,\n",
       "     0.0]},\n",
       "   {'x_list': [0, 50, 100, 150, 200, 250, 300, 400],\n",
       "    'y_list': [0.5225662362467602,\n",
       "     0.25829465747813574,\n",
       "     0.21486265597637544,\n",
       "     0.038523315811027484,\n",
       "     0.01931931859306121,\n",
       "     0.00017682745020979773,\n",
       "     0.00012466241227230057,\n",
       "     0.0]},\n",
       "   {'x_list': [0, 50, 100, 150, 200, 250, 300, 400],\n",
       "    'y_list': [0.5225662362467602,\n",
       "     0.2860190119684597,\n",
       "     0.07952814958599436,\n",
       "     0.03573379173345134,\n",
       "     0.025094744804409885,\n",
       "     0.00023829525014039453,\n",
       "     6.0956394978246565e-05,\n",
       "     0.0]},\n",
       "   {'x_list': [0, 50, 100, 150, 200, 250, 300, 400],\n",
       "    'y_list': [0.5225662362467602,\n",
       "     0.24843487120217947,\n",
       "     0.12992889416734602,\n",
       "     0.06087858288047005,\n",
       "     0.0085912615683043,\n",
       "     0.0016730584115390724,\n",
       "     0.0001544648320538311,\n",
       "     0.0]},\n",
       "   {'x_list': [0, 50, 100, 150, 200, 250, 300, 400],\n",
       "    'y_list': [0.5225662362467602,\n",
       "     0.23268779862990233,\n",
       "     0.1220050048334588,\n",
       "     0.03957310198645973,\n",
       "     0.005984864741233791,\n",
       "     0.001360387587288541,\n",
       "     0.0006104831153476465,\n",
       "     0.0]}],\n",
       "  'mean_difference': [{'x_list': [0, 50, 100, 150, 200, 250, 300, 400],\n",
       "    'y_list': [0.6767137,\n",
       "     0.4469039,\n",
       "     0.25899202,\n",
       "     0.20182559,\n",
       "     0.050946206,\n",
       "     0.022060752,\n",
       "     0.007317826,\n",
       "     0.0]},\n",
       "   {'x_list': [0, 50, 100, 150, 200, 250, 300, 400],\n",
       "    'y_list': [0.6767137,\n",
       "     0.4007446,\n",
       "     0.27909836,\n",
       "     0.1040024,\n",
       "     0.08887887,\n",
       "     0.02038221,\n",
       "     0.0016373545,\n",
       "     0.0]},\n",
       "   {'x_list': [0, 50, 100, 150, 200, 250, 300, 400],\n",
       "    'y_list': [0.6767137,\n",
       "     0.45610276,\n",
       "     0.2737631,\n",
       "     0.0963334,\n",
       "     0.12172213,\n",
       "     0.0106498,\n",
       "     0.011368647,\n",
       "     0.0]},\n",
       "   {'x_list': [0, 50, 100, 150, 200, 250, 300, 400],\n",
       "    'y_list': [0.6767137,\n",
       "     0.43821767,\n",
       "     0.19271818,\n",
       "     0.0929987,\n",
       "     0.09560792,\n",
       "     0.0030163676,\n",
       "     0.0053588003,\n",
       "     0.0]},\n",
       "   {'x_list': [0, 50, 100, 150, 200, 250, 300, 400],\n",
       "    'y_list': [0.6767137,\n",
       "     0.37978962,\n",
       "     0.23355168,\n",
       "     0.17562294,\n",
       "     0.07435335,\n",
       "     0.032239094,\n",
       "     0.0104702115,\n",
       "     0.0]},\n",
       "   {'x_list': [0, 50, 100, 150, 200, 250, 300, 400],\n",
       "    'y_list': [0.6767137,\n",
       "     0.38022158,\n",
       "     0.24689296,\n",
       "     0.09578702,\n",
       "     0.060727403,\n",
       "     0.037106454,\n",
       "     0.0021768808,\n",
       "     0.0]},\n",
       "   {'x_list': [0, 50, 100, 150, 200, 250, 300, 400],\n",
       "    'y_list': [0.6767137,\n",
       "     0.41602013,\n",
       "     0.26731,\n",
       "     0.118095815,\n",
       "     0.007374972,\n",
       "     0.03553997,\n",
       "     0.0008596033,\n",
       "     0.0]},\n",
       "   {'x_list': [0, 50, 100, 150, 200, 250, 300, 400],\n",
       "    'y_list': [0.6767137,\n",
       "     0.3933302,\n",
       "     0.31596482,\n",
       "     0.11847864,\n",
       "     0.056399316,\n",
       "     0.0031410903,\n",
       "     0.0013136864,\n",
       "     0.0]},\n",
       "   {'x_list': [0, 50, 100, 150, 200, 250, 300, 400],\n",
       "    'y_list': [0.6767137,\n",
       "     0.4946663,\n",
       "     0.31365335,\n",
       "     0.07700293,\n",
       "     0.057880506,\n",
       "     0.028250754,\n",
       "     0.00466536,\n",
       "     0.0]},\n",
       "   {'x_list': [0, 50, 100, 150, 200, 250, 300, 400],\n",
       "    'y_list': [0.6767137,\n",
       "     0.42738977,\n",
       "     0.2610838,\n",
       "     0.10830122,\n",
       "     0.09123869,\n",
       "     0.033996075,\n",
       "     0.0053903908,\n",
       "     0.0]}],\n",
       "  'median_difference': [{'x_list': [0, 50, 100, 150, 200, 250, 300, 400],\n",
       "    'y_list': [0.88819927,\n",
       "     0.7870802,\n",
       "     0.16630353,\n",
       "     0.058206722,\n",
       "     0.011373155,\n",
       "     0.0030574203,\n",
       "     0.008315727,\n",
       "     0.0]},\n",
       "   {'x_list': [0, 50, 100, 150, 200, 250, 300, 400],\n",
       "    'y_list': [0.88819927,\n",
       "     0.6713982,\n",
       "     0.09897977,\n",
       "     0.028304398,\n",
       "     0.0030574203,\n",
       "     0.0054731667,\n",
       "     0.018729769,\n",
       "     0.0]},\n",
       "   {'x_list': [0, 50, 100, 150, 200, 250, 300, 400],\n",
       "    'y_list': [0.88819927,\n",
       "     0.6229951,\n",
       "     0.081262186,\n",
       "     0.031362653,\n",
       "     0.020710234,\n",
       "     0.026165955,\n",
       "     0.018729769,\n",
       "     0.0]},\n",
       "   {'x_list': [0, 50, 100, 150, 200, 250, 300, 400],\n",
       "    'y_list': [0.88819927,\n",
       "     0.38289982,\n",
       "     0.16630353,\n",
       "     0.034916893,\n",
       "     0.028730549,\n",
       "     0.01816766,\n",
       "     0.021707863,\n",
       "     0.0]},\n",
       "   {'x_list': [0, 50, 100, 150, 200, 250, 300, 400],\n",
       "    'y_list': [0.88819927,\n",
       "     0.7063216,\n",
       "     0.13821802,\n",
       "     0.016981646,\n",
       "     0.017103225,\n",
       "     0.013274044,\n",
       "     0.0098519325,\n",
       "     0.0]},\n",
       "   {'x_list': [0, 50, 100, 150, 200, 250, 300, 400],\n",
       "    'y_list': [0.88819927,\n",
       "     0.76465505,\n",
       "     0.16630353,\n",
       "     0.031362653,\n",
       "     0.0030574203,\n",
       "     0.018729769,\n",
       "     0.013274044,\n",
       "     0.0]},\n",
       "   {'x_list': [0, 50, 100, 150, 200, 250, 300, 400],\n",
       "    'y_list': [0.88819927,\n",
       "     0.67135984,\n",
       "     0.074983165,\n",
       "     0.013274044,\n",
       "     0.027640454,\n",
       "     0.020710234,\n",
       "     0.008315727,\n",
       "     0.0]},\n",
       "   {'x_list': [0, 50, 100, 150, 200, 250, 300, 400],\n",
       "    'y_list': [0.88819927,\n",
       "     0.6234976,\n",
       "     0.26958936,\n",
       "     0.020334601,\n",
       "     0.0024157465,\n",
       "     0.020710234,\n",
       "     0.008315727,\n",
       "     0.0]},\n",
       "   {'x_list': [0, 50, 100, 150, 200, 250, 300, 400],\n",
       "    'y_list': [0.88819927,\n",
       "     0.45574665,\n",
       "     0.13821802,\n",
       "     0.07098174,\n",
       "     0.02007769,\n",
       "     0.020710234,\n",
       "     0.0098519325,\n",
       "     0.0]},\n",
       "   {'x_list': [0, 50, 100, 150, 200, 250, 300, 400],\n",
       "    'y_list': [0.88819927,\n",
       "     0.76989144,\n",
       "     0.075675175,\n",
       "     0.0030574203,\n",
       "     0.020710234,\n",
       "     0.0024157465,\n",
       "     0.018729769,\n",
       "     0.0]}]},\n",
       " 'CF_OTMatch_1.0': {'optimal_transport': [{'x_list': [0,\n",
       "     50,\n",
       "     100,\n",
       "     150,\n",
       "     200,\n",
       "     250,\n",
       "     300,\n",
       "     400],\n",
       "    'y_list': [0.5225662362467602,\n",
       "     0.3020585213711769,\n",
       "     0.16385952562882083,\n",
       "     0.07230102293179233,\n",
       "     0.027863940927610884,\n",
       "     0.0015692531351357085,\n",
       "     0.0006076546496894064,\n",
       "     5.825532527524046e-05]},\n",
       "   {'x_list': [0, 50, 100, 150, 200, 250, 300, 400],\n",
       "    'y_list': [0.5225662362467602,\n",
       "     0.2767449524136838,\n",
       "     0.16424105769990718,\n",
       "     0.11437485072103913,\n",
       "     0.06427174060378618,\n",
       "     0.029691849300330118,\n",
       "     0.007518734607770652,\n",
       "     3.3315847831545396e-05]},\n",
       "   {'x_list': [0, 50, 100, 150, 200, 250, 300, 400],\n",
       "    'y_list': [0.5225662362467602,\n",
       "     0.344123174923913,\n",
       "     0.23131252743020414,\n",
       "     0.09155896552599416,\n",
       "     0.0510348963422945,\n",
       "     0.023853867796280383,\n",
       "     0.0018450147452897124,\n",
       "     0.00015471409074962138]},\n",
       "   {'x_list': [0, 50, 100, 150, 200, 250, 300, 400],\n",
       "    'y_list': [0.5225662362467602,\n",
       "     0.2761772058471864,\n",
       "     0.13682336790097838,\n",
       "     0.09209127410465771,\n",
       "     0.06642507560002957,\n",
       "     0.019847831515632946,\n",
       "     0.0026824558374430253,\n",
       "     3.315879963338375e-05]},\n",
       "   {'x_list': [0, 50, 100, 150, 200, 250, 300, 400],\n",
       "    'y_list': [0.5225662362467602,\n",
       "     0.28727016859084575,\n",
       "     0.16215812778756505,\n",
       "     0.05039673579395412,\n",
       "     0.050682180293058425,\n",
       "     0.027279639051969895,\n",
       "     0.010268654341866745,\n",
       "     0.004071630528196693]},\n",
       "   {'x_list': [0, 50, 100, 150, 200, 250, 300, 400],\n",
       "    'y_list': [0.5225662362467602,\n",
       "     0.3830214006506213,\n",
       "     0.1648918298625306,\n",
       "     0.09570806960828566,\n",
       "     0.05631823473000214,\n",
       "     0.025287089520741005,\n",
       "     0.007049572158981077,\n",
       "     5.784093402326107e-05]},\n",
       "   {'x_list': [0, 50, 100, 150, 200, 250, 300, 400],\n",
       "    'y_list': [0.5225662362467602,\n",
       "     0.3329991861554782,\n",
       "     0.16822194822466885,\n",
       "     0.0944177034205659,\n",
       "     0.02539223426067653,\n",
       "     0.007603694239192604,\n",
       "     0.002008095869627335,\n",
       "     0.0004051285609602928]},\n",
       "   {'x_list': [0, 50, 100, 150, 200, 250, 300, 400],\n",
       "    'y_list': [0.5225662362467602,\n",
       "     0.34043539635311904,\n",
       "     0.1564382593788996,\n",
       "     0.09589215760807565,\n",
       "     0.03896771603895334,\n",
       "     0.015245150761725796,\n",
       "     0.014936903373170366,\n",
       "     0.00014311451464891434]},\n",
       "   {'x_list': [0, 50, 100, 150, 200, 250, 300, 400],\n",
       "    'y_list': [0.5225662362467602,\n",
       "     0.3019206818256173,\n",
       "     0.23545631654901344,\n",
       "     0.12940229542158407,\n",
       "     0.014863103475606635,\n",
       "     0.01100581748188854,\n",
       "     0.0035777968908951153,\n",
       "     0.004181586243212223]},\n",
       "   {'x_list': [0, 50, 100, 150, 200, 250, 300, 400],\n",
       "    'y_list': [0.5225662362467602,\n",
       "     0.3369325166456821,\n",
       "     0.16970480348805655,\n",
       "     0.09554318885229623,\n",
       "     0.028539388923248366,\n",
       "     0.007849221005806966,\n",
       "     0.002552457809256934,\n",
       "     3.343505712109618e-05]}],\n",
       "  'mean_difference': [{'x_list': [0, 50, 100, 150, 200, 250, 300, 400],\n",
       "    'y_list': [0.6767137,\n",
       "     0.49505314,\n",
       "     0.31026423,\n",
       "     0.2094275,\n",
       "     0.08641939,\n",
       "     0.06677446,\n",
       "     0.024513066,\n",
       "     0.0]},\n",
       "   {'x_list': [0, 50, 100, 150, 200, 250, 300, 400],\n",
       "    'y_list': [0.6767137,\n",
       "     0.5746108,\n",
       "     0.23920056,\n",
       "     0.17030364,\n",
       "     0.14079088,\n",
       "     0.059903428,\n",
       "     0.020281032,\n",
       "     0.0021092296]},\n",
       "   {'x_list': [0, 50, 100, 150, 200, 250, 300, 400],\n",
       "    'y_list': [0.6767137,\n",
       "     0.48901305,\n",
       "     0.37094644,\n",
       "     0.21641752,\n",
       "     0.13204649,\n",
       "     0.04322052,\n",
       "     0.051776424,\n",
       "     0.0062472224]},\n",
       "   {'x_list': [0, 50, 100, 150, 200, 250, 300, 400],\n",
       "    'y_list': [0.6767137,\n",
       "     0.49425384,\n",
       "     0.29890534,\n",
       "     0.19513297,\n",
       "     0.1124087,\n",
       "     0.07589698,\n",
       "     0.03579636,\n",
       "     0.0021092296]},\n",
       "   {'x_list': [0, 50, 100, 150, 200, 250, 300, 400],\n",
       "    'y_list': [0.6767137,\n",
       "     0.51936793,\n",
       "     0.33582243,\n",
       "     0.24673226,\n",
       "     0.1527079,\n",
       "     0.12036818,\n",
       "     0.012170777,\n",
       "     0.005926609]},\n",
       "   {'x_list': [0, 50, 100, 150, 200, 250, 300, 400],\n",
       "    'y_list': [0.6767137,\n",
       "     0.51566005,\n",
       "     0.3096406,\n",
       "     0.21071288,\n",
       "     0.0994423,\n",
       "     0.09152794,\n",
       "     0.028242603,\n",
       "     0.0061187595]},\n",
       "   {'x_list': [0, 50, 100, 150, 200, 250, 300, 400],\n",
       "    'y_list': [0.6767137,\n",
       "     0.37042758,\n",
       "     0.33927828,\n",
       "     0.22780341,\n",
       "     0.11651693,\n",
       "     0.0637707,\n",
       "     0.020915076,\n",
       "     0.0074665695]},\n",
       "   {'x_list': [0, 50, 100, 150, 200, 250, 300, 400],\n",
       "    'y_list': [0.6767137,\n",
       "     0.5002084,\n",
       "     0.33315146,\n",
       "     0.21185598,\n",
       "     0.11341673,\n",
       "     0.025906086,\n",
       "     0.0051371306,\n",
       "     0.0062472224]},\n",
       "   {'x_list': [0, 50, 100, 150, 200, 250, 300, 400],\n",
       "    'y_list': [0.6767137,\n",
       "     0.5034095,\n",
       "     0.36673373,\n",
       "     0.29349408,\n",
       "     0.112541005,\n",
       "     0.09440218,\n",
       "     0.039208487,\n",
       "     0.005152151]},\n",
       "   {'x_list': [0, 50, 100, 150, 200, 250, 300, 400],\n",
       "    'y_list': [0.6767137,\n",
       "     0.49236247,\n",
       "     0.26984575,\n",
       "     0.2006028,\n",
       "     0.026434511,\n",
       "     0.060315847,\n",
       "     0.06946999,\n",
       "     0.0021092296]}],\n",
       "  'median_difference': [{'x_list': [0, 50, 100, 150, 200, 250, 300, 400],\n",
       "    'y_list': [0.88819927,\n",
       "     0.68435144,\n",
       "     0.58221525,\n",
       "     0.074983165,\n",
       "     0.0030574203,\n",
       "     0.0024157465,\n",
       "     0.013274044,\n",
       "     0.010849558]},\n",
       "   {'x_list': [0, 50, 100, 150, 200, 250, 300, 400],\n",
       "    'y_list': [0.88819927,\n",
       "     0.6391741,\n",
       "     0.07858355,\n",
       "     0.06220813,\n",
       "     0.020213015,\n",
       "     0.0030574203,\n",
       "     0.026165955,\n",
       "     0.01816766]},\n",
       "   {'x_list': [0, 50, 100, 150, 200, 250, 300, 400],\n",
       "    'y_list': [0.88819927,\n",
       "     0.84349793,\n",
       "     0.55770826,\n",
       "     0.028388187,\n",
       "     0.013274044,\n",
       "     0.020710234,\n",
       "     0.020213015,\n",
       "     0.016749546]},\n",
       "   {'x_list': [0, 50, 100, 150, 200, 250, 300, 400],\n",
       "    'y_list': [0.88819927,\n",
       "     0.85455984,\n",
       "     0.12387107,\n",
       "     0.081954196,\n",
       "     0.035694048,\n",
       "     0.020334601,\n",
       "     0.026165955,\n",
       "     0.016749546]},\n",
       "   {'x_list': [0, 50, 100, 150, 200, 250, 300, 400],\n",
       "    'y_list': [0.88819927,\n",
       "     0.75352174,\n",
       "     0.36479264,\n",
       "     0.017103225,\n",
       "     0.0054731667,\n",
       "     0.020710234,\n",
       "     0.027163588,\n",
       "     0.019165292]},\n",
       "   {'x_list': [0, 50, 100, 150, 200, 250, 300, 400],\n",
       "    'y_list': [0.88819927,\n",
       "     0.7444983,\n",
       "     0.6713982,\n",
       "     0.07858355,\n",
       "     0.011373155,\n",
       "     0.0024157465,\n",
       "     0.027163588,\n",
       "     0.016749546]},\n",
       "   {'x_list': [0, 50, 100, 150, 200, 250, 300, 400],\n",
       "    'y_list': [0.88819927,\n",
       "     0.6391741,\n",
       "     0.24579807,\n",
       "     0.081262186,\n",
       "     0.074983165,\n",
       "     0.013274044,\n",
       "     0.01816766,\n",
       "     0.016749546]},\n",
       "   {'x_list': [0, 50, 100, 150, 200, 250, 300, 400],\n",
       "    'y_list': [0.88819927,\n",
       "     0.81324464,\n",
       "     0.074983165,\n",
       "     0.15515816,\n",
       "     0.031362653,\n",
       "     0.00051485,\n",
       "     0.0098519325,\n",
       "     0.016749546]},\n",
       "   {'x_list': [0, 50, 100, 150, 200, 250, 300, 400],\n",
       "    'y_list': [0.88819927,\n",
       "     0.7616871,\n",
       "     0.5640816,\n",
       "     0.23523636,\n",
       "     0.059299752,\n",
       "     0.0024157465,\n",
       "     0.013274044,\n",
       "     0.019165292]},\n",
       "   {'x_list': [0, 50, 100, 150, 200, 250, 300, 400],\n",
       "    'y_list': [0.88819927,\n",
       "     0.67135984,\n",
       "     0.3700105,\n",
       "     0.12050043,\n",
       "     0.055745512,\n",
       "     0.016981646,\n",
       "     0.026601478,\n",
       "     0.016749546]}]},\n",
       " 'optimality': {'mean_difference': [{'x_list': [0,\n",
       "     50,\n",
       "     100,\n",
       "     150,\n",
       "     200,\n",
       "     250,\n",
       "     300,\n",
       "     400],\n",
       "    'y_list': [0.8599998950958252, 0.0, 0.0, 0.0, 0.0, 0.0, 0.0, 0.0]}]}}"
      ]
     },
     "execution_count": 108,
     "metadata": {},
     "output_type": "execute_result"
    }
   ],
   "source": [
    "experiment.distance_results['PyTorchDNN']['DiCE']"
   ]
  },
  {
   "cell_type": "code",
   "execution_count": 129,
   "metadata": {},
   "outputs": [
    {
     "data": {
      "image/png": "[encoded data removed]",
      "text/plain": [
       "<Figure size 1500x400 with 3 Axes>"
      ]
     },
     "metadata": {},
     "output_type": "display_data"
    }
   ],
   "source": [
    "from experiments import plotting\n",
    "\n",
    "plotting.intervention_vs_distance(experiment, save_to_file=False)"
   ]
  },
  {
   "cell_type": "code",
   "execution_count": null,
   "metadata": {},
   "outputs": [],
   "source": [
    "# import pickle\n",
    "# with open(f\"pickles/{dataset.name}_distance_results.pickle\", \"wb\") as output_file:\n",
    "#     pickle.dump(experiment.distance_results, output_file)"
   ]
  },
  {
   "cell_type": "code",
   "execution_count": 131,
   "metadata": {},
   "outputs": [],
   "source": [
    "from experiments.baseline import OptimalMeanDifference"
   ]
  },
  {
   "cell_type": "code",
   "execution_count": 132,
   "metadata": {},
   "outputs": [],
   "source": [
    "model_name = model.classifier.__class__.__name__"
   ]
  },
  {
   "cell_type": "code",
   "execution_count": 133,
   "metadata": {},
   "outputs": [],
   "source": [
    "X_factual = model_counterfactuals[model_name]['DiCE']['X_factual']\n",
    "X_counterfactual = model_counterfactuals[model_name]['DiCE']['X']"
   ]
  },
  {
   "cell_type": "code",
   "execution_count": 134,
   "metadata": {},
   "outputs": [],
   "source": [
    "optimal_mean_difference = OptimalMeanDifference(model, X_factual, X_counterfactual)"
   ]
  },
  {
   "cell_type": "code",
   "execution_count": 135,
   "metadata": {},
   "outputs": [
    {
     "data": {
      "text/plain": [
       "{'eta': 0.6767136536841278}"
      ]
     },
     "execution_count": 135,
     "metadata": {},
     "output_type": "execute_result"
    }
   ],
   "source": [
    "optimal_mean_difference.solve_problem(C=0)"
   ]
  },
  {
   "cell_type": "code",
   "execution_count": null,
   "metadata": {},
   "outputs": [],
   "source": []
  }
 ],
 "metadata": {
  "kernelspec": {
   "display_name": "base",
   "language": "python",
   "name": "python3"
  },
  "language_info": {
   "codemirror_mode": {
    "name": "ipython",
    "version": 3
   },
   "file_extension": ".py",
   "mimetype": "text/x-python",
   "name": "python",
   "nbconvert_exporter": "python",
   "pygments_lexer": "ipython3",
   "version": "3.9.13"
  }
 },
 "nbformat": 4,
 "nbformat_minor": 2
}
